{
 "cells": [
  {
   "cell_type": "code",
   "execution_count": 1,
   "metadata": {
    "scrolled": true
   },
   "outputs": [],
   "source": [
    "# Para este notebook, é necessária a instalação dos seguintes pacotes\n",
    "# Transformers (pip install)\n",
    "# Tensorflow (pip install)\n",
    "# Pytorch (conda)\n",
    "from transformers import pipeline\n",
    "import tensorflow\n",
    "import torch\n",
    "\n",
    "import nltk\n",
    "from nltk.corpus import stopwords\n",
    "import spacy\n",
    "import gensim\n",
    "\n",
    "import pandas as pd\n",
    "import numpy as np\n",
    "\n",
    "import matplotlib.pyplot as plt\n",
    "from PIL import Image\n",
    "\n",
    "import warnings\n",
    "warnings.filterwarnings('ignore')"
   ]
  },
  {
   "cell_type": "code",
   "execution_count": 2,
   "metadata": {
    "scrolled": true
   },
   "outputs": [],
   "source": [
    "path = \"C:\\\\Temp\\\\GoogleNews-vectors-negative300.bin\"\n",
    "w2v_model = gensim.models.KeyedVectors.load_word2vec_format(path, binary=True)"
   ]
  },
  {
   "cell_type": "code",
   "execution_count": 3,
   "metadata": {
    "scrolled": true
   },
   "outputs": [
    {
     "data": {
      "text/plain": [
       "array([-5.18798828e-04,  1.60156250e-01,  1.60980225e-03,  2.53906250e-02,\n",
       "        9.91210938e-02, -8.59375000e-02,  3.24218750e-01, -2.17285156e-02,\n",
       "        1.34765625e-01,  1.10351562e-01, -1.04980469e-01, -2.90527344e-02,\n",
       "       -2.38037109e-02, -4.02832031e-02, -3.68652344e-02,  2.32421875e-01,\n",
       "        3.20312500e-01,  1.01074219e-01,  5.83496094e-02, -2.91824341e-04,\n",
       "       -3.29589844e-02,  2.11914062e-01,  4.32128906e-02, -8.59375000e-02,\n",
       "        2.81250000e-01, -1.78222656e-02,  3.79943848e-03, -1.71875000e-01,\n",
       "        2.06054688e-01, -1.85546875e-01,  3.73535156e-02, -1.21459961e-02,\n",
       "        2.04101562e-01, -3.80859375e-02,  3.61328125e-02, -8.15429688e-02,\n",
       "        8.44726562e-02,  9.37500000e-02,  1.44531250e-01,  7.42187500e-02,\n",
       "        2.51953125e-01, -7.91015625e-02,  8.69140625e-02,  1.58691406e-02,\n",
       "        1.09375000e-01, -2.23632812e-01, -5.15747070e-03,  1.68945312e-01,\n",
       "       -1.36718750e-01, -2.51464844e-02, -3.85742188e-02, -1.33056641e-02,\n",
       "        1.38671875e-01,  1.76757812e-01,  1.10351562e-01,  1.51367188e-01,\n",
       "        7.86132812e-02, -1.69921875e-01,  1.20605469e-01, -4.37500000e-01,\n",
       "       -4.32128906e-02,  1.34765625e-01, -3.45703125e-01,  9.13085938e-02,\n",
       "        4.71191406e-02,  9.66796875e-02, -1.61132812e-02, -4.71191406e-02,\n",
       "       -4.68750000e-02,  1.37695312e-01,  9.96093750e-02,  4.49218750e-02,\n",
       "       -2.49023438e-02,  1.58203125e-01, -3.57421875e-01, -1.21093750e-01,\n",
       "        1.15722656e-01,  9.08203125e-02,  1.40625000e-01,  1.60156250e-01,\n",
       "       -4.42504883e-03,  5.34667969e-02,  2.28515625e-01,  1.88476562e-01,\n",
       "       -3.88183594e-02, -2.53906250e-01, -1.74804688e-01,  9.81445312e-02,\n",
       "        1.08642578e-02,  1.41601562e-01,  7.81250000e-03,  1.36718750e-01,\n",
       "       -2.08007812e-01, -3.41796875e-02, -2.50000000e-01,  1.25976562e-01,\n",
       "        1.57226562e-01,  3.31115723e-03, -1.51367188e-01, -6.98242188e-02,\n",
       "       -1.40625000e-01,  2.06054688e-01, -3.54003906e-02,  1.57226562e-01,\n",
       "        5.83496094e-02, -3.58886719e-02,  2.12890625e-01, -1.13769531e-01,\n",
       "        1.41601562e-01, -1.29394531e-02,  9.13085938e-02, -3.95507812e-02,\n",
       "        9.76562500e-02, -2.69775391e-02,  1.30004883e-02, -1.30859375e-01,\n",
       "        3.32031250e-01, -3.53515625e-01, -5.44433594e-02, -2.50244141e-02,\n",
       "       -1.42578125e-01,  6.49414062e-02,  5.54199219e-02, -4.83398438e-02,\n",
       "       -1.12304688e-01, -1.32812500e-01, -6.73828125e-02, -1.41601562e-01,\n",
       "       -2.05078125e-01, -1.29882812e-01, -1.04003906e-01, -8.10546875e-02,\n",
       "       -1.67968750e-01,  1.63085938e-01, -1.13769531e-01, -5.17578125e-02,\n",
       "        7.61718750e-02,  3.59375000e-01,  1.04003906e-01,  3.59375000e-01,\n",
       "       -8.74023438e-02,  6.54296875e-02, -1.09863281e-02, -1.88476562e-01,\n",
       "       -6.59179688e-02,  2.30468750e-01, -2.96875000e-01,  6.59179688e-03,\n",
       "        1.49414062e-01, -1.73828125e-01,  1.31835938e-01,  2.36328125e-01,\n",
       "       -9.22851562e-02,  1.70898438e-01, -1.70898438e-02,  3.12500000e-02,\n",
       "       -3.37219238e-03,  9.66796875e-02, -2.61718750e-01, -1.84326172e-02,\n",
       "       -1.85546875e-01,  1.24023438e-01,  3.00781250e-01,  2.43164062e-01,\n",
       "        3.06640625e-01, -3.28125000e-01, -5.05371094e-02,  1.01562500e-01,\n",
       "        7.86132812e-02, -1.44531250e-01, -1.25976562e-01, -2.41699219e-02,\n",
       "        2.94921875e-01, -1.50390625e-01, -3.97949219e-02,  2.75390625e-01,\n",
       "        1.26953125e-01, -9.86328125e-02, -1.39648438e-01,  2.52685547e-02,\n",
       "       -8.54492188e-02, -1.72119141e-02,  9.17968750e-02,  1.39648438e-01,\n",
       "       -2.39257812e-01, -2.11914062e-01, -2.21679688e-01,  1.53320312e-01,\n",
       "       -1.58691406e-02, -2.00195312e-01, -2.07519531e-02,  3.58886719e-02,\n",
       "       -6.96629286e-07, -2.13867188e-01,  2.00195312e-01, -1.09375000e-01,\n",
       "       -5.15136719e-02,  6.22558594e-02, -3.22265625e-01, -7.86132812e-02,\n",
       "        5.02929688e-02,  7.08007812e-02,  1.20117188e-01, -1.79687500e-01,\n",
       "        1.59179688e-01, -1.02233887e-03, -3.49609375e-01,  1.25000000e-01,\n",
       "        6.44531250e-02,  8.10546875e-02, -3.39355469e-02,  7.42187500e-02,\n",
       "       -3.08837891e-02, -1.38671875e-01, -3.19824219e-02,  1.99218750e-01,\n",
       "        1.25000000e-01,  5.68847656e-02, -1.67968750e-01,  1.30859375e-01,\n",
       "        2.90527344e-02, -1.49536133e-02, -1.39648438e-01,  4.07714844e-02,\n",
       "       -1.05590820e-02, -1.74804688e-01,  2.12890625e-01, -1.41601562e-01,\n",
       "        2.30712891e-02, -3.36914062e-02, -8.78906250e-02, -6.64062500e-02,\n",
       "       -6.93359375e-02, -7.42187500e-02,  7.03125000e-02, -2.01416016e-02,\n",
       "       -1.26953125e-01, -3.63769531e-02,  5.93261719e-02,  1.18164062e-01,\n",
       "       -6.34765625e-03, -7.42187500e-02,  3.19824219e-02,  6.68945312e-02,\n",
       "       -2.27539062e-01,  6.54296875e-02,  1.79443359e-02,  1.46484375e-01,\n",
       "       -5.49316406e-02, -1.15234375e-01, -2.16796875e-01,  8.74023438e-02,\n",
       "        2.61718750e-01,  1.54296875e-01,  6.71386719e-03, -2.78320312e-02,\n",
       "       -4.15039062e-03, -2.09960938e-02, -5.51757812e-02, -9.76562500e-03,\n",
       "       -1.29882812e-01,  1.31835938e-01, -8.42285156e-03,  2.29492188e-01,\n",
       "        1.78710938e-01,  1.94335938e-01,  4.68750000e-02,  2.18505859e-02,\n",
       "       -2.75878906e-02,  1.73828125e-01,  1.33789062e-01,  1.36718750e-01,\n",
       "        3.10546875e-01,  9.39941406e-03,  9.22851562e-02, -2.44140625e-01,\n",
       "       -5.10253906e-02,  7.81250000e-02, -1.43554688e-01,  9.17968750e-02,\n",
       "        2.96630859e-02,  9.46044922e-03, -2.04101562e-01,  1.60156250e-01,\n",
       "        1.43554688e-01, -2.02636719e-02,  2.13623047e-02, -6.98242188e-02,\n",
       "       -3.11279297e-03, -2.52685547e-02, -1.09863281e-01,  1.07910156e-01,\n",
       "       -7.03125000e-02, -1.27929688e-01, -5.07812500e-02,  4.27246094e-02,\n",
       "       -7.32421875e-02, -3.54003906e-02,  8.88671875e-02, -3.02734375e-01],\n",
       "      dtype=float32)"
      ]
     },
     "execution_count": 3,
     "metadata": {},
     "output_type": "execute_result"
    }
   ],
   "source": [
    "w2v_vet = w2v_model['happy']\n",
    "w2v_vet"
   ]
  },
  {
   "cell_type": "code",
   "execution_count": 4,
   "metadata": {
    "scrolled": true
   },
   "outputs": [
    {
     "name": "stdout",
     "output_type": "stream",
     "text": [
      "300\n"
     ]
    }
   ],
   "source": [
    "print(len(w2v_vet))"
   ]
  },
  {
   "cell_type": "code",
   "execution_count": 5,
   "metadata": {
    "scrolled": true
   },
   "outputs": [],
   "source": [
    "# import gensim.downloader as api\n",
    "# model = api.load('glove-twitter-25')\n",
    "\n",
    "path = \"C:\\\\Temp\\\\glove.twitter.27B.25d.txt\"\n",
    "glv_model = gensim.models.KeyedVectors.load_word2vec_format(path)"
   ]
  },
  {
   "cell_type": "code",
   "execution_count": 6,
   "metadata": {
    "scrolled": true
   },
   "outputs": [
    {
     "data": {
      "text/plain": [
       "array([-1.2304 ,  0.48312,  0.14102, -0.0295 , -0.65253, -0.18554,\n",
       "        2.1033 ,  1.7516 , -1.3001 , -0.32113, -0.84774,  0.41995,\n",
       "       -3.8823 ,  0.19638, -0.72865, -0.85273,  0.23174, -1.0763 ,\n",
       "       -0.83023,  0.10815, -0.51015,  0.27691, -1.1895 ,  0.98094,\n",
       "       -0.13955], dtype=float32)"
      ]
     },
     "execution_count": 6,
     "metadata": {},
     "output_type": "execute_result"
    }
   ],
   "source": [
    "glv_vet = glv_model['happy']\n",
    "glv_vet"
   ]
  },
  {
   "cell_type": "code",
   "execution_count": 7,
   "metadata": {
    "scrolled": true
   },
   "outputs": [],
   "source": [
    "path = \"C:\\\\Temp\\\\wiki-news-300d-1M.vec\"\n",
    "fst_model = gensim.models.KeyedVectors.load_word2vec_format(path, limit=999999)"
   ]
  },
  {
   "cell_type": "code",
   "execution_count": 8,
   "metadata": {
    "scrolled": true
   },
   "outputs": [
    {
     "data": {
      "text/plain": [
       "array([-1.289e-01, -8.410e-02, -1.225e-01, -2.491e-01,  1.207e-01,\n",
       "        9.570e-02, -7.400e-03,  8.190e-02, -1.289e-01, -1.231e-01,\n",
       "       -6.860e-02,  2.380e-01,  3.480e-02, -1.954e-01, -6.550e-02,\n",
       "       -6.660e-02, -2.270e-02, -5.680e-02,  1.426e-01, -1.239e-01,\n",
       "       -7.200e-02,  1.160e-02,  4.330e-02, -6.540e-02, -1.160e-01,\n",
       "       -4.990e-02,  4.430e-02, -1.645e-01,  1.130e-02, -6.660e-02,\n",
       "        3.820e-02,  3.900e-03,  1.792e-01, -5.600e-02,  2.910e-02,\n",
       "       -1.401e-01,  7.040e-02,  2.550e-02, -3.670e-02,  4.520e-02,\n",
       "        6.500e-02, -2.950e-02,  4.000e-04, -9.200e-03, -5.360e-02,\n",
       "       -5.430e-02,  4.190e-02, -8.880e-02, -8.210e-02, -7.070e-02,\n",
       "       -3.010e-02, -1.271e-01, -7.837e-01, -4.720e-02, -1.050e-01,\n",
       "       -7.580e-02, -6.430e-02,  9.420e-02, -1.235e-01,  1.001e-01,\n",
       "       -2.000e-04, -6.500e-03, -7.800e-02, -3.460e-02, -1.522e-01,\n",
       "       -1.121e-01,  3.380e-02, -6.600e-02, -8.720e-02,  2.050e-02,\n",
       "       -1.422e-01,  4.150e-02,  6.480e-02,  3.529e-01,  6.100e-02,\n",
       "       -8.900e-03,  5.420e-02,  2.040e-02,  5.000e-03,  1.723e-01,\n",
       "        6.080e-02, -4.100e-03, -1.361e-01, -2.342e-01, -8.330e-02,\n",
       "        9.150e-02, -8.710e-02, -1.310e-01, -9.350e-02,  6.750e-02,\n",
       "        1.260e-01,  4.770e-02, -1.650e-01,  2.220e-02, -1.880e-02,\n",
       "        2.420e-02, -2.910e-02,  3.750e-02,  4.300e-02, -1.160e-02,\n",
       "       -1.986e-01,  3.470e-02,  1.436e-01, -7.280e-02,  1.270e-01,\n",
       "        6.390e-02,  2.916e-01, -1.206e-01,  2.850e-02, -2.779e-01,\n",
       "       -2.060e-02,  5.880e-02,  4.610e-02, -6.890e-02, -9.150e-02,\n",
       "        1.500e-02, -5.290e-02, -4.100e-03, -6.490e-02, -3.482e-01,\n",
       "        4.300e-03, -5.700e-03, -3.260e-02,  4.110e-02, -1.101e-01,\n",
       "        1.962e-01, -3.610e-02, -3.800e-03, -6.190e-02,  6.060e-02,\n",
       "        4.750e-02,  2.423e-01, -5.490e-02, -4.770e-02,  8.970e-02,\n",
       "       -3.061e-01, -2.810e-02,  6.820e-02,  5.790e-02, -8.010e-02,\n",
       "        4.240e-02, -4.970e-02,  1.118e-01,  3.524e-01,  1.473e-01,\n",
       "       -2.850e-02,  1.137e-01,  8.670e-02,  6.560e-02, -8.850e-02,\n",
       "       -2.540e-02,  1.770e-02, -2.040e-02,  2.070e-02,  2.750e-02,\n",
       "        1.067e-01, -4.050e-02, -5.190e-02,  5.090e-02,  6.280e-02,\n",
       "        2.710e-02,  1.520e-02,  5.970e-02,  1.176e-01,  4.706e-01,\n",
       "        3.310e-02,  1.777e-01,  1.610e-02,  7.640e-02,  1.100e-02,\n",
       "        2.900e-03,  8.440e-02, -9.250e-02,  1.460e-02,  4.320e-02,\n",
       "        1.655e-01,  1.838e-01, -6.810e-02, -2.920e-02,  1.190e-01,\n",
       "        1.403e-01,  1.317e-01,  7.600e-03, -1.196e-01,  1.341e-01,\n",
       "        1.900e-02,  3.300e-02, -1.728e-01,  1.911e-01,  8.320e-02,\n",
       "        7.840e-02,  1.353e-01,  1.580e-02,  3.250e-02,  7.370e-02,\n",
       "        7.780e-02,  7.000e-04,  6.160e-02,  1.952e-01, -2.700e-03,\n",
       "       -1.061e-01, -1.243e-01, -1.570e-02,  1.810e-02, -6.000e-02,\n",
       "        1.810e-02,  3.440e-02, -4.260e-02, -6.490e-02,  3.460e-02,\n",
       "       -1.350e-02, -1.304e-01, -1.903e-01, -6.760e-02, -6.840e-02,\n",
       "        2.510e-02, -1.449e-01, -1.152e-01, -2.012e-01,  2.035e-01,\n",
       "        1.095e-01, -2.237e-01,  7.700e-02,  4.900e-02,  5.450e-02,\n",
       "       -2.088e-01, -6.910e-02, -9.380e-02,  1.520e-01, -1.061e-01,\n",
       "       -7.830e-02, -5.190e-02,  3.173e-01, -1.493e-01,  4.080e-02,\n",
       "        2.720e-02,  1.030e-02,  2.840e-02, -2.242e-01, -1.019e-01,\n",
       "       -4.790e-02, -2.750e-02,  1.970e-02, -1.897e-01,  1.720e-02,\n",
       "       -1.086e-01, -4.950e-02, -5.230e-02,  2.180e-02,  3.805e-01,\n",
       "        1.365e-01,  2.428e-01,  4.390e-02, -5.860e-02,  1.414e-01,\n",
       "       -2.380e-02,  4.740e-02,  2.100e-02,  8.840e-02, -6.300e-02,\n",
       "       -7.000e-03,  7.450e-02,  3.900e-02,  3.820e-02,  5.900e-02,\n",
       "       -6.380e-02, -2.694e-01, -2.370e-02, -3.670e-02,  7.490e-02,\n",
       "        6.470e-02, -1.300e-02, -6.250e-02, -1.087e-01,  2.600e-03,\n",
       "       -1.115e-01, -8.870e-02,  6.280e-02,  2.780e-02, -4.230e-02,\n",
       "       -4.040e-02,  1.205e-01,  1.519e-01,  2.680e-02,  1.273e-01,\n",
       "       -6.320e-02, -1.896e-01, -2.409e-01, -3.540e-02, -1.440e-02,\n",
       "        1.503e-01,  3.390e-02, -6.390e-02, -2.340e-02,  1.679e-01,\n",
       "       -1.004e-01, -1.197e-01,  2.561e-01,  8.570e-02,  3.340e-02],\n",
       "      dtype=float32)"
      ]
     },
     "execution_count": 8,
     "metadata": {},
     "output_type": "execute_result"
    }
   ],
   "source": [
    "fst_vet = fst_model['happy']\n",
    "fst_vet"
   ]
  },
  {
   "cell_type": "markdown",
   "metadata": {},
   "source": [
    "## Transformers"
   ]
  },
  {
   "cell_type": "code",
   "execution_count": 9,
   "metadata": {
    "scrolled": true
   },
   "outputs": [],
   "source": [
    "# Question-Answering\n",
    "\n",
    "sentence = r\"\"\"Brazil was officially discovered in 1500, when a fleet commanded by Portuguese diplomat Pedro Álvares Cabral, \\\n",
    "on its way to India, landed in Porto Seguro, between Salvador and Rio de Janeiro. There is, however, strong evidence that \\\n",
    "other Portuguese adventurers preceded him. Duarte Pacheco Pereira, in his book De Situ Orbis, tells of being in Brazil \\\n",
    "in 1498, sent by King Manuel of Portugal.\"\"\""
   ]
  },
  {
   "cell_type": "code",
   "execution_count": 10,
   "metadata": {},
   "outputs": [
    {
     "name": "stdout",
     "output_type": "stream",
     "text": [
      "Answer: Pedro Álvares Cabral,\n"
     ]
    }
   ],
   "source": [
    "output = pipeline(\"question-answering\", model=\"csarron/roberta-base-squad-v1\")\n",
    "question = output(question=\"Who discovered Brazil?\", context=sentence)\n",
    "print(f\"Answer: {question['answer']}\")"
   ]
  },
  {
   "cell_type": "code",
   "execution_count": 11,
   "metadata": {},
   "outputs": [
    {
     "name": "stdout",
     "output_type": "stream",
     "text": [
      "Answer: 1500\n"
     ]
    }
   ],
   "source": [
    "output = pipeline(\"question-answering\", model=\"csarron/roberta-base-squad-v1\")\n",
    "question = output(question=\"When Brazil was discovered?\", context=sentence)\n",
    "print(f\"Answer: {question['answer']}\")"
   ]
  },
  {
   "cell_type": "code",
   "execution_count": 12,
   "metadata": {},
   "outputs": [
    {
     "name": "stdout",
     "output_type": "stream",
     "text": [
      "Answer: a fleet commanded by Portuguese diplomat Pedro Álvares Cabral,\n"
     ]
    }
   ],
   "source": [
    "output = pipeline(\"question-answering\", model=\"csarron/roberta-base-squad-v1\")\n",
    "question = output(question=\"How Brazil was discovered?\", context=sentence)\n",
    "print(f\"Answer: {question['answer']}\")"
   ]
  },
  {
   "cell_type": "code",
   "execution_count": 13,
   "metadata": {},
   "outputs": [
    {
     "name": "stdout",
     "output_type": "stream",
     "text": [
      "Answer: Porto Seguro, between Salvador and Rio de Janeiro.\n"
     ]
    }
   ],
   "source": [
    "output = pipeline(\"question-answering\", model=\"csarron/roberta-base-squad-v1\")\n",
    "question = output(question=\"Where Brazil was discovered?\", context=sentence)\n",
    "print(f\"Answer: {question['answer']}\")"
   ]
  },
  {
   "cell_type": "code",
   "execution_count": 14,
   "metadata": {},
   "outputs": [
    {
     "name": "stdout",
     "output_type": "stream",
     "text": [
      "Answer: Pedro Álvares Cabral,\n"
     ]
    }
   ],
   "source": [
    "output = pipeline(\"question-answering\", model=\"csarron/roberta-base-squad-v1\")\n",
    "question = output(question=\"Who was the first person in Brazil?\", context=sentence)\n",
    "print(f\"Answer: {question['answer']}\")"
   ]
  },
  {
   "cell_type": "code",
   "execution_count": 15,
   "metadata": {},
   "outputs": [
    {
     "name": "stdout",
     "output_type": "stream",
     "text": [
      "Answer: King Manuel of Portugal.\n"
     ]
    }
   ],
   "source": [
    "output = pipeline(\"question-answering\", model=\"csarron/roberta-base-squad-v1\")\n",
    "question = output(question=\"Who sent Duarte Pacheco Pereira?\", context=sentence)\n",
    "print(f\"Answer: {question['answer']}\")"
   ]
  },
  {
   "cell_type": "code",
   "execution_count": 16,
   "metadata": {},
   "outputs": [
    {
     "name": "stdout",
     "output_type": "stream",
     "text": [
      "Answer: strong evidence that \\\n",
      "other Portuguese adventurers preceded him.\n"
     ]
    }
   ],
   "source": [
    "output = pipeline(\"question-answering\", model=\"csarron/roberta-base-squad-v1\")\n",
    "question = output(question=\"Are there any other evidences?\", context=sentence)\n",
    "print(f\"Answer: {question['answer']}\")"
   ]
  },
  {
   "cell_type": "code",
   "execution_count": 17,
   "metadata": {},
   "outputs": [
    {
     "name": "stdout",
     "output_type": "stream",
     "text": [
      "Answer: strong evidence that \\\n",
      "other Portuguese adventurers preceded him.\n"
     ]
    }
   ],
   "source": [
    "output = pipeline(\"question-answering\", model=\"csarron/roberta-base-squad-v1\")\n",
    "question = output(question=\"Are there any possibilities that other person was in Brazil before him?\", context=sentence)\n",
    "print(f\"Answer: {question['answer']}\")"
   ]
  },
  {
   "cell_type": "code",
   "execution_count": 18,
   "metadata": {},
   "outputs": [
    {
     "name": "stdout",
     "output_type": "stream",
     "text": [
      "Answer: Duarte Pacheco Pereira, in his book\n"
     ]
    }
   ],
   "source": [
    "output = pipeline(\"question-answering\", model=\"csarron/roberta-base-squad-v1\")\n",
    "question = output(question=\"What is De Situ Orbis?\", context=sentence)\n",
    "print(f\"Answer: {question['answer']}\")"
   ]
  },
  {
   "cell_type": "code",
   "execution_count": 19,
   "metadata": {},
   "outputs": [
    {
     "name": "stdout",
     "output_type": "stream",
     "text": [
      "Answer: India\n"
     ]
    }
   ],
   "source": [
    "output = pipeline(\"question-answering\", model=\"csarron/roberta-base-squad-v1\")\n",
    "question = output(question=\"To where the fleet commanded by Cabral was going?\", context=sentence)\n",
    "print(f\"Answer: {question['answer']}\")"
   ]
  },
  {
   "cell_type": "code",
   "execution_count": 20,
   "metadata": {},
   "outputs": [
    {
     "name": "stdout",
     "output_type": "stream",
     "text": [
      "Answer: King Manuel of Portugal.\n"
     ]
    }
   ],
   "source": [
    "output = pipeline(\"question-answering\", model=\"csarron/roberta-base-squad-v1\")\n",
    "question = output(question=\"This guy, Manuel, who was him?\", context=sentence)\n",
    "print(f\"Answer: {question['answer']}\")"
   ]
  },
  {
   "cell_type": "code",
   "execution_count": 21,
   "metadata": {},
   "outputs": [
    {
     "name": "stdout",
     "output_type": "stream",
     "text": [
      "Answer: Duarte Pacheco Pereira,\n"
     ]
    }
   ],
   "source": [
    "output = pipeline(\"question-answering\", model=\"csarron/roberta-base-squad-v1\")\n",
    "question = output(question=\"Who was the second person in Brazil?\", context=sentence)\n",
    "print(f\"Answer: {question['answer']}\")"
   ]
  },
  {
   "cell_type": "code",
   "execution_count": 22,
   "metadata": {},
   "outputs": [
    {
     "name": "stdout",
     "output_type": "stream",
     "text": [
      "Answer: Duarte Pacheco Pereira,\n"
     ]
    }
   ],
   "source": [
    "output = pipeline(\"question-answering\", model=\"csarron/roberta-base-squad-v1\")\n",
    "question = output(question=\"Who was the third person in Brazil?\", context=sentence)\n",
    "print(f\"Answer: {question['answer']}\")"
   ]
  },
  {
   "cell_type": "code",
   "execution_count": 23,
   "metadata": {},
   "outputs": [
    {
     "name": "stdout",
     "output_type": "stream",
     "text": [
      "Answer: \\\n",
      "\n"
     ]
    }
   ],
   "source": [
    "output = pipeline(\"question-answering\", model=\"csarron/roberta-base-squad-v1\")\n",
    "question = output(question=\"How was the weather in Brazil?\", context=sentence)\n",
    "print(f\"Answer: {question['answer']}\")"
   ]
  },
  {
   "cell_type": "code",
   "execution_count": 24,
   "metadata": {
    "scrolled": true
   },
   "outputs": [
    {
     "data": {
      "text/plain": [
       "[{'summary_text': ' Brazil was officially discovered in 1500, when a Portuguese diplomat landed in Porto Seguro . Duarte Pacheco Pereira, in his book De Situ Orbis, tells of being in Brazil in 1498 .'}]"
      ]
     },
     "execution_count": 24,
     "metadata": {},
     "output_type": "execute_result"
    }
   ],
   "source": [
    "# Sumarização\n",
    "\n",
    "nlp = pipeline(task='summarization', model=\"sshleifer/distilbart-cnn-12-6\")\n",
    "nlp(sentence, max_length=90, min_length=20)"
   ]
  },
  {
   "cell_type": "code",
   "execution_count": 25,
   "metadata": {},
   "outputs": [
    {
     "name": "stdout",
     "output_type": "stream",
     "text": [
      "Le Brésil a été officiellement découvert en 1500, lorsqu'une flotte commandée par le diplomate portugais Pedro lvares Cabral,  en route vers l'Inde, a débarqué à Porto Seguro, entre Salvador et Rio de Janeiro. Il existe toutefois de solides preuves que  d'autres aventuriers portugais l'ont précédé. Duarte Pacheco Pereira\n"
     ]
    }
   ],
   "source": [
    "# Tradução\n",
    "\n",
    "nlp = pipeline(task='translation_en_to_fr', model=\"t5-base\")\n",
    "print(f\"{nlp(sentence)[0]['translation_text']}\")"
   ]
  },
  {
   "cell_type": "code",
   "execution_count": 26,
   "metadata": {},
   "outputs": [
    {
     "name": "stdout",
     "output_type": "stream",
     "text": [
      "[{'generated_text': 'O Brasil foi descoberto oficialmente em 1500, quando uma frota comandada pelo diplomata português Pedro Álvares Cabral,'}]\n",
      "[{'generated_text': 'Há, contudo, fortes evidências de que \\\\ outros aventureiros portugueses o precederam.'}]\n",
      "[{'generated_text': 'Em seu livro De Situ Orbis, conta de estar no Brasil \\\\ \\\\'}]\n",
      "[{'generated_text': 'Em 1498, enviados pelo rei Manuel de Portugal.'}]\n"
     ]
    }
   ],
   "source": [
    "from transformers import AutoTokenizer, AutoModelForSeq2SeqLM, pipeline\n",
    "  \n",
    "tokenizer = AutoTokenizer.from_pretrained(\"unicamp-dl/translation-en-pt-t5\")\n",
    "model = AutoModelForSeq2SeqLM.from_pretrained(\"unicamp-dl/translation-en-pt-t5\")\n",
    "\n",
    "nlp = spacy.load(\"en_core_web_sm\")\n",
    "doc = nlp(sentence)\n",
    "sentence_spans = list(doc.sents)\n",
    "\n",
    "nlp = pipeline('text2text-generation', model=model, tokenizer=tokenizer)\n",
    "\n",
    "for i in range(len(sentence_spans)):\n",
    "    print(nlp(str(sentence_spans[i])))"
   ]
  },
  {
   "cell_type": "code",
   "execution_count": 27,
   "metadata": {
    "scrolled": true
   },
   "outputs": [
    {
     "name": "stderr",
     "output_type": "stream",
     "text": [
      "Setting `pad_token_id` to `eos_token_id`:50256 for open-end generation.\n"
     ]
    },
    {
     "data": {
      "text/plain": [
       "[{'generated_text': \"Love is a great way to start your day.\\n\\n4. Don't be afraid to ask for help. You don't have to be a lawyer to get help, but you do need to know what you're getting into. If you've never been to a doctor before, you should be able to tell them about your condition. Ask your doctor if they know how to treat you, and if so, how long it will take for you to go through with it. It's also a good idea to talk to your health care provider before you go to the doctor, so they can figure out what's wrong and what can be done to help you get back on your feet. Your doctor may also want to see if you have any family members who might be at risk of getting sick. Even if it's not a serious medical condition, it may not be enough to stop you from going to an emergency room, or even to take your own life.\\n\\n\\n5. Make sure you are doing everything you can to keep yourself healthy. When it comes to eating, exercise, sleeping, exercising, eating well, working out, being active, getting in shape, taking care of your body and getting healthy are all things that can help keep you healthy and healthy in the long-term. This is especially important for people with chronic diseases, such as diabetes, heart disease, cancer, osteoporosis, diabetes mellitus, chronic obstructive pulmonary disease (COPD), or those with a history of heart attacks or strokes. Keep in mind, though, that most people who are diagnosed with COPD will have a hard time getting back to their normal levels of health and well-being. In fact, some people may have problems with their blood sugar levels, which can lead to heart attack or stroke, even though they have the same level of body fat as their body weight. The more you know about the condition and how it affects you and your family, the better off you will be for the future.\"},\n",
       " {'generated_text': \"Love is the only thing that keeps me going.\\n\\nI don't know what you're talking about, but I want you to know that I love you. I'm so happy for you, and I can't wait to see you again. It's going to be so great to have you back. Thank you for everything you've done for me.\"}]"
      ]
     },
     "execution_count": 27,
     "metadata": {},
     "output_type": "execute_result"
    }
   ],
   "source": [
    "# Geração automática de texto\n",
    "nlp = pipeline(task='text-generation', model='gpt2')\n",
    "nlp(\"Love is\", num_return_sequences=2, max_length = 10000, num_beams = 5, no_repeat_ngram_size  = 2, early_stopping = True)"
   ]
  },
  {
   "cell_type": "code",
   "execution_count": 28,
   "metadata": {},
   "outputs": [
    {
     "name": "stderr",
     "output_type": "stream",
     "text": [
      "Setting `pad_token_id` to `eos_token_id`:50256 for open-end generation.\n"
     ]
    },
    {
     "data": {
      "text/plain": [
       "[{'generated_text': \"Hate is not going to go away.\\n\\nI'm not saying it's going away, but I'm saying that we need to find a way to get rid of hate speech. It's not something that's been going on for a long time. And we have to do something about it. We have a lot of work ahead of us, and we've got to figure out how to make sure that it doesn't happen again.\"},\n",
       " {'generated_text': 'Hate is the most common form of hate speech in the U.S., according to the Anti-Defamation League (ADL). The ADL estimates that more than one-third of all hate crimes against Jews are committed by non-Jews.\\n\\nIn an interview with Fox News Channel\\'s Greta Van Susteren last year, former President George W. Bush said, \"I don\\'t think there\\'s a single Jew in this country who is going to say that I\\'m not a racist or a bigot. I think they\\'re all good people, and they\\'ve got to be treated with respect and dignity.\" He added: \"There\\'s no reason why I can\\'t be a good person.\"'}]"
      ]
     },
     "execution_count": 28,
     "metadata": {},
     "output_type": "execute_result"
    }
   ],
   "source": [
    "nlp = pipeline(task='text-generation', model='gpt2')\n",
    "nlp(\"Hate is\", num_return_sequences=2, max_length = 10000, num_beams = 5, no_repeat_ngram_size  = 2, early_stopping = True)"
   ]
  },
  {
   "cell_type": "code",
   "execution_count": 29,
   "metadata": {
    "scrolled": true
   },
   "outputs": [
    {
     "name": "stdout",
     "output_type": "stream",
     "text": [
      "Result: [{'label': '5 stars', 'score': 0.9018256068229675}]\n"
     ]
    }
   ],
   "source": [
    "# Classificação de texto\n",
    "sentence = \"I love it!\"\n",
    "nlp = pipeline(task=\"text-classification\", model='nlptown/bert-base-multilingual-uncased-sentiment')\n",
    "print(f\"Result: { nlp(sentence) }\")"
   ]
  },
  {
   "cell_type": "code",
   "execution_count": 30,
   "metadata": {},
   "outputs": [
    {
     "name": "stdout",
     "output_type": "stream",
     "text": [
      "Result: [{'label': '1 star', 'score': 0.8533276319503784}]\n"
     ]
    }
   ],
   "source": [
    "sentence = \"I hate it!\"\n",
    "nlp = pipeline(task=\"text-classification\", model='nlptown/bert-base-multilingual-uncased-sentiment')\n",
    "print(f\"Result: { nlp(sentence) }\")"
   ]
  },
  {
   "cell_type": "code",
   "execution_count": 31,
   "metadata": {},
   "outputs": [
    {
     "name": "stdout",
     "output_type": "stream",
     "text": [
      "Result: [{'label': '2 stars', 'score': 0.5419707894325256}]\n"
     ]
    }
   ],
   "source": [
    "sentence = \"I thought it would be useful, but it's not worthy.\"\n",
    "nlp = pipeline(task=\"text-classification\", model='nlptown/bert-base-multilingual-uncased-sentiment')\n",
    "print(f\"Result: { nlp(sentence) }\")"
   ]
  },
  {
   "cell_type": "code",
   "execution_count": 32,
   "metadata": {},
   "outputs": [
    {
     "name": "stdout",
     "output_type": "stream",
     "text": [
      "Result: [{'label': '4 stars', 'score': 0.4631804823875427}]\n"
     ]
    }
   ],
   "source": [
    "sentence = \"My daughter is using it a lot for school.\"\n",
    "nlp = pipeline(task=\"text-classification\", model='nlptown/bert-base-multilingual-uncased-sentiment')\n",
    "print(f\"Result: { nlp(sentence) }\")"
   ]
  },
  {
   "cell_type": "code",
   "execution_count": 33,
   "metadata": {},
   "outputs": [
    {
     "name": "stdout",
     "output_type": "stream",
     "text": [
      "Result: [{'label': '3 stars', 'score': 0.5285704731941223}]\n"
     ]
    }
   ],
   "source": [
    "sentence = \"It seems that we will have to wait and see.\"\n",
    "nlp = pipeline(task=\"text-classification\", model='nlptown/bert-base-multilingual-uncased-sentiment')\n",
    "print(f\"Result: { nlp(sentence) }\")"
   ]
  },
  {
   "cell_type": "code",
   "execution_count": null,
   "metadata": {},
   "outputs": [],
   "source": []
  }
 ],
 "metadata": {
  "kernelspec": {
   "display_name": "Python 3",
   "language": "python",
   "name": "python3"
  },
  "language_info": {
   "codemirror_mode": {
    "name": "ipython",
    "version": 3
   },
   "file_extension": ".py",
   "mimetype": "text/x-python",
   "name": "python",
   "nbconvert_exporter": "python",
   "pygments_lexer": "ipython3",
   "version": "3.8.5"
  }
 },
 "nbformat": 4,
 "nbformat_minor": 2
}
