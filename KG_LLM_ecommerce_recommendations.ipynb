{
  "cells": [
    {
      "cell_type": "code",
      "execution_count": 1,
      "metadata": {
        "id": "8xQZDgVVNrlP",
        "colab": {
          "base_uri": "https://localhost:8080/"
        },
        "outputId": "276e8961-03e7-4eae-eefa-cf9e2fa41e5a"
      },
      "outputs": [
        {
          "output_type": "stream",
          "name": "stdout",
          "text": [
            "Collecting openai\n",
            "  Downloading openai-1.3.8-py3-none-any.whl (221 kB)\n",
            "\u001b[2K     \u001b[90m━━━━━━━━━━━━━━━━━━━━━━━━━━━━━━━━━━━━━━━━\u001b[0m \u001b[32m221.5/221.5 kB\u001b[0m \u001b[31m2.0 MB/s\u001b[0m eta \u001b[36m0:00:00\u001b[0m\n",
            "\u001b[?25hRequirement already satisfied: anyio<5,>=3.5.0 in /usr/local/lib/python3.10/dist-packages (from openai) (3.7.1)\n",
            "Requirement already satisfied: distro<2,>=1.7.0 in /usr/lib/python3/dist-packages (from openai) (1.7.0)\n",
            "Collecting httpx<1,>=0.23.0 (from openai)\n",
            "  Downloading httpx-0.25.2-py3-none-any.whl (74 kB)\n",
            "\u001b[2K     \u001b[90m━━━━━━━━━━━━━━━━━━━━━━━━━━━━━━━━━━━━━━━━\u001b[0m \u001b[32m75.0/75.0 kB\u001b[0m \u001b[31m9.7 MB/s\u001b[0m eta \u001b[36m0:00:00\u001b[0m\n",
            "\u001b[?25hRequirement already satisfied: pydantic<3,>=1.9.0 in /usr/local/lib/python3.10/dist-packages (from openai) (1.10.13)\n",
            "Requirement already satisfied: sniffio in /usr/local/lib/python3.10/dist-packages (from openai) (1.3.0)\n",
            "Requirement already satisfied: tqdm>4 in /usr/local/lib/python3.10/dist-packages (from openai) (4.66.1)\n",
            "Requirement already satisfied: typing-extensions<5,>=4.5 in /usr/local/lib/python3.10/dist-packages (from openai) (4.5.0)\n",
            "Requirement already satisfied: idna>=2.8 in /usr/local/lib/python3.10/dist-packages (from anyio<5,>=3.5.0->openai) (3.6)\n",
            "Requirement already satisfied: exceptiongroup in /usr/local/lib/python3.10/dist-packages (from anyio<5,>=3.5.0->openai) (1.2.0)\n",
            "Requirement already satisfied: certifi in /usr/local/lib/python3.10/dist-packages (from httpx<1,>=0.23.0->openai) (2023.11.17)\n",
            "Collecting httpcore==1.* (from httpx<1,>=0.23.0->openai)\n",
            "  Downloading httpcore-1.0.2-py3-none-any.whl (76 kB)\n",
            "\u001b[2K     \u001b[90m━━━━━━━━━━━━━━━━━━━━━━━━━━━━━━━━━━━━━━━━\u001b[0m \u001b[32m76.9/76.9 kB\u001b[0m \u001b[31m9.7 MB/s\u001b[0m eta \u001b[36m0:00:00\u001b[0m\n",
            "\u001b[?25hCollecting h11<0.15,>=0.13 (from httpcore==1.*->httpx<1,>=0.23.0->openai)\n",
            "  Downloading h11-0.14.0-py3-none-any.whl (58 kB)\n",
            "\u001b[2K     \u001b[90m━━━━━━━━━━━━━━━━━━━━━━━━━━━━━━━━━━━━━━━━\u001b[0m \u001b[32m58.3/58.3 kB\u001b[0m \u001b[31m7.1 MB/s\u001b[0m eta \u001b[36m0:00:00\u001b[0m\n",
            "\u001b[?25hInstalling collected packages: h11, httpcore, httpx, openai\n",
            "\u001b[31mERROR: pip's dependency resolver does not currently take into account all the packages that are installed. This behaviour is the source of the following dependency conflicts.\n",
            "llmx 0.0.15a0 requires cohere, which is not installed.\n",
            "llmx 0.0.15a0 requires tiktoken, which is not installed.\u001b[0m\u001b[31m\n",
            "\u001b[0mSuccessfully installed h11-0.14.0 httpcore-1.0.2 httpx-0.25.2 openai-1.3.8\n"
          ]
        }
      ],
      "source": [
        "!pip install openai"
      ],
      "id": "8xQZDgVVNrlP"
    },
    {
      "cell_type": "code",
      "execution_count": 2,
      "metadata": {
        "id": "4409d0b7-3861-4b2f-9062-613beb84d569",
        "colab": {
          "base_uri": "https://localhost:8080/"
        },
        "outputId": "c9ffd9d8-b6e3-4224-df53-a82b68817dc1"
      },
      "outputs": [
        {
          "output_type": "stream",
          "name": "stdout",
          "text": [
            "Collecting pyspark\n",
            "  Downloading pyspark-3.5.0.tar.gz (316.9 MB)\n",
            "\u001b[2K     \u001b[90m━━━━━━━━━━━━━━━━━━━━━━━━━━━━━━━━━━━━━━━━\u001b[0m \u001b[32m316.9/316.9 MB\u001b[0m \u001b[31m2.0 MB/s\u001b[0m eta \u001b[36m0:00:00\u001b[0m\n",
            "\u001b[?25h  Preparing metadata (setup.py) ... \u001b[?25l\u001b[?25hdone\n",
            "Requirement already satisfied: py4j==0.10.9.7 in /usr/local/lib/python3.10/dist-packages (from pyspark) (0.10.9.7)\n",
            "Building wheels for collected packages: pyspark\n",
            "  Building wheel for pyspark (setup.py) ... \u001b[?25l\u001b[?25hdone\n",
            "  Created wheel for pyspark: filename=pyspark-3.5.0-py2.py3-none-any.whl size=317425345 sha256=3f66ad6d4bdb5f8f1574ac46a1da3ded6fa1da0ed975df3ed0338ab104dadf02\n",
            "  Stored in directory: /root/.cache/pip/wheels/41/4e/10/c2cf2467f71c678cfc8a6b9ac9241e5e44a01940da8fbb17fc\n",
            "Successfully built pyspark\n",
            "Installing collected packages: pyspark\n",
            "Successfully installed pyspark-3.5.0\n"
          ]
        }
      ],
      "source": [
        "!pip install pyspark"
      ],
      "id": "4409d0b7-3861-4b2f-9062-613beb84d569"
    },
    {
      "cell_type": "code",
      "execution_count": 3,
      "metadata": {
        "id": "a6c1d776-17f8-4298-9c90-453f3c6b1dd7",
        "colab": {
          "base_uri": "https://localhost:8080/"
        },
        "outputId": "b986b83e-8590-4d3e-976d-cf76dc3cadf0"
      },
      "outputs": [
        {
          "output_type": "stream",
          "name": "stdout",
          "text": [
            "Collecting graphframes\n",
            "  Downloading graphframes-0.6-py2.py3-none-any.whl (18 kB)\n",
            "Requirement already satisfied: numpy in /usr/local/lib/python3.10/dist-packages (from graphframes) (1.23.5)\n",
            "Collecting nose (from graphframes)\n",
            "  Downloading nose-1.3.7-py3-none-any.whl (154 kB)\n",
            "\u001b[2K     \u001b[90m━━━━━━━━━━━━━━━━━━━━━━━━━━━━━━━━━━━━━━━━\u001b[0m \u001b[32m154.7/154.7 kB\u001b[0m \u001b[31m2.4 MB/s\u001b[0m eta \u001b[36m0:00:00\u001b[0m\n",
            "\u001b[?25hInstalling collected packages: nose, graphframes\n",
            "Successfully installed graphframes-0.6 nose-1.3.7\n"
          ]
        }
      ],
      "source": [
        "!pip install graphframes"
      ],
      "id": "a6c1d776-17f8-4298-9c90-453f3c6b1dd7"
    },
    {
      "cell_type": "code",
      "source": [
        "!pip install plotly\n",
        "!pip install igraph"
      ],
      "metadata": {
        "id": "aOYkk-RQBdBk",
        "colab": {
          "base_uri": "https://localhost:8080/"
        },
        "outputId": "c0cf3453-02f5-4e9b-c55f-e96ed46c7ebe"
      },
      "id": "aOYkk-RQBdBk",
      "execution_count": 4,
      "outputs": [
        {
          "output_type": "stream",
          "name": "stdout",
          "text": [
            "Requirement already satisfied: plotly in /usr/local/lib/python3.10/dist-packages (5.15.0)\n",
            "Requirement already satisfied: tenacity>=6.2.0 in /usr/local/lib/python3.10/dist-packages (from plotly) (8.2.3)\n",
            "Requirement already satisfied: packaging in /usr/local/lib/python3.10/dist-packages (from plotly) (23.2)\n",
            "Collecting igraph\n",
            "  Downloading igraph-0.11.3-cp39-abi3-manylinux_2_17_x86_64.manylinux2014_x86_64.whl (3.3 MB)\n",
            "\u001b[2K     \u001b[90m━━━━━━━━━━━━━━━━━━━━━━━━━━━━━━━━━━━━━━━━\u001b[0m \u001b[32m3.3/3.3 MB\u001b[0m \u001b[31m10.9 MB/s\u001b[0m eta \u001b[36m0:00:00\u001b[0m\n",
            "\u001b[?25hCollecting texttable>=1.6.2 (from igraph)\n",
            "  Downloading texttable-1.7.0-py2.py3-none-any.whl (10 kB)\n",
            "Installing collected packages: texttable, igraph\n",
            "Successfully installed igraph-0.11.3 texttable-1.7.0\n"
          ]
        }
      ]
    },
    {
      "cell_type": "code",
      "execution_count": 5,
      "metadata": {
        "id": "90df73e2-6090-4cc9-992c-8736218399f1"
      },
      "outputs": [],
      "source": [
        "from pyspark import SparkConf, SparkContext\n",
        "from pyspark.sql import SparkSession\n",
        "from graphframes import *"
      ],
      "id": "90df73e2-6090-4cc9-992c-8736218399f1"
    },
    {
      "cell_type": "code",
      "execution_count": 6,
      "metadata": {
        "id": "lVboS9mEIKYO",
        "colab": {
          "base_uri": "https://localhost:8080/"
        },
        "outputId": "a330f3fe-601c-4b5f-a35a-0aa46dc72311"
      },
      "outputs": [
        {
          "output_type": "stream",
          "name": "stdout",
          "text": [
            "Mounted at /content/drive\n"
          ]
        }
      ],
      "source": [
        "from google.colab import drive\n",
        "drive.mount(\"/content/drive\")"
      ],
      "id": "lVboS9mEIKYO"
    },
    {
      "cell_type": "code",
      "execution_count": 7,
      "metadata": {
        "id": "3ed0230b-8c73-4fed-ac3f-6f465de6bc8b"
      },
      "outputs": [],
      "source": [
        "spark = SparkSession.builder.master(\"local[*]\").config(\"spark.jars\", \\\n",
        "  \"/content/drive/My Drive/Colab Notebooks/KG/graphframes-0.8.2-spark3.2-s_2.12.jar\").getOrCreate()\n",
        "conf = SparkConf().set(\"spark.ui.port\", \"4050\").setAppName(\"ckg\").setMaster(\"local[*]\")\n",
        "sc = SparkContext.getOrCreate(conf=conf)"
      ],
      "id": "3ed0230b-8c73-4fed-ac3f-6f465de6bc8b"
    },
    {
      "cell_type": "code",
      "execution_count": 8,
      "metadata": {
        "id": "w9gfoxOWLvuT",
        "colab": {
          "base_uri": "https://localhost:8080/"
        },
        "outputId": "530bcb19-dead-4574-a0c4-3e1c873e052c"
      },
      "outputs": [
        {
          "output_type": "stream",
          "name": "stdout",
          "text": [
            "root\n",
            " |-- id: string (nullable = true)\n",
            "\n"
          ]
        }
      ],
      "source": [
        "lst_vertices = [\n",
        "    \"David\", \"John\", \"Alice\", \"Maria\", \"Chris\", \"Eva\", \"Tom\", \"Emma\", \"Liam\", \"Sophia\",\n",
        "    \"Notebook\", \"Tablet\", \"Smartphone\", \"Monitor\", \"Printer\", \"Router\", \"Keyboard\", \"Mouse\", \"Webcam\", \"Headset\", \"USB Drive\", \"SSD\",\n",
        "    \"Personal Computer\", \"Input Device\", \"Output Device\", \"Storage Device\",\n",
        "    \"HP\", \"Samsung\", \"Logitech\", \"Sony\", \"SanDisk\",\n",
        "    \"portable\", \"speed\", \"mobile\", \"compact\", \"high-resolution\", \"affordable\", \"user-friendly\", \"durable\", \"ergonomic\", \"wireless\", \"lightweight\",\n",
        "]\n",
        "\n",
        "lst_vertices_tuples = [(item,) for item in lst_vertices]\n",
        "col_vertices = ['id']\n",
        "df_vertices = spark.createDataFrame(lst_vertices_tuples, schema = col_vertices)\n",
        "df_vertices.printSchema()"
      ],
      "id": "w9gfoxOWLvuT"
    },
    {
      "cell_type": "code",
      "execution_count": 9,
      "metadata": {
        "id": "yd2fgc1TujiS",
        "colab": {
          "base_uri": "https://localhost:8080/"
        },
        "outputId": "f489c403-735f-4f98-eaa1-1dc8174bd871"
      },
      "outputs": [
        {
          "output_type": "stream",
          "name": "stdout",
          "text": [
            "root\n",
            " |-- src: string (nullable = true)\n",
            " |-- dst: string (nullable = true)\n",
            " |-- rel: string (nullable = true)\n",
            "\n"
          ]
        }
      ],
      "source": [
        "lst_edges = [\n",
        "    (\"David\", \"Notebook\", \"buy\"),\n",
        "    (\"John\", \"Smartphone\", \"buy\"),\n",
        "    (\"Alice\", \"Tablet\", \"buy\"),\n",
        "    (\"Maria\", \"Monitor\", \"buy\"),\n",
        "    (\"Chris\", \"Webcam\", \"buy\"),\n",
        "    (\"Eva\", \"Headset\", \"buy\"),\n",
        "    (\"Tom\", \"SSD\", \"buy\"),\n",
        "    (\"Emma\", \"Keyboard\", \"buy\"),\n",
        "    (\"Liam\", \"Mouse\", \"buy\"),\n",
        "    (\"Sophia\", \"USB Drive\", \"buy\"),\n",
        "\n",
        "    (\"David\", \"portable\", \"mention\"),\n",
        "    (\"David\", \"speed\", \"mention\"),\n",
        "    (\"John\", \"mobile\", \"mention\"),\n",
        "    (\"Alice\", \"compact\", \"mention\"),\n",
        "    (\"Maria\", \"high-resolution\", \"mention\"),\n",
        "    (\"Chris\", \"affordable\", \"mention\"),\n",
        "    (\"Eva\", \"user-friendly\", \"mention\"),\n",
        "    (\"Tom\", \"durable\", \"mention\"),\n",
        "    (\"Emma\", \"ergonomic\", \"mention\"),\n",
        "    (\"Liam\", \"wireless\", \"mention\"),\n",
        "    (\"Sophia\", \"lightweight\", \"mention\"),\n",
        "    (\"Notebook\", \"portable\", \"mention\"),\n",
        "    (\"Tablet\", \"compact\", \"mention\"),\n",
        "    (\"Smartphone\", \"mobile\", \"mention\"),\n",
        "    (\"Monitor\", \"high-resolution\", \"mention\"),\n",
        "    (\"Printer\", \"portable\", \"mention\"),\n",
        "    (\"Router\", \"speed\", \"mention\"),\n",
        "    (\"Keyboard\", \"ergonomic\", \"mention\"),\n",
        "    (\"Mouse\", \"wireless\", \"mention\"),\n",
        "    (\"Webcam\", \"affordable\", \"mention\"),\n",
        "    (\"Headset\", \"user-friendly\", \"mention\"),\n",
        "    (\"SSD\", \"durable\", \"mention\"),\n",
        "    (\"USB Drive\", \"lightweight\", \"mention\"),\n",
        "\n",
        "    (\"Notebook\", \"Printer\", \"also_buy\"),\n",
        "    (\"Notebook\", \"Router\", \"also_buy\"),\n",
        "    (\"Notebook\", \"Mouse\", \"also_buy\"),\n",
        "    (\"Tablet\", \"Headset\", \"also_buy\"),\n",
        "    (\"Tablet\", \"Keyboard\", \"also_buy\"),\n",
        "    (\"Smartphone\", \"Headset\", \"also_buy\"),\n",
        "    (\"Monitor\", \"Printer\", \"also_buy\"),\n",
        "    (\"Monitor\", \"Router\", \"also_buy\"),\n",
        "    (\"Router\", \"USB Drive\", \"also_buy\"),\n",
        "    (\"Router\", \"SSD\", \"also_buy\"),\n",
        "\n",
        "    (\"Notebook\", \"Router\", \"also_view\"),\n",
        "    (\"Webcam\", \"Keyboard\", \"also_view\"),\n",
        "    (\"Headset\", \"Smartphone\", \"also_view\"),\n",
        "    (\"Printer\", \"Mouse\", \"also_view\"),\n",
        "    (\"Mouse\", \"Keyboard\", \"also_view\"),\n",
        "\n",
        "    (\"Notebook\", \"Personal Computer\", \"belongs_to_category\"),\n",
        "    (\"Tablet\", \"Input Device\", \"belongs_to_category\"),\n",
        "    (\"Smartphone\", \"Input Device\", \"belongs_to_category\"),\n",
        "    (\"Printer\", \"Output Device\", \"belongs_to_category\"),\n",
        "    (\"Monitor\", \"Output Device\", \"belongs_to_category\"),\n",
        "    (\"Keyboard\", \"Input Device\", \"belongs_to_category\"),\n",
        "    (\"Mouse\", \"Input Device\", \"belongs_to_category\"),\n",
        "    (\"Webcam\", \"Input Device\", \"belongs_to_category\"),\n",
        "    (\"Headset\", \"Input Device\", \"belongs_to_category\"),\n",
        "    (\"USB Drive\", \"Storage Device\", \"belongs_to_category\"),\n",
        "    (\"SSD\", \"Storage Device\", \"belongs_to_category\"),\n",
        "\n",
        "    (\"Notebook\", \"HP\", \"belongs_to_brand\"),\n",
        "    (\"Smartphone\", \"Samsung\", \"belongs_to_brand\"),\n",
        "    (\"Tablet\", \"Samsung\", \"belongs_to_brand\"),\n",
        "    (\"Monitor\", \"HP\", \"belongs_to_brand\"),\n",
        "    (\"Keyboard\", \"Logitech\", \"belongs_to_brand\"),\n",
        "    (\"Mouse\", \"Logitech\", \"belongs_to_brand\"),\n",
        "    (\"Webcam\", \"Logitech\", \"belongs_to_brand\"),\n",
        "    (\"Headset\", \"Sony\", \"belongs_to_brand\"),\n",
        "    (\"USB Drive\", \"SanDisk\", \"belongs_to_brand\"),\n",
        "    (\"SSD\", \"Samsung\", \"belongs_to_brand\")\n",
        "]\n",
        "\n",
        "col_edges = [\"src\", \"dst\", \"rel\"]\n",
        "df_edges = spark.createDataFrame(lst_edges, schema = col_edges)\n",
        "df_edges.printSchema()"
      ],
      "id": "yd2fgc1TujiS"
    },
    {
      "cell_type": "code",
      "execution_count": 10,
      "metadata": {
        "id": "a28ecec6-4faa-427a-806e-136afdf3f3a6",
        "colab": {
          "base_uri": "https://localhost:8080/"
        },
        "outputId": "32db014a-1e0d-4b8c-fdc5-38c9d913d674"
      },
      "outputs": [
        {
          "output_type": "stream",
          "name": "stderr",
          "text": [
            "/usr/local/lib/python3.10/dist-packages/pyspark/sql/dataframe.py:168: UserWarning: DataFrame.sql_ctx is an internal property, and will be removed in future releases. Use DataFrame.sparkSession instead.\n",
            "  warnings.warn(\n"
          ]
        },
        {
          "output_type": "execute_result",
          "data": {
            "text/plain": [
              "42"
            ]
          },
          "metadata": {},
          "execution_count": 10
        }
      ],
      "source": [
        "g = GraphFrame(df_vertices, df_edges)\n",
        "g.vertices.count()"
      ],
      "id": "a28ecec6-4faa-427a-806e-136afdf3f3a6"
    },
    {
      "cell_type": "code",
      "execution_count": 11,
      "metadata": {
        "id": "ad1cb3c3-2a5e-476b-a2f6-a5f9eee5787d",
        "colab": {
          "base_uri": "https://localhost:8080/"
        },
        "outputId": "b2f404a4-58d7-457e-bbea-bc5ab6eeb455"
      },
      "outputs": [
        {
          "output_type": "execute_result",
          "data": {
            "text/plain": [
              "69"
            ]
          },
          "metadata": {},
          "execution_count": 11
        }
      ],
      "source": [
        "g.edges.count()"
      ],
      "id": "ad1cb3c3-2a5e-476b-a2f6-a5f9eee5787d"
    },
    {
      "cell_type": "code",
      "execution_count": 12,
      "metadata": {
        "id": "f8a4afd4-8449-4528-9b5e-d5d2d98a6c87",
        "colab": {
          "base_uri": "https://localhost:8080/"
        },
        "outputId": "472eedc8-b5cb-41c4-f526-1339175a7807"
      },
      "outputs": [
        {
          "output_type": "stream",
          "name": "stdout",
          "text": [
            "+----------+\n",
            "|        id|\n",
            "+----------+\n",
            "|     David|\n",
            "|      John|\n",
            "|     Alice|\n",
            "|     Maria|\n",
            "|     Chris|\n",
            "|       Eva|\n",
            "|       Tom|\n",
            "|      Emma|\n",
            "|      Liam|\n",
            "|    Sophia|\n",
            "|  Notebook|\n",
            "|    Tablet|\n",
            "|Smartphone|\n",
            "|   Monitor|\n",
            "|   Printer|\n",
            "|    Router|\n",
            "|  Keyboard|\n",
            "|     Mouse|\n",
            "|    Webcam|\n",
            "|   Headset|\n",
            "+----------+\n",
            "only showing top 20 rows\n",
            "\n"
          ]
        }
      ],
      "source": [
        "g.vertices.show()"
      ],
      "id": "f8a4afd4-8449-4528-9b5e-d5d2d98a6c87"
    },
    {
      "cell_type": "code",
      "execution_count": 13,
      "metadata": {
        "id": "953237a5-467f-464b-851c-19047286aa6b",
        "colab": {
          "base_uri": "https://localhost:8080/"
        },
        "outputId": "6844b5ea-a13b-43b2-e4f1-522f569eb445"
      },
      "outputs": [
        {
          "output_type": "stream",
          "name": "stdout",
          "text": [
            "+------+---------------+-------+\n",
            "|   src|            dst|    rel|\n",
            "+------+---------------+-------+\n",
            "| David|       Notebook|    buy|\n",
            "|  John|     Smartphone|    buy|\n",
            "| Alice|         Tablet|    buy|\n",
            "| Maria|        Monitor|    buy|\n",
            "| Chris|         Webcam|    buy|\n",
            "|   Eva|        Headset|    buy|\n",
            "|   Tom|            SSD|    buy|\n",
            "|  Emma|       Keyboard|    buy|\n",
            "|  Liam|          Mouse|    buy|\n",
            "|Sophia|      USB Drive|    buy|\n",
            "| David|       portable|mention|\n",
            "| David|          speed|mention|\n",
            "|  John|         mobile|mention|\n",
            "| Alice|        compact|mention|\n",
            "| Maria|high-resolution|mention|\n",
            "| Chris|     affordable|mention|\n",
            "|   Eva|  user-friendly|mention|\n",
            "|   Tom|        durable|mention|\n",
            "|  Emma|      ergonomic|mention|\n",
            "|  Liam|       wireless|mention|\n",
            "+------+---------------+-------+\n",
            "only showing top 20 rows\n",
            "\n"
          ]
        }
      ],
      "source": [
        "g.edges.show()"
      ],
      "id": "953237a5-467f-464b-851c-19047286aa6b"
    },
    {
      "cell_type": "code",
      "execution_count": 14,
      "metadata": {
        "id": "08ad62ea-8686-4698-9d39-ea64605bab84",
        "colab": {
          "base_uri": "https://localhost:8080/"
        },
        "outputId": "4c7a8374-557a-4f5f-d184-0db501d94a38"
      },
      "outputs": [
        {
          "output_type": "stream",
          "name": "stderr",
          "text": [
            "/usr/local/lib/python3.10/dist-packages/pyspark/sql/dataframe.py:147: UserWarning: DataFrame constructor is internal. Do not directly use it.\n",
            "  warnings.warn(\"DataFrame constructor is internal. Do not directly use it.\")\n"
          ]
        },
        {
          "output_type": "stream",
          "name": "stdout",
          "text": [
            "+---------------+------+\n",
            "|             id|degree|\n",
            "+---------------+------+\n",
            "|          Chris|     2|\n",
            "|        compact|     2|\n",
            "|            Tom|     2|\n",
            "|        durable|     2|\n",
            "|      USB Drive|     5|\n",
            "|            Eva|     2|\n",
            "|         mobile|     2|\n",
            "|      ergonomic|     2|\n",
            "|        Headset|     7|\n",
            "|       wireless|     2|\n",
            "|            SSD|     5|\n",
            "|    lightweight|     2|\n",
            "|         Router|     6|\n",
            "|         Webcam|     5|\n",
            "|           John|     2|\n",
            "|           Liam|     2|\n",
            "|  user-friendly|     2|\n",
            "|high-resolution|     2|\n",
            "|       portable|     3|\n",
            "|          Alice|     2|\n",
            "+---------------+------+\n",
            "only showing top 20 rows\n",
            "\n"
          ]
        }
      ],
      "source": [
        "g.degrees.show()"
      ],
      "id": "08ad62ea-8686-4698-9d39-ea64605bab84"
    },
    {
      "cell_type": "code",
      "source": [
        "import plotly.graph_objects as go\n",
        "from igraph import Graph\n",
        "\n",
        "# Create a graph\n",
        "G = Graph()\n",
        "G.add_vertices(lst_vertices)\n",
        "G.add_edges([(edge[0], edge[1]) for edge in lst_edges])\n",
        "\n",
        "# Layout for the nodes\n",
        "layout = G.layout('fr')\n",
        "\n",
        "# Extract the x and y coordinates of the nodes\n",
        "x_nodes = [layout[k][0] for k in range(len(layout))]\n",
        "y_nodes = [layout[k][1] for k in range(len(layout))]\n",
        "\n",
        "# Nodes trace\n",
        "trace_nodes = go.Scatter(x=x_nodes, y=y_nodes, mode='markers', marker=dict(size=10, color='lightblue'),\n",
        "                         hoverinfo='text', text=lst_vertices)\n",
        "\n",
        "# Extract the edge endpoints for plotting\n",
        "x_edges = []\n",
        "y_edges = []\n",
        "for edge in G.es:\n",
        "    x_edges += [layout[edge.source][0], layout[edge.target][0], None]\n",
        "    y_edges += [layout[edge.source][1], layout[edge.target][1], None]\n",
        "\n",
        "# Edges trace\n",
        "trace_edges = go.Scatter(x=x_edges, y=y_edges, mode='lines', line=dict(width=1, color='grey'), hoverinfo='none')\n",
        "\n",
        "# Create the figure\n",
        "fig = go.Figure(data=[trace_edges, trace_nodes], layout=go.Layout(title='Graph visualization using Plotly',\n",
        "                                                                  showlegend=False, hovermode='closest',\n",
        "                                                                  margin=dict(b=20,l=5,r=5,t=40),\n",
        "                                                                  xaxis=dict(showgrid=False, zeroline=False, showticklabels=False),\n",
        "                                                                  yaxis=dict(showgrid=False, zeroline=False, showticklabels=False)))\n",
        "\n",
        "# Show the figure\n",
        "fig.show()"
      ],
      "metadata": {
        "id": "LSi2GZhgBw72",
        "colab": {
          "base_uri": "https://localhost:8080/",
          "height": 542
        },
        "outputId": "8785df67-166b-4750-ae33-ca49111bb288"
      },
      "id": "LSi2GZhgBw72",
      "execution_count": 15,
      "outputs": [
        {
          "output_type": "display_data",
          "data": {
            "text/html": [
              "<html>\n",
              "<head><meta charset=\"utf-8\" /></head>\n",
              "<body>\n",
              "    <div>            <script src=\"https://cdnjs.cloudflare.com/ajax/libs/mathjax/2.7.5/MathJax.js?config=TeX-AMS-MML_SVG\"></script><script type=\"text/javascript\">if (window.MathJax && window.MathJax.Hub && window.MathJax.Hub.Config) {window.MathJax.Hub.Config({SVG: {font: \"STIX-Web\"}});}</script>                <script type=\"text/javascript\">window.PlotlyConfig = {MathJaxConfig: 'local'};</script>\n",
              "        <script charset=\"utf-8\" src=\"https://cdn.plot.ly/plotly-2.24.1.min.js\"></script>                <div id=\"216bfd6e-6a78-47ec-8a71-51e0a3ea4df3\" class=\"plotly-graph-div\" style=\"height:525px; width:100%;\"></div>            <script type=\"text/javascript\">                                    window.PLOTLYENV=window.PLOTLYENV || {};                                    if (document.getElementById(\"216bfd6e-6a78-47ec-8a71-51e0a3ea4df3\")) {                    Plotly.newPlot(                        \"216bfd6e-6a78-47ec-8a71-51e0a3ea4df3\",                        [{\"hoverinfo\":\"none\",\"line\":{\"color\":\"grey\",\"width\":1},\"mode\":\"lines\",\"x\":[-6.506162349208615,-5.121959742689408,null,4.852692890592348,3.392483476249517,null,2.3675444617176424,2.1522264026205127,null,-9.61313003540555,-7.640271928279162,null,3.9818357118317373,2.360779682322448,null,6.6583217898524385,4.467416443878535,null,-2.980413916782334,-2.9883089626884454,null,1.590700139214479,0.9967260306321291,null,-2.8199188653500817,-1.843323188662844,null,-8.576629975998133,-7.316047521396043,null,-6.506162349208615,-5.942559774075292,null,-6.506162349208615,-7.405013192225841,null,4.852692890592348,5.3030755577841,null,2.3675444617176424,3.128879239158282,null,-9.61313003540555,-9.847975332098281,null,3.9818357118317373,3.3864247629233133,null,6.6583217898524385,6.311054556484628,null,-2.980413916782334,-2.229352257832772,null,1.590700139214479,0.8464133971849676,null,-2.8199188653500817,-2.14761177152933,null,-8.576629975998133,-7.865333670807277,null,-5.121959742689408,-5.942559774075292,null,2.1522264026205127,3.128879239158282,null,3.392483476249517,5.3030755577841,null,-7.640271928279162,-9.847975332098281,null,-5.177554773178541,-5.942559774075292,null,-5.911471991921717,-7.405013192225841,null,0.9967260306321291,0.8464133971849676,null,-1.843323188662844,-2.14761177152933,null,2.360779682322448,3.3864247629233133,null,4.467416443878535,6.311054556484628,null,-2.9883089626884454,-2.229352257832772,null,-7.316047521396043,-7.865333670807277,null,-5.121959742689408,-5.177554773178541,null,-5.121959742689408,-5.911471991921717,null,-5.121959742689408,-1.843323188662844,null,2.1522264026205127,4.467416443878535,null,2.1522264026205127,0.9967260306321291,null,3.392483476249517,4.467416443878535,null,-7.640271928279162,-5.177554773178541,null,-7.640271928279162,-5.911471991921717,null,-5.911471991921717,-7.316047521396043,null,-5.911471991921717,-2.9883089626884454,null,-5.121959742689408,-5.911471991921717,null,0.9967260306321291,2.360779682322448,null,3.392483476249517,4.467416443878535,null,-5.177554773178541,-1.843323188662844,null,0.9967260306321291,-1.843323188662844,null,-5.121959742689408,-7.061409479471013,null,2.1522264026205127,1.8230600311976954,null,3.392483476249517,1.8230600311976954,null,-5.177554773178541,-7.0584270224032295,null,-7.640271928279162,-7.0584270224032295,null,0.9967260306321291,1.8230600311976954,null,-1.843323188662844,1.8230600311976954,null,2.360779682322448,1.8230600311976954,null,4.467416443878535,1.8230600311976954,null,-7.316047521396043,-5.150913396137297,null,-2.9883089626884454,-5.150913396137297,null,-5.121959742689408,-6.746479755335833,null,3.392483476249517,0.48423155199083695,null,2.1522264026205127,0.48423155199083695,null,-7.640271928279162,-6.746479755335833,null,0.9967260306321291,0.19506092349731102,null,-1.843323188662844,0.19506092349731102,null,2.360779682322448,0.19506092349731102,null,4.467416443878535,6.585683754918554,null,-7.316047521396043,-9.224369837321165,null,-2.9883089626884454,0.48423155199083695,null],\"y\":[0.3455094474248183,-0.68907289348822,null,1.8564217710795545,0.19032471454648042,null,1.1164553451796704,-0.5870302547824421,null,-2.442806940503852,-1.3874053611042483,null,-5.974039935028462,-4.525202682772074,null,-1.436811707514989,-1.0568454820508966,null,5.162619916443394,3.19084579620384,null,-5.355877305110116,-3.3639682868193836,null,-4.346859461265633,-2.739037929898094,null,6.406551844870015,4.701588829357725,null,0.3455094474248183,-1.0599600502517457,null,0.3455094474248183,1.6582561396336661,null,1.8564217710795545,1.2234308286980387,null,1.1164553451796704,1.1142737949121853,null,-2.442806940503852,-1.6736357137119233,null,-5.974039935028462,-6.498726786416494,null,-1.436811707514989,-2.0944729514432736,null,5.162619916443394,4.986066849391027,null,-5.355877305110116,-5.475436052495887,null,-4.346859461265633,-4.6692570610830755,null,6.406551844870015,6.679347963858498,null,-0.68907289348822,-1.0599600502517457,null,-0.5870302547824421,1.1142737949121853,null,0.19032471454648042,1.2234308286980387,null,-1.3874053611042483,-1.6736357137119233,null,-2.2336060882502236,-1.0599600502517457,null,1.4930147951714487,1.6582561396336661,null,-3.3639682868193836,-5.475436052495887,null,-2.739037929898094,-4.6692570610830755,null,-4.525202682772074,-6.498726786416494,null,-1.0568454820508966,-2.0944729514432736,null,3.19084579620384,4.986066849391027,null,4.701588829357725,6.679347963858498,null,-0.68907289348822,-2.2336060882502236,null,-0.68907289348822,1.4930147951714487,null,-0.68907289348822,-2.739037929898094,null,-0.5870302547824421,-1.0568454820508966,null,-0.5870302547824421,-3.3639682868193836,null,0.19032471454648042,-1.0568454820508966,null,-1.3874053611042483,-2.2336060882502236,null,-1.3874053611042483,1.4930147951714487,null,1.4930147951714487,4.701588829357725,null,1.4930147951714487,3.19084579620384,null,-0.68907289348822,1.4930147951714487,null,-3.3639682868193836,-4.525202682772074,null,0.19032471454648042,-1.0568454820508966,null,-2.2336060882502236,-2.739037929898094,null,-3.3639682868193836,-2.739037929898094,null,-0.68907289348822,-0.4039351567625897,null,-0.5870302547824421,-2.0647873042762024,null,0.19032471454648042,-2.0647873042762024,null,-2.2336060882502236,-3.009953262649279,null,-1.3874053611042483,-3.009953262649279,null,-3.3639682868193836,-2.0647873042762024,null,-2.739037929898094,-2.0647873042762024,null,-4.525202682772074,-2.0647873042762024,null,-1.0568454820508966,-2.0647873042762024,null,4.701588829357725,4.532689796328296,null,3.19084579620384,4.532689796328296,null,-0.68907289348822,-1.8354245963578932,null,0.19032471454648042,1.4302103179437904,null,-0.5870302547824421,1.4302103179437904,null,-1.3874053611042483,-1.8354245963578932,null,-3.3639682868193836,-3.9639914572166575,null,-2.739037929898094,-3.9639914572166575,null,-4.525202682772074,-3.9639914572166575,null,-1.0568454820508966,-0.4109100504587905,null,4.701588829357725,5.520453879999068,null,3.19084579620384,1.4302103179437904,null],\"type\":\"scatter\"},{\"hoverinfo\":\"text\",\"marker\":{\"color\":\"lightblue\",\"size\":10},\"mode\":\"markers\",\"text\":[\"David\",\"John\",\"Alice\",\"Maria\",\"Chris\",\"Eva\",\"Tom\",\"Emma\",\"Liam\",\"Sophia\",\"Notebook\",\"Tablet\",\"Smartphone\",\"Monitor\",\"Printer\",\"Router\",\"Keyboard\",\"Mouse\",\"Webcam\",\"Headset\",\"USB Drive\",\"SSD\",\"Personal Computer\",\"Input Device\",\"Output Device\",\"Storage Device\",\"HP\",\"Samsung\",\"Logitech\",\"Sony\",\"SanDisk\",\"portable\",\"speed\",\"mobile\",\"compact\",\"high-resolution\",\"affordable\",\"user-friendly\",\"durable\",\"ergonomic\",\"wireless\",\"lightweight\"],\"x\":[-6.506162349208615,4.852692890592348,2.3675444617176424,-9.61313003540555,3.9818357118317373,6.6583217898524385,-2.980413916782334,1.590700139214479,-2.8199188653500817,-8.576629975998133,-5.121959742689408,2.1522264026205127,3.392483476249517,-7.640271928279162,-5.177554773178541,-5.911471991921717,0.9967260306321291,-1.843323188662844,2.360779682322448,4.467416443878535,-7.316047521396043,-2.9883089626884454,-7.061409479471013,1.8230600311976954,-7.0584270224032295,-5.150913396137297,-6.746479755335833,0.48423155199083695,0.19506092349731102,6.585683754918554,-9.224369837321165,-5.942559774075292,-7.405013192225841,5.3030755577841,3.128879239158282,-9.847975332098281,3.3864247629233133,6.311054556484628,-2.229352257832772,0.8464133971849676,-2.14761177152933,-7.865333670807277],\"y\":[0.3455094474248183,1.8564217710795545,1.1164553451796704,-2.442806940503852,-5.974039935028462,-1.436811707514989,5.162619916443394,-5.355877305110116,-4.346859461265633,6.406551844870015,-0.68907289348822,-0.5870302547824421,0.19032471454648042,-1.3874053611042483,-2.2336060882502236,1.4930147951714487,-3.3639682868193836,-2.739037929898094,-4.525202682772074,-1.0568454820508966,4.701588829357725,3.19084579620384,-0.4039351567625897,-2.0647873042762024,-3.009953262649279,4.532689796328296,-1.8354245963578932,1.4302103179437904,-3.9639914572166575,-0.4109100504587905,5.520453879999068,-1.0599600502517457,1.6582561396336661,1.2234308286980387,1.1142737949121853,-1.6736357137119233,-6.498726786416494,-2.0944729514432736,4.986066849391027,-5.475436052495887,-4.6692570610830755,6.679347963858498],\"type\":\"scatter\"}],                        {\"hovermode\":\"closest\",\"margin\":{\"b\":20,\"l\":5,\"r\":5,\"t\":40},\"showlegend\":false,\"title\":{\"text\":\"Graph visualization using Plotly\"},\"xaxis\":{\"showgrid\":false,\"showticklabels\":false,\"zeroline\":false},\"yaxis\":{\"showgrid\":false,\"showticklabels\":false,\"zeroline\":false},\"template\":{\"data\":{\"histogram2dcontour\":[{\"type\":\"histogram2dcontour\",\"colorbar\":{\"outlinewidth\":0,\"ticks\":\"\"},\"colorscale\":[[0.0,\"#0d0887\"],[0.1111111111111111,\"#46039f\"],[0.2222222222222222,\"#7201a8\"],[0.3333333333333333,\"#9c179e\"],[0.4444444444444444,\"#bd3786\"],[0.5555555555555556,\"#d8576b\"],[0.6666666666666666,\"#ed7953\"],[0.7777777777777778,\"#fb9f3a\"],[0.8888888888888888,\"#fdca26\"],[1.0,\"#f0f921\"]]}],\"choropleth\":[{\"type\":\"choropleth\",\"colorbar\":{\"outlinewidth\":0,\"ticks\":\"\"}}],\"histogram2d\":[{\"type\":\"histogram2d\",\"colorbar\":{\"outlinewidth\":0,\"ticks\":\"\"},\"colorscale\":[[0.0,\"#0d0887\"],[0.1111111111111111,\"#46039f\"],[0.2222222222222222,\"#7201a8\"],[0.3333333333333333,\"#9c179e\"],[0.4444444444444444,\"#bd3786\"],[0.5555555555555556,\"#d8576b\"],[0.6666666666666666,\"#ed7953\"],[0.7777777777777778,\"#fb9f3a\"],[0.8888888888888888,\"#fdca26\"],[1.0,\"#f0f921\"]]}],\"heatmap\":[{\"type\":\"heatmap\",\"colorbar\":{\"outlinewidth\":0,\"ticks\":\"\"},\"colorscale\":[[0.0,\"#0d0887\"],[0.1111111111111111,\"#46039f\"],[0.2222222222222222,\"#7201a8\"],[0.3333333333333333,\"#9c179e\"],[0.4444444444444444,\"#bd3786\"],[0.5555555555555556,\"#d8576b\"],[0.6666666666666666,\"#ed7953\"],[0.7777777777777778,\"#fb9f3a\"],[0.8888888888888888,\"#fdca26\"],[1.0,\"#f0f921\"]]}],\"heatmapgl\":[{\"type\":\"heatmapgl\",\"colorbar\":{\"outlinewidth\":0,\"ticks\":\"\"},\"colorscale\":[[0.0,\"#0d0887\"],[0.1111111111111111,\"#46039f\"],[0.2222222222222222,\"#7201a8\"],[0.3333333333333333,\"#9c179e\"],[0.4444444444444444,\"#bd3786\"],[0.5555555555555556,\"#d8576b\"],[0.6666666666666666,\"#ed7953\"],[0.7777777777777778,\"#fb9f3a\"],[0.8888888888888888,\"#fdca26\"],[1.0,\"#f0f921\"]]}],\"contourcarpet\":[{\"type\":\"contourcarpet\",\"colorbar\":{\"outlinewidth\":0,\"ticks\":\"\"}}],\"contour\":[{\"type\":\"contour\",\"colorbar\":{\"outlinewidth\":0,\"ticks\":\"\"},\"colorscale\":[[0.0,\"#0d0887\"],[0.1111111111111111,\"#46039f\"],[0.2222222222222222,\"#7201a8\"],[0.3333333333333333,\"#9c179e\"],[0.4444444444444444,\"#bd3786\"],[0.5555555555555556,\"#d8576b\"],[0.6666666666666666,\"#ed7953\"],[0.7777777777777778,\"#fb9f3a\"],[0.8888888888888888,\"#fdca26\"],[1.0,\"#f0f921\"]]}],\"surface\":[{\"type\":\"surface\",\"colorbar\":{\"outlinewidth\":0,\"ticks\":\"\"},\"colorscale\":[[0.0,\"#0d0887\"],[0.1111111111111111,\"#46039f\"],[0.2222222222222222,\"#7201a8\"],[0.3333333333333333,\"#9c179e\"],[0.4444444444444444,\"#bd3786\"],[0.5555555555555556,\"#d8576b\"],[0.6666666666666666,\"#ed7953\"],[0.7777777777777778,\"#fb9f3a\"],[0.8888888888888888,\"#fdca26\"],[1.0,\"#f0f921\"]]}],\"mesh3d\":[{\"type\":\"mesh3d\",\"colorbar\":{\"outlinewidth\":0,\"ticks\":\"\"}}],\"scatter\":[{\"fillpattern\":{\"fillmode\":\"overlay\",\"size\":10,\"solidity\":0.2},\"type\":\"scatter\"}],\"parcoords\":[{\"type\":\"parcoords\",\"line\":{\"colorbar\":{\"outlinewidth\":0,\"ticks\":\"\"}}}],\"scatterpolargl\":[{\"type\":\"scatterpolargl\",\"marker\":{\"colorbar\":{\"outlinewidth\":0,\"ticks\":\"\"}}}],\"bar\":[{\"error_x\":{\"color\":\"#2a3f5f\"},\"error_y\":{\"color\":\"#2a3f5f\"},\"marker\":{\"line\":{\"color\":\"#E5ECF6\",\"width\":0.5},\"pattern\":{\"fillmode\":\"overlay\",\"size\":10,\"solidity\":0.2}},\"type\":\"bar\"}],\"scattergeo\":[{\"type\":\"scattergeo\",\"marker\":{\"colorbar\":{\"outlinewidth\":0,\"ticks\":\"\"}}}],\"scatterpolar\":[{\"type\":\"scatterpolar\",\"marker\":{\"colorbar\":{\"outlinewidth\":0,\"ticks\":\"\"}}}],\"histogram\":[{\"marker\":{\"pattern\":{\"fillmode\":\"overlay\",\"size\":10,\"solidity\":0.2}},\"type\":\"histogram\"}],\"scattergl\":[{\"type\":\"scattergl\",\"marker\":{\"colorbar\":{\"outlinewidth\":0,\"ticks\":\"\"}}}],\"scatter3d\":[{\"type\":\"scatter3d\",\"line\":{\"colorbar\":{\"outlinewidth\":0,\"ticks\":\"\"}},\"marker\":{\"colorbar\":{\"outlinewidth\":0,\"ticks\":\"\"}}}],\"scattermapbox\":[{\"type\":\"scattermapbox\",\"marker\":{\"colorbar\":{\"outlinewidth\":0,\"ticks\":\"\"}}}],\"scatterternary\":[{\"type\":\"scatterternary\",\"marker\":{\"colorbar\":{\"outlinewidth\":0,\"ticks\":\"\"}}}],\"scattercarpet\":[{\"type\":\"scattercarpet\",\"marker\":{\"colorbar\":{\"outlinewidth\":0,\"ticks\":\"\"}}}],\"carpet\":[{\"aaxis\":{\"endlinecolor\":\"#2a3f5f\",\"gridcolor\":\"white\",\"linecolor\":\"white\",\"minorgridcolor\":\"white\",\"startlinecolor\":\"#2a3f5f\"},\"baxis\":{\"endlinecolor\":\"#2a3f5f\",\"gridcolor\":\"white\",\"linecolor\":\"white\",\"minorgridcolor\":\"white\",\"startlinecolor\":\"#2a3f5f\"},\"type\":\"carpet\"}],\"table\":[{\"cells\":{\"fill\":{\"color\":\"#EBF0F8\"},\"line\":{\"color\":\"white\"}},\"header\":{\"fill\":{\"color\":\"#C8D4E3\"},\"line\":{\"color\":\"white\"}},\"type\":\"table\"}],\"barpolar\":[{\"marker\":{\"line\":{\"color\":\"#E5ECF6\",\"width\":0.5},\"pattern\":{\"fillmode\":\"overlay\",\"size\":10,\"solidity\":0.2}},\"type\":\"barpolar\"}],\"pie\":[{\"automargin\":true,\"type\":\"pie\"}]},\"layout\":{\"autotypenumbers\":\"strict\",\"colorway\":[\"#636efa\",\"#EF553B\",\"#00cc96\",\"#ab63fa\",\"#FFA15A\",\"#19d3f3\",\"#FF6692\",\"#B6E880\",\"#FF97FF\",\"#FECB52\"],\"font\":{\"color\":\"#2a3f5f\"},\"hovermode\":\"closest\",\"hoverlabel\":{\"align\":\"left\"},\"paper_bgcolor\":\"white\",\"plot_bgcolor\":\"#E5ECF6\",\"polar\":{\"bgcolor\":\"#E5ECF6\",\"angularaxis\":{\"gridcolor\":\"white\",\"linecolor\":\"white\",\"ticks\":\"\"},\"radialaxis\":{\"gridcolor\":\"white\",\"linecolor\":\"white\",\"ticks\":\"\"}},\"ternary\":{\"bgcolor\":\"#E5ECF6\",\"aaxis\":{\"gridcolor\":\"white\",\"linecolor\":\"white\",\"ticks\":\"\"},\"baxis\":{\"gridcolor\":\"white\",\"linecolor\":\"white\",\"ticks\":\"\"},\"caxis\":{\"gridcolor\":\"white\",\"linecolor\":\"white\",\"ticks\":\"\"}},\"coloraxis\":{\"colorbar\":{\"outlinewidth\":0,\"ticks\":\"\"}},\"colorscale\":{\"sequential\":[[0.0,\"#0d0887\"],[0.1111111111111111,\"#46039f\"],[0.2222222222222222,\"#7201a8\"],[0.3333333333333333,\"#9c179e\"],[0.4444444444444444,\"#bd3786\"],[0.5555555555555556,\"#d8576b\"],[0.6666666666666666,\"#ed7953\"],[0.7777777777777778,\"#fb9f3a\"],[0.8888888888888888,\"#fdca26\"],[1.0,\"#f0f921\"]],\"sequentialminus\":[[0.0,\"#0d0887\"],[0.1111111111111111,\"#46039f\"],[0.2222222222222222,\"#7201a8\"],[0.3333333333333333,\"#9c179e\"],[0.4444444444444444,\"#bd3786\"],[0.5555555555555556,\"#d8576b\"],[0.6666666666666666,\"#ed7953\"],[0.7777777777777778,\"#fb9f3a\"],[0.8888888888888888,\"#fdca26\"],[1.0,\"#f0f921\"]],\"diverging\":[[0,\"#8e0152\"],[0.1,\"#c51b7d\"],[0.2,\"#de77ae\"],[0.3,\"#f1b6da\"],[0.4,\"#fde0ef\"],[0.5,\"#f7f7f7\"],[0.6,\"#e6f5d0\"],[0.7,\"#b8e186\"],[0.8,\"#7fbc41\"],[0.9,\"#4d9221\"],[1,\"#276419\"]]},\"xaxis\":{\"gridcolor\":\"white\",\"linecolor\":\"white\",\"ticks\":\"\",\"title\":{\"standoff\":15},\"zerolinecolor\":\"white\",\"automargin\":true,\"zerolinewidth\":2},\"yaxis\":{\"gridcolor\":\"white\",\"linecolor\":\"white\",\"ticks\":\"\",\"title\":{\"standoff\":15},\"zerolinecolor\":\"white\",\"automargin\":true,\"zerolinewidth\":2},\"scene\":{\"xaxis\":{\"backgroundcolor\":\"#E5ECF6\",\"gridcolor\":\"white\",\"linecolor\":\"white\",\"showbackground\":true,\"ticks\":\"\",\"zerolinecolor\":\"white\",\"gridwidth\":2},\"yaxis\":{\"backgroundcolor\":\"#E5ECF6\",\"gridcolor\":\"white\",\"linecolor\":\"white\",\"showbackground\":true,\"ticks\":\"\",\"zerolinecolor\":\"white\",\"gridwidth\":2},\"zaxis\":{\"backgroundcolor\":\"#E5ECF6\",\"gridcolor\":\"white\",\"linecolor\":\"white\",\"showbackground\":true,\"ticks\":\"\",\"zerolinecolor\":\"white\",\"gridwidth\":2}},\"shapedefaults\":{\"line\":{\"color\":\"#2a3f5f\"}},\"annotationdefaults\":{\"arrowcolor\":\"#2a3f5f\",\"arrowhead\":0,\"arrowwidth\":1},\"geo\":{\"bgcolor\":\"white\",\"landcolor\":\"#E5ECF6\",\"subunitcolor\":\"white\",\"showland\":true,\"showlakes\":true,\"lakecolor\":\"white\"},\"title\":{\"x\":0.05},\"mapbox\":{\"style\":\"light\"}}}},                        {\"responsive\": true}                    ).then(function(){\n",
              "                            \n",
              "var gd = document.getElementById('216bfd6e-6a78-47ec-8a71-51e0a3ea4df3');\n",
              "var x = new MutationObserver(function (mutations, observer) {{\n",
              "        var display = window.getComputedStyle(gd).display;\n",
              "        if (!display || display === 'none') {{\n",
              "            console.log([gd, 'removed!']);\n",
              "            Plotly.purge(gd);\n",
              "            observer.disconnect();\n",
              "        }}\n",
              "}});\n",
              "\n",
              "// Listen for the removal of the full notebook cells\n",
              "var notebookContainer = gd.closest('#notebook-container');\n",
              "if (notebookContainer) {{\n",
              "    x.observe(notebookContainer, {childList: true});\n",
              "}}\n",
              "\n",
              "// Listen for the clearing of the current output cell\n",
              "var outputEl = gd.closest('.output');\n",
              "if (outputEl) {{\n",
              "    x.observe(outputEl, {childList: true});\n",
              "}}\n",
              "\n",
              "                        })                };                            </script>        </div>\n",
              "</body>\n",
              "</html>"
            ]
          },
          "metadata": {}
        }
      ]
    },
    {
      "cell_type": "code",
      "source": [
        "import plotly.graph_objects as go\n",
        "from igraph import Graph\n",
        "\n",
        "# Create a graph\n",
        "G = Graph()\n",
        "G.add_vertices(lst_vertices)\n",
        "G.add_edges([(edge[0], edge[1]) for edge in lst_edges])\n",
        "\n",
        "# Layout for the nodes\n",
        "layout = G.layout('fr')\n",
        "\n",
        "# Extract the x and y coordinates of the nodes\n",
        "x_nodes = [layout[k][0] for k in range(len(layout))]\n",
        "y_nodes = [layout[k][1] for k in range(len(layout))]\n",
        "\n",
        "# Nodes trace\n",
        "trace_nodes = go.Scatter(x=x_nodes, y=y_nodes, mode='markers+text', marker=dict(size=10, color='lightblue'),\n",
        "                         text=lst_vertices, textposition=\"bottom center\")\n",
        "\n",
        "# Extract the edge endpoints and labels for plotting\n",
        "x_edges = []\n",
        "y_edges = []\n",
        "edge_labels = []\n",
        "for edge in G.es:\n",
        "    x_edges += [layout[edge.source][0], layout[edge.target][0], None]\n",
        "    y_edges += [layout[edge.source][1], layout[edge.target][1], None]\n",
        "    edge_labels.append((layout[edge.source][0] + layout[edge.target][0]) / 2)\n",
        "    edge_labels.append((layout[edge.source][1] + layout[edge.target][1]) / 2)\n",
        "\n",
        "# Edges trace\n",
        "trace_edges = go.Scatter(x=x_edges, y=y_edges, mode='lines', line=dict(width=1, color='grey'), hoverinfo='none')\n",
        "\n",
        "# Edge labels trace\n",
        "trace_edge_labels = go.Scatter(x=edge_labels[::2], y=edge_labels[1::2], text=[e[2] for e in lst_edges],\n",
        "                               mode='text', textposition=\"bottom center\", hoverinfo='none')\n",
        "\n",
        "# Create the figure\n",
        "fig = go.Figure(data=[trace_edges, trace_nodes, trace_edge_labels], layout=go.Layout(title='Graph visualization using Plotly',\n",
        "                                                                                      showlegend=False, hovermode='closest',\n",
        "                                                                                      margin=dict(b=20,l=5,r=5,t=40),\n",
        "                                                                                      xaxis=dict(showgrid=False, zeroline=False, showticklabels=False),\n",
        "                                                                                      yaxis=dict(showgrid=False, zeroline=False, showticklabels=False)))\n",
        "\n",
        "# Show the figure\n",
        "fig.show()\n"
      ],
      "metadata": {
        "id": "7PAFYGTQC1en",
        "colab": {
          "base_uri": "https://localhost:8080/",
          "height": 542
        },
        "outputId": "361fd478-8cac-4852-dded-c1537b9c7c62"
      },
      "id": "7PAFYGTQC1en",
      "execution_count": 16,
      "outputs": [
        {
          "output_type": "display_data",
          "data": {
            "text/html": [
              "<html>\n",
              "<head><meta charset=\"utf-8\" /></head>\n",
              "<body>\n",
              "    <div>            <script src=\"https://cdnjs.cloudflare.com/ajax/libs/mathjax/2.7.5/MathJax.js?config=TeX-AMS-MML_SVG\"></script><script type=\"text/javascript\">if (window.MathJax && window.MathJax.Hub && window.MathJax.Hub.Config) {window.MathJax.Hub.Config({SVG: {font: \"STIX-Web\"}});}</script>                <script type=\"text/javascript\">window.PlotlyConfig = {MathJaxConfig: 'local'};</script>\n",
              "        <script charset=\"utf-8\" src=\"https://cdn.plot.ly/plotly-2.24.1.min.js\"></script>                <div id=\"31c826da-dedc-44bc-a03f-a6b9452a38c2\" class=\"plotly-graph-div\" style=\"height:525px; width:100%;\"></div>            <script type=\"text/javascript\">                                    window.PLOTLYENV=window.PLOTLYENV || {};                                    if (document.getElementById(\"31c826da-dedc-44bc-a03f-a6b9452a38c2\")) {                    Plotly.newPlot(                        \"31c826da-dedc-44bc-a03f-a6b9452a38c2\",                        [{\"hoverinfo\":\"none\",\"line\":{\"color\":\"grey\",\"width\":1},\"mode\":\"lines\",\"x\":[-4.689082369932796,-3.0504903023242025,null,5.4945557359459025,3.5588913260031134,null,3.8728417322584967,2.6655380014671888,null,-4.4299139923882835,-3.5732803323740114,null,-0.9693198165084842,0.23045965297171062,null,7.189198478310144,4.947173123772442,null,-5.591971360280641,-3.9367208181997433,null,0.8351213556978502,1.0443634304110687,null,1.5675062202798193,-0.04197782772044175,null,-10.428676940374741,-8.296508691823323,null,-4.689082369932796,-3.2434054233231957,null,-4.689082369932796,-6.169672444890589,null,5.4945557359459025,5.200845752785081,null,3.8728417322584967,3.1964032393717656,null,-4.4299139923882835,-3.6428186130069813,null,-0.9693198165084842,-0.2822628933128547,null,7.189198478310144,6.872725146663368,null,-5.591971360280641,-5.063815266935539,null,0.8351213556978502,1.5393613071700996,null,1.5675062202798193,1.0082504457244499,null,-10.428676940374741,-10.226800701227248,null,-3.0504903023242025,-3.2434054233231957,null,2.6655380014671888,3.1964032393717656,null,3.5588913260031134,5.200845752785081,null,-3.5732803323740114,-3.6428186130069813,null,-1.815124533659196,-3.2434054233231957,null,-4.9780013330198445,-6.169672444890589,null,1.0443634304110687,1.5393613071700996,null,-0.04197782772044175,1.0082504457244499,null,0.23045965297171062,-0.2822628933128547,null,4.947173123772442,6.872725146663368,null,-3.9367208181997433,-5.063815266935539,null,-8.296508691823323,-10.226800701227248,null,-3.0504903023242025,-1.815124533659196,null,-3.0504903023242025,-4.9780013330198445,null,-3.0504903023242025,-0.04197782772044175,null,2.6655380014671888,4.947173123772442,null,2.6655380014671888,1.0443634304110687,null,3.5588913260031134,4.947173123772442,null,-3.5732803323740114,-1.815124533659196,null,-3.5732803323740114,-4.9780013330198445,null,-4.9780013330198445,-8.296508691823323,null,-4.9780013330198445,-3.9367208181997433,null,-3.0504903023242025,-4.9780013330198445,null,1.0443634304110687,0.23045965297171062,null,3.5588913260031134,4.947173123772442,null,-1.815124533659196,-0.04197782772044175,null,1.0443634304110687,-0.04197782772044175,null,-3.0504903023242025,-4.364381205273119,null,2.6655380014671888,2.1443129823651654,null,3.5588913260031134,2.1443129823651654,null,-1.815124533659196,-1.9216287834771326,null,-3.5732803323740114,-1.9216287834771326,null,1.0443634304110687,2.1443129823651654,null,-0.04197782772044175,2.1443129823651654,null,0.23045965297171062,2.1443129823651654,null,4.947173123772442,2.1443129823651654,null,-8.296508691823323,-6.542678902873247,null,-3.9367208181997433,-6.542678902873247,null,-3.0504903023242025,-2.7813494213305177,null,3.5588913260031134,0.09362065617601661,null,2.6655380014671888,0.09362065617601661,null,-3.5732803323740114,-2.7813494213305177,null,1.0443634304110687,0.18617157236422416,null,-0.04197782772044175,0.18617157236422416,null,0.23045965297171062,0.18617157236422416,null,4.947173123772442,7.146807537171396,null,-8.296508691823323,-10.108224695934348,null,-3.9367208181997433,0.09362065617601661,null],\"y\":[-3.7866355228708453,-3.025412897529063,null,3.679743819013238,2.8503430242544554,null,5.370404686033082,3.4640110695181545,null,-7.628387174618803,-5.550462334538958,null,5.353024118487499,3.529311177319789,null,2.1920750330500915,2.467034867664849,null,1.6879346757717675,0.6336205078275895,null,4.307297094706013,2.25657220471684,null,-1.911918916644293,-0.8426402220568611,null,-1.7769959767185244,-1.7650097901807824,null,-3.7866355228708453,-3.9763716473205637,null,-3.7866355228708453,-3.726549371876292,null,3.679743819013238,4.372336268398997,null,5.370404686033082,5.686820482238435,null,-7.628387174618803,-7.803048742869708,null,5.353024118487499,5.749515808061649,null,2.1920750330500915,1.5009882973804327,null,1.6879346757717675,2.2374599869526306,null,4.307297094706013,4.048627294617992,null,-1.911918916644293,-2.4234740140538307,null,-1.7769959767185244,-1.0416194982029128,null,-3.025412897529063,-3.9763716473205637,null,3.4640110695181545,5.686820482238435,null,2.8503430242544554,4.372336268398997,null,-5.550462334538958,-7.803048742869708,null,-3.732145740193424,-3.9763716473205637,null,-2.5380113891144296,-3.726549371876292,null,2.25657220471684,4.048627294617992,null,-0.8426402220568611,-2.4234740140538307,null,3.529311177319789,5.749515808061649,null,2.467034867664849,1.5009882973804327,null,0.6336205078275895,2.2374599869526306,null,-1.7650097901807824,-1.0416194982029128,null,-3.025412897529063,-3.732145740193424,null,-3.025412897529063,-2.5380113891144296,null,-3.025412897529063,-0.8426402220568611,null,3.4640110695181545,2.467034867664849,null,3.4640110695181545,2.25657220471684,null,2.8503430242544554,2.467034867664849,null,-5.550462334538958,-3.732145740193424,null,-5.550462334538958,-2.5380113891144296,null,-2.5380113891144296,-1.7650097901807824,null,-2.5380113891144296,0.6336205078275895,null,-3.025412897529063,-2.5380113891144296,null,2.25657220471684,3.529311177319789,null,2.8503430242544554,2.467034867664849,null,-3.732145740193424,-0.8426402220568611,null,2.25657220471684,-0.8426402220568611,null,-3.025412897529063,-4.694870964842538,null,3.4640110695181545,1.8573034952932728,null,2.8503430242544554,1.8573034952932728,null,-3.732145740193424,-5.797226127557978,null,-5.550462334538958,-5.797226127557978,null,2.25657220471684,1.8573034952932728,null,-0.8426402220568611,1.8573034952932728,null,3.529311177319789,1.8573034952932728,null,2.467034867664849,1.8573034952932728,null,-1.7650097901807824,-0.2524912105543517,null,0.6336205078275895,-0.2524912105543517,null,-3.025412897529063,-5.007811696072019,null,2.8503430242544554,2.193132483826653,null,3.4640110695181545,2.193132483826653,null,-5.550462334538958,-5.007811696072019,null,2.25657220471684,1.2884163006299498,null,-0.8426402220568611,1.2884163006299498,null,3.529311177319789,1.2884163006299498,null,2.467034867664849,3.285498820191267,null,-1.7650097901807824,-2.8292583768329416,null,0.6336205078275895,2.193132483826653,null],\"type\":\"scatter\"},{\"marker\":{\"color\":\"lightblue\",\"size\":10},\"mode\":\"markers+text\",\"text\":[\"David\",\"John\",\"Alice\",\"Maria\",\"Chris\",\"Eva\",\"Tom\",\"Emma\",\"Liam\",\"Sophia\",\"Notebook\",\"Tablet\",\"Smartphone\",\"Monitor\",\"Printer\",\"Router\",\"Keyboard\",\"Mouse\",\"Webcam\",\"Headset\",\"USB Drive\",\"SSD\",\"Personal Computer\",\"Input Device\",\"Output Device\",\"Storage Device\",\"HP\",\"Samsung\",\"Logitech\",\"Sony\",\"SanDisk\",\"portable\",\"speed\",\"mobile\",\"compact\",\"high-resolution\",\"affordable\",\"user-friendly\",\"durable\",\"ergonomic\",\"wireless\",\"lightweight\"],\"textposition\":\"bottom center\",\"x\":[-4.689082369932796,5.4945557359459025,3.8728417322584967,-4.4299139923882835,-0.9693198165084842,7.189198478310144,-5.591971360280641,0.8351213556978502,1.5675062202798193,-10.428676940374741,-3.0504903023242025,2.6655380014671888,3.5588913260031134,-3.5732803323740114,-1.815124533659196,-4.9780013330198445,1.0443634304110687,-0.04197782772044175,0.23045965297171062,4.947173123772442,-8.296508691823323,-3.9367208181997433,-4.364381205273119,2.1443129823651654,-1.9216287834771326,-6.542678902873247,-2.7813494213305177,0.09362065617601661,0.18617157236422416,7.146807537171396,-10.108224695934348,-3.2434054233231957,-6.169672444890589,5.200845752785081,3.1964032393717656,-3.6428186130069813,-0.2822628933128547,6.872725146663368,-5.063815266935539,1.5393613071700996,1.0082504457244499,-10.226800701227248],\"y\":[-3.7866355228708453,3.679743819013238,5.370404686033082,-7.628387174618803,5.353024118487499,2.1920750330500915,1.6879346757717675,4.307297094706013,-1.911918916644293,-1.7769959767185244,-3.025412897529063,3.4640110695181545,2.8503430242544554,-5.550462334538958,-3.732145740193424,-2.5380113891144296,2.25657220471684,-0.8426402220568611,3.529311177319789,2.467034867664849,-1.7650097901807824,0.6336205078275895,-4.694870964842538,1.8573034952932728,-5.797226127557978,-0.2524912105543517,-5.007811696072019,2.193132483826653,1.2884163006299498,3.285498820191267,-2.8292583768329416,-3.9763716473205637,-3.726549371876292,4.372336268398997,5.686820482238435,-7.803048742869708,5.749515808061649,1.5009882973804327,2.2374599869526306,4.048627294617992,-2.4234740140538307,-1.0416194982029128],\"type\":\"scatter\"},{\"hoverinfo\":\"none\",\"mode\":\"text\",\"text\":[\"buy\",\"buy\",\"buy\",\"buy\",\"buy\",\"buy\",\"buy\",\"buy\",\"buy\",\"buy\",\"mention\",\"mention\",\"mention\",\"mention\",\"mention\",\"mention\",\"mention\",\"mention\",\"mention\",\"mention\",\"mention\",\"mention\",\"mention\",\"mention\",\"mention\",\"mention\",\"mention\",\"mention\",\"mention\",\"mention\",\"mention\",\"mention\",\"mention\",\"also_buy\",\"also_buy\",\"also_buy\",\"also_buy\",\"also_buy\",\"also_buy\",\"also_buy\",\"also_buy\",\"also_buy\",\"also_buy\",\"also_view\",\"also_view\",\"also_view\",\"also_view\",\"also_view\",\"belongs_to_category\",\"belongs_to_category\",\"belongs_to_category\",\"belongs_to_category\",\"belongs_to_category\",\"belongs_to_category\",\"belongs_to_category\",\"belongs_to_category\",\"belongs_to_category\",\"belongs_to_category\",\"belongs_to_category\",\"belongs_to_brand\",\"belongs_to_brand\",\"belongs_to_brand\",\"belongs_to_brand\",\"belongs_to_brand\",\"belongs_to_brand\",\"belongs_to_brand\",\"belongs_to_brand\",\"belongs_to_brand\",\"belongs_to_brand\"],\"textposition\":\"bottom center\",\"x\":[-3.8697863361284996,4.5267235309745075,3.2691898668628427,-4.001597162381147,-0.36943008176838676,6.0681858010412935,-4.764346089240192,0.9397423930544595,0.7627641962796888,-9.362592816099031,-3.9662438966279963,-5.4293774074116925,5.347700744365492,3.534622485815131,-4.036366302697632,-0.6257913549106695,7.030961812486756,-5.32789331360809,1.187241331433975,1.2878783330021346,-10.327738820800995,-3.146947862823699,2.930970620419477,4.3798685393940975,-3.6080494726904964,-2.529264978491196,-5.573836888955217,1.2918623687905841,0.48313630900200405,-0.025901620170572043,5.909949135217905,-4.500268042567641,-9.261654696525286,-2.4328074179916994,-4.014245817672023,-1.546234065022322,3.8063555626198156,1.8549507159391287,4.253032224887778,-2.6942024330166037,-4.2756408326969275,-6.6372550124215834,-4.457361075609794,-4.014245817672023,0.6374115416913897,4.253032224887778,-0.9285511806898188,0.5011928013453135,-3.707435753798661,2.404925491916177,2.8516021541841394,-1.8683766585681643,-2.747454557925572,1.594338206388117,1.0511675773223619,1.187386317668438,3.545743053068804,-7.419593797348285,-5.239699860536495,-2.9159198618273603,1.826255991089565,1.3795793288216027,-3.1773148768522645,0.6152675013876464,0.0720968723218912,0.2083156126679674,6.046990330471919,-9.202366693878837,-1.9215500810118633],\"y\":[-3.406024210199954,3.2650434216338464,4.417207877775618,-6.58942475457888,4.441167647903644,2.32955495035747,1.1607775917996785,3.2819346497114266,-1.377279569350577,-1.7710028834496534,-3.8815035850957047,-3.756592447373569,4.026040043706118,5.528612584135758,-7.715717958744255,5.551269963274574,1.8465316652152621,1.962697331362199,4.177962194662003,-2.167696465349062,-1.4093077374607186,-3.5008922724248133,4.5754157758782945,3.6113396463267264,-6.676755538704333,-3.854258693756994,-3.1322803804953607,3.152599749667416,-1.633057118055346,4.63941349269072,1.9840115825226408,1.43554024739011,-1.4033146441918476,-3.3787793188612434,-2.781712143321746,-1.934026559792962,2.9655229685915017,2.8602916371174976,2.658688945959652,-4.641304037366191,-4.044236861826693,-2.151510589647606,-0.9521954406434201,-2.781712143321746,2.8929416910183146,2.658688945959652,-2.2873929811251426,0.7069659913299895,-3.8601419311858005,2.6606572824057135,2.353823259773864,-4.7646859338757,-5.673844231048468,2.0569378500050566,0.5073316366182059,2.693307336306531,2.1621691814790607,-1.008750500367567,0.1905646486366189,-4.016612296800541,2.5217377540405543,2.828571776672404,-5.279137015305489,1.772494252673395,0.22288803928654438,2.4088637389748695,2.876266843928058,-2.297134083506862,1.413376495827121],\"type\":\"scatter\"}],                        {\"hovermode\":\"closest\",\"margin\":{\"b\":20,\"l\":5,\"r\":5,\"t\":40},\"showlegend\":false,\"title\":{\"text\":\"Graph visualization using Plotly\"},\"xaxis\":{\"showgrid\":false,\"showticklabels\":false,\"zeroline\":false},\"yaxis\":{\"showgrid\":false,\"showticklabels\":false,\"zeroline\":false},\"template\":{\"data\":{\"histogram2dcontour\":[{\"type\":\"histogram2dcontour\",\"colorbar\":{\"outlinewidth\":0,\"ticks\":\"\"},\"colorscale\":[[0.0,\"#0d0887\"],[0.1111111111111111,\"#46039f\"],[0.2222222222222222,\"#7201a8\"],[0.3333333333333333,\"#9c179e\"],[0.4444444444444444,\"#bd3786\"],[0.5555555555555556,\"#d8576b\"],[0.6666666666666666,\"#ed7953\"],[0.7777777777777778,\"#fb9f3a\"],[0.8888888888888888,\"#fdca26\"],[1.0,\"#f0f921\"]]}],\"choropleth\":[{\"type\":\"choropleth\",\"colorbar\":{\"outlinewidth\":0,\"ticks\":\"\"}}],\"histogram2d\":[{\"type\":\"histogram2d\",\"colorbar\":{\"outlinewidth\":0,\"ticks\":\"\"},\"colorscale\":[[0.0,\"#0d0887\"],[0.1111111111111111,\"#46039f\"],[0.2222222222222222,\"#7201a8\"],[0.3333333333333333,\"#9c179e\"],[0.4444444444444444,\"#bd3786\"],[0.5555555555555556,\"#d8576b\"],[0.6666666666666666,\"#ed7953\"],[0.7777777777777778,\"#fb9f3a\"],[0.8888888888888888,\"#fdca26\"],[1.0,\"#f0f921\"]]}],\"heatmap\":[{\"type\":\"heatmap\",\"colorbar\":{\"outlinewidth\":0,\"ticks\":\"\"},\"colorscale\":[[0.0,\"#0d0887\"],[0.1111111111111111,\"#46039f\"],[0.2222222222222222,\"#7201a8\"],[0.3333333333333333,\"#9c179e\"],[0.4444444444444444,\"#bd3786\"],[0.5555555555555556,\"#d8576b\"],[0.6666666666666666,\"#ed7953\"],[0.7777777777777778,\"#fb9f3a\"],[0.8888888888888888,\"#fdca26\"],[1.0,\"#f0f921\"]]}],\"heatmapgl\":[{\"type\":\"heatmapgl\",\"colorbar\":{\"outlinewidth\":0,\"ticks\":\"\"},\"colorscale\":[[0.0,\"#0d0887\"],[0.1111111111111111,\"#46039f\"],[0.2222222222222222,\"#7201a8\"],[0.3333333333333333,\"#9c179e\"],[0.4444444444444444,\"#bd3786\"],[0.5555555555555556,\"#d8576b\"],[0.6666666666666666,\"#ed7953\"],[0.7777777777777778,\"#fb9f3a\"],[0.8888888888888888,\"#fdca26\"],[1.0,\"#f0f921\"]]}],\"contourcarpet\":[{\"type\":\"contourcarpet\",\"colorbar\":{\"outlinewidth\":0,\"ticks\":\"\"}}],\"contour\":[{\"type\":\"contour\",\"colorbar\":{\"outlinewidth\":0,\"ticks\":\"\"},\"colorscale\":[[0.0,\"#0d0887\"],[0.1111111111111111,\"#46039f\"],[0.2222222222222222,\"#7201a8\"],[0.3333333333333333,\"#9c179e\"],[0.4444444444444444,\"#bd3786\"],[0.5555555555555556,\"#d8576b\"],[0.6666666666666666,\"#ed7953\"],[0.7777777777777778,\"#fb9f3a\"],[0.8888888888888888,\"#fdca26\"],[1.0,\"#f0f921\"]]}],\"surface\":[{\"type\":\"surface\",\"colorbar\":{\"outlinewidth\":0,\"ticks\":\"\"},\"colorscale\":[[0.0,\"#0d0887\"],[0.1111111111111111,\"#46039f\"],[0.2222222222222222,\"#7201a8\"],[0.3333333333333333,\"#9c179e\"],[0.4444444444444444,\"#bd3786\"],[0.5555555555555556,\"#d8576b\"],[0.6666666666666666,\"#ed7953\"],[0.7777777777777778,\"#fb9f3a\"],[0.8888888888888888,\"#fdca26\"],[1.0,\"#f0f921\"]]}],\"mesh3d\":[{\"type\":\"mesh3d\",\"colorbar\":{\"outlinewidth\":0,\"ticks\":\"\"}}],\"scatter\":[{\"fillpattern\":{\"fillmode\":\"overlay\",\"size\":10,\"solidity\":0.2},\"type\":\"scatter\"}],\"parcoords\":[{\"type\":\"parcoords\",\"line\":{\"colorbar\":{\"outlinewidth\":0,\"ticks\":\"\"}}}],\"scatterpolargl\":[{\"type\":\"scatterpolargl\",\"marker\":{\"colorbar\":{\"outlinewidth\":0,\"ticks\":\"\"}}}],\"bar\":[{\"error_x\":{\"color\":\"#2a3f5f\"},\"error_y\":{\"color\":\"#2a3f5f\"},\"marker\":{\"line\":{\"color\":\"#E5ECF6\",\"width\":0.5},\"pattern\":{\"fillmode\":\"overlay\",\"size\":10,\"solidity\":0.2}},\"type\":\"bar\"}],\"scattergeo\":[{\"type\":\"scattergeo\",\"marker\":{\"colorbar\":{\"outlinewidth\":0,\"ticks\":\"\"}}}],\"scatterpolar\":[{\"type\":\"scatterpolar\",\"marker\":{\"colorbar\":{\"outlinewidth\":0,\"ticks\":\"\"}}}],\"histogram\":[{\"marker\":{\"pattern\":{\"fillmode\":\"overlay\",\"size\":10,\"solidity\":0.2}},\"type\":\"histogram\"}],\"scattergl\":[{\"type\":\"scattergl\",\"marker\":{\"colorbar\":{\"outlinewidth\":0,\"ticks\":\"\"}}}],\"scatter3d\":[{\"type\":\"scatter3d\",\"line\":{\"colorbar\":{\"outlinewidth\":0,\"ticks\":\"\"}},\"marker\":{\"colorbar\":{\"outlinewidth\":0,\"ticks\":\"\"}}}],\"scattermapbox\":[{\"type\":\"scattermapbox\",\"marker\":{\"colorbar\":{\"outlinewidth\":0,\"ticks\":\"\"}}}],\"scatterternary\":[{\"type\":\"scatterternary\",\"marker\":{\"colorbar\":{\"outlinewidth\":0,\"ticks\":\"\"}}}],\"scattercarpet\":[{\"type\":\"scattercarpet\",\"marker\":{\"colorbar\":{\"outlinewidth\":0,\"ticks\":\"\"}}}],\"carpet\":[{\"aaxis\":{\"endlinecolor\":\"#2a3f5f\",\"gridcolor\":\"white\",\"linecolor\":\"white\",\"minorgridcolor\":\"white\",\"startlinecolor\":\"#2a3f5f\"},\"baxis\":{\"endlinecolor\":\"#2a3f5f\",\"gridcolor\":\"white\",\"linecolor\":\"white\",\"minorgridcolor\":\"white\",\"startlinecolor\":\"#2a3f5f\"},\"type\":\"carpet\"}],\"table\":[{\"cells\":{\"fill\":{\"color\":\"#EBF0F8\"},\"line\":{\"color\":\"white\"}},\"header\":{\"fill\":{\"color\":\"#C8D4E3\"},\"line\":{\"color\":\"white\"}},\"type\":\"table\"}],\"barpolar\":[{\"marker\":{\"line\":{\"color\":\"#E5ECF6\",\"width\":0.5},\"pattern\":{\"fillmode\":\"overlay\",\"size\":10,\"solidity\":0.2}},\"type\":\"barpolar\"}],\"pie\":[{\"automargin\":true,\"type\":\"pie\"}]},\"layout\":{\"autotypenumbers\":\"strict\",\"colorway\":[\"#636efa\",\"#EF553B\",\"#00cc96\",\"#ab63fa\",\"#FFA15A\",\"#19d3f3\",\"#FF6692\",\"#B6E880\",\"#FF97FF\",\"#FECB52\"],\"font\":{\"color\":\"#2a3f5f\"},\"hovermode\":\"closest\",\"hoverlabel\":{\"align\":\"left\"},\"paper_bgcolor\":\"white\",\"plot_bgcolor\":\"#E5ECF6\",\"polar\":{\"bgcolor\":\"#E5ECF6\",\"angularaxis\":{\"gridcolor\":\"white\",\"linecolor\":\"white\",\"ticks\":\"\"},\"radialaxis\":{\"gridcolor\":\"white\",\"linecolor\":\"white\",\"ticks\":\"\"}},\"ternary\":{\"bgcolor\":\"#E5ECF6\",\"aaxis\":{\"gridcolor\":\"white\",\"linecolor\":\"white\",\"ticks\":\"\"},\"baxis\":{\"gridcolor\":\"white\",\"linecolor\":\"white\",\"ticks\":\"\"},\"caxis\":{\"gridcolor\":\"white\",\"linecolor\":\"white\",\"ticks\":\"\"}},\"coloraxis\":{\"colorbar\":{\"outlinewidth\":0,\"ticks\":\"\"}},\"colorscale\":{\"sequential\":[[0.0,\"#0d0887\"],[0.1111111111111111,\"#46039f\"],[0.2222222222222222,\"#7201a8\"],[0.3333333333333333,\"#9c179e\"],[0.4444444444444444,\"#bd3786\"],[0.5555555555555556,\"#d8576b\"],[0.6666666666666666,\"#ed7953\"],[0.7777777777777778,\"#fb9f3a\"],[0.8888888888888888,\"#fdca26\"],[1.0,\"#f0f921\"]],\"sequentialminus\":[[0.0,\"#0d0887\"],[0.1111111111111111,\"#46039f\"],[0.2222222222222222,\"#7201a8\"],[0.3333333333333333,\"#9c179e\"],[0.4444444444444444,\"#bd3786\"],[0.5555555555555556,\"#d8576b\"],[0.6666666666666666,\"#ed7953\"],[0.7777777777777778,\"#fb9f3a\"],[0.8888888888888888,\"#fdca26\"],[1.0,\"#f0f921\"]],\"diverging\":[[0,\"#8e0152\"],[0.1,\"#c51b7d\"],[0.2,\"#de77ae\"],[0.3,\"#f1b6da\"],[0.4,\"#fde0ef\"],[0.5,\"#f7f7f7\"],[0.6,\"#e6f5d0\"],[0.7,\"#b8e186\"],[0.8,\"#7fbc41\"],[0.9,\"#4d9221\"],[1,\"#276419\"]]},\"xaxis\":{\"gridcolor\":\"white\",\"linecolor\":\"white\",\"ticks\":\"\",\"title\":{\"standoff\":15},\"zerolinecolor\":\"white\",\"automargin\":true,\"zerolinewidth\":2},\"yaxis\":{\"gridcolor\":\"white\",\"linecolor\":\"white\",\"ticks\":\"\",\"title\":{\"standoff\":15},\"zerolinecolor\":\"white\",\"automargin\":true,\"zerolinewidth\":2},\"scene\":{\"xaxis\":{\"backgroundcolor\":\"#E5ECF6\",\"gridcolor\":\"white\",\"linecolor\":\"white\",\"showbackground\":true,\"ticks\":\"\",\"zerolinecolor\":\"white\",\"gridwidth\":2},\"yaxis\":{\"backgroundcolor\":\"#E5ECF6\",\"gridcolor\":\"white\",\"linecolor\":\"white\",\"showbackground\":true,\"ticks\":\"\",\"zerolinecolor\":\"white\",\"gridwidth\":2},\"zaxis\":{\"backgroundcolor\":\"#E5ECF6\",\"gridcolor\":\"white\",\"linecolor\":\"white\",\"showbackground\":true,\"ticks\":\"\",\"zerolinecolor\":\"white\",\"gridwidth\":2}},\"shapedefaults\":{\"line\":{\"color\":\"#2a3f5f\"}},\"annotationdefaults\":{\"arrowcolor\":\"#2a3f5f\",\"arrowhead\":0,\"arrowwidth\":1},\"geo\":{\"bgcolor\":\"white\",\"landcolor\":\"#E5ECF6\",\"subunitcolor\":\"white\",\"showland\":true,\"showlakes\":true,\"lakecolor\":\"white\"},\"title\":{\"x\":0.05},\"mapbox\":{\"style\":\"light\"}}}},                        {\"responsive\": true}                    ).then(function(){\n",
              "                            \n",
              "var gd = document.getElementById('31c826da-dedc-44bc-a03f-a6b9452a38c2');\n",
              "var x = new MutationObserver(function (mutations, observer) {{\n",
              "        var display = window.getComputedStyle(gd).display;\n",
              "        if (!display || display === 'none') {{\n",
              "            console.log([gd, 'removed!']);\n",
              "            Plotly.purge(gd);\n",
              "            observer.disconnect();\n",
              "        }}\n",
              "}});\n",
              "\n",
              "// Listen for the removal of the full notebook cells\n",
              "var notebookContainer = gd.closest('#notebook-container');\n",
              "if (notebookContainer) {{\n",
              "    x.observe(notebookContainer, {childList: true});\n",
              "}}\n",
              "\n",
              "// Listen for the clearing of the current output cell\n",
              "var outputEl = gd.closest('.output');\n",
              "if (outputEl) {{\n",
              "    x.observe(outputEl, {childList: true});\n",
              "}}\n",
              "\n",
              "                        })                };                            </script>        </div>\n",
              "</body>\n",
              "</html>"
            ]
          },
          "metadata": {}
        }
      ]
    },
    {
      "cell_type": "code",
      "source": [
        "import plotly.graph_objects as go\n",
        "from igraph import Graph\n",
        "\n",
        "# Create a graph\n",
        "G = Graph()\n",
        "G.add_vertices(lst_vertices)\n",
        "G.add_edges([(edge[0], edge[1]) for edge in lst_edges])\n",
        "\n",
        "# Layout for the nodes\n",
        "# Increase the area parameter to spread out the nodes more\n",
        "layout = G.layout('fr')\n",
        "\n",
        "# Extract the x and y coordinates of the nodes\n",
        "x_nodes = [layout[k][0] for k in range(len(layout))]\n",
        "y_nodes = [layout[k][1] for k in range(len(layout))]\n",
        "\n",
        "# Nodes trace with adjusted label positions\n",
        "trace_nodes = go.Scatter(x=x_nodes, y=y_nodes, mode='markers+text', marker=dict(size=10, color='lightblue'),\n",
        "                         text=lst_vertices, textposition=\"top center\")\n",
        "\n",
        "# Extract the edge endpoints and labels for plotting\n",
        "x_edges = []\n",
        "y_edges = []\n",
        "edge_labels = []\n",
        "for edge in G.es:\n",
        "    x_edges += [layout[edge.source][0], layout[edge.target][0], None]\n",
        "    y_edges += [layout[edge.source][1], layout[edge.target][1], None]\n",
        "    edge_labels.append((layout[edge.source][0] + layout[edge.target][0]) / 2)\n",
        "    edge_labels.append((layout[edge.source][1] + layout[edge.target][1]) / 2)\n",
        "\n",
        "# Edges trace\n",
        "trace_edges = go.Scatter(x=x_edges, y=y_edges, mode='lines', line=dict(width=1, color='grey'), hoverinfo='none')\n",
        "\n",
        "# Edge labels trace\n",
        "trace_edge_labels = go.Scatter(x=edge_labels[::2], y=edge_labels[1::2], text=[e[2] for e in lst_edges],\n",
        "                               mode='text', textposition=\"bottom left\", hoverinfo='none')\n",
        "\n",
        "# Create the figure with increased size\n",
        "fig = go.Figure(data=[trace_edges, trace_nodes, trace_edge_labels], layout=go.Layout(\n",
        "    title='Graph visualization using Plotly',\n",
        "    showlegend=False, hovermode='closest',\n",
        "    margin=dict(b=20,l=5,r=5,t=40),\n",
        "    xaxis=dict(showgrid=False, zeroline=False, showticklabels=False),\n",
        "    yaxis=dict(showgrid=False, zeroline=False, showticklabels=False),\n",
        "    width=1400, height=1400  # Increased figure size\n",
        "))\n",
        "\n",
        "# Show the figure\n",
        "fig.show()\n"
      ],
      "metadata": {
        "id": "xfkr5P1yDwSc",
        "colab": {
          "base_uri": "https://localhost:8080/",
          "height": 1000
        },
        "outputId": "96bd8e91-7e2c-4ac4-c596-525e38582aa9"
      },
      "id": "xfkr5P1yDwSc",
      "execution_count": 17,
      "outputs": [
        {
          "output_type": "display_data",
          "data": {
            "text/html": [
              "<html>\n",
              "<head><meta charset=\"utf-8\" /></head>\n",
              "<body>\n",
              "    <div>            <script src=\"https://cdnjs.cloudflare.com/ajax/libs/mathjax/2.7.5/MathJax.js?config=TeX-AMS-MML_SVG\"></script><script type=\"text/javascript\">if (window.MathJax && window.MathJax.Hub && window.MathJax.Hub.Config) {window.MathJax.Hub.Config({SVG: {font: \"STIX-Web\"}});}</script>                <script type=\"text/javascript\">window.PlotlyConfig = {MathJaxConfig: 'local'};</script>\n",
              "        <script charset=\"utf-8\" src=\"https://cdn.plot.ly/plotly-2.24.1.min.js\"></script>                <div id=\"6eb39363-1167-4efc-9a3a-daf10f035609\" class=\"plotly-graph-div\" style=\"height:1400px; width:1400px;\"></div>            <script type=\"text/javascript\">                                    window.PLOTLYENV=window.PLOTLYENV || {};                                    if (document.getElementById(\"6eb39363-1167-4efc-9a3a-daf10f035609\")) {                    Plotly.newPlot(                        \"6eb39363-1167-4efc-9a3a-daf10f035609\",                        [{\"hoverinfo\":\"none\",\"line\":{\"color\":\"grey\",\"width\":1},\"mode\":\"lines\",\"x\":[1.370896481056504,0.42209924770917806,null,5.297750115734845,3.310503094454044,null,1.5833355537106122,1.563516946158439,null,0.27468701215185015,-0.3750370876024602,null,-1.7763079069246637,-0.5501490071723203,null,5.459780396581123,3.715652081280366,null,-4.2071878746266975,-2.234565288181319,null,-1.9979502030494027,-0.4432536390855146,null,-1.6025167735834343,-0.03722717733195981,null,-6.106735910869588,-4.583750024665738,null,1.370896481056504,1.363396022417488,null,1.370896481056504,-0.015213890613462046,null,5.297750115734845,5.376380812214726,null,1.5833355537106122,2.3089655609839186,null,0.27468701215185015,-0.5273208923707862,null,-1.7763079069246637,-1.048466879729726,null,5.459780396581123,5.783714006756484,null,-4.2071878746266975,-4.218369628486862,null,-1.9979502030494027,-2.4031062174388658,null,-1.6025167735834343,-1.3339194234362215,null,-6.106735910869588,-5.453665660577318,null,0.42209924770917806,1.363396022417488,null,1.563516946158439,2.3089655609839186,null,3.310503094454044,5.376380812214726,null,-0.3750370876024602,-0.5273208923707862,null,-0.14321315413992003,1.363396022417488,null,-1.5827988772166162,-0.015213890613462046,null,-0.4432536390855146,-2.4031062174388658,null,-0.03722717733195981,-1.3339194234362215,null,-0.5501490071723203,-1.048466879729726,null,3.715652081280366,5.783714006756484,null,-2.234565288181319,-4.218369628486862,null,-4.583750024665738,-5.453665660577318,null,0.42209924770917806,-0.14321315413992003,null,0.42209924770917806,-1.5827988772166162,null,0.42209924770917806,-0.03722717733195981,null,1.563516946158439,3.715652081280366,null,1.563516946158439,-0.4432536390855146,null,3.310503094454044,3.715652081280366,null,-0.3750370876024602,-0.14321315413992003,null,-0.3750370876024602,-1.5827988772166162,null,-1.5827988772166162,-4.583750024665738,null,-1.5827988772166162,-2.234565288181319,null,0.42209924770917806,-1.5827988772166162,null,-0.4432536390855146,-0.5501490071723203,null,3.310503094454044,3.715652081280366,null,-0.14321315413992003,-0.03722717733195981,null,-0.4432536390855146,-0.03722717733195981,null,0.42209924770917806,2.6369009454379686,null,1.563516946158439,1.3126809242646325,null,3.310503094454044,1.3126809242646325,null,-0.14321315413992003,-0.7534666138279471,null,-0.3750370876024602,-0.7534666138279471,null,-0.4432536390855146,1.3126809242646325,null,-0.03722717733195981,1.3126809242646325,null,-0.5501490071723203,1.3126809242646325,null,3.715652081280366,1.3126809242646325,null,-4.583750024665738,-3.9301521780661766,null,-2.234565288181319,-3.9301521780661766,null,0.42209924770917806,0.9593306717421173,null,3.310503094454044,0.664365289764628,null,1.563516946158439,0.664365289764628,null,-0.3750370876024602,0.9593306717421173,null,-0.4432536390855146,-0.5915221157347388,null,-0.03722717733195981,-0.5915221157347388,null,-0.5501490071723203,-0.5915221157347388,null,3.715652081280366,4.627830364068278,null,-4.583750024665738,-6.609986506086795,null,-2.234565288181319,0.664365289764628,null],\"y\":[4.318833105244198,2.8270640530671662,null,-3.4570173447221646,-3.9665490649598527,null,-7.309135929822692,-5.169346639968622,null,7.868383512329603,5.706636005190824,null,-7.7456689109810775,-5.836868406373903,null,-7.0874318362291415,-5.662363002046238,null,0.5298213147545568,1.048285192980561,null,-5.70307805357081,-4.2434776313217775,null,-1.5375882850352527,-0.9671138972428045,null,7.010373415005395,5.4947485787666475,null,4.318833105244198,3.298392919871094,null,4.318833105244198,4.998585332394584,null,-3.4570173447221646,-4.219823398289987,null,-7.309135929822692,-7.121729634812057,null,7.868383512329603,7.922411188549595,null,-7.7456689109810775,-8.028093170836968,null,-7.0874318362291415,-6.420037653568872,null,0.5298213147545568,1.2888032625725698,null,-5.70307805357081,-5.058947464003338,null,-1.5375882850352527,-0.7904975053497257,null,7.010373415005395,7.396972067476426,null,2.8270640530671662,3.298392919871094,null,-5.169346639968622,-7.121729634812057,null,-3.9665490649598527,-4.219823398289987,null,5.706636005190824,7.922411188549595,null,2.69025683414487,3.298392919871094,null,3.8839103898144827,4.998585332394584,null,-4.2434776313217775,-5.058947464003338,null,-0.9671138972428045,-0.7904975053497257,null,-5.836868406373903,-8.028093170836968,null,-5.662363002046238,-6.420037653568872,null,1.048285192980561,1.2888032625725698,null,5.4947485787666475,7.396972067476426,null,2.8270640530671662,2.69025683414487,null,2.8270640530671662,3.8839103898144827,null,2.8270640530671662,-0.9671138972428045,null,-5.169346639968622,-5.662363002046238,null,-5.169346639968622,-4.2434776313217775,null,-3.9665490649598527,-5.662363002046238,null,5.706636005190824,2.69025683414487,null,5.706636005190824,3.8839103898144827,null,3.8839103898144827,5.4947485787666475,null,3.8839103898144827,1.048285192980561,null,2.8270640530671662,3.8839103898144827,null,-4.2434776313217775,-5.836868406373903,null,-3.9665490649598527,-5.662363002046238,null,2.69025683414487,-0.9671138972428045,null,-4.2434776313217775,-0.9671138972428045,null,2.8270640530671662,3.3588172231683853,null,-5.169346639968622,-4.091997148437807,null,-3.9665490649598527,-4.091997148437807,null,2.69025683414487,4.561784248790826,null,5.706636005190824,4.561784248790826,null,-4.2434776313217775,-4.091997148437807,null,-0.9671138972428045,-4.091997148437807,null,-5.836868406373903,-4.091997148437807,null,-5.662363002046238,-4.091997148437807,null,5.4947485787666475,3.306565225484137,null,1.048285192980561,3.306565225484137,null,2.8270640530671662,5.123158413238484,null,-3.9665490649598527,-2.2324512398030487,null,-5.169346639968622,-2.2324512398030487,null,5.706636005190824,5.123158413238484,null,-4.2434776313217775,-3.4620935070502994,null,-0.9671138972428045,-3.4620935070502994,null,-5.836868406373903,-3.4620935070502994,null,-5.662363002046238,-7.710510393603192,null,5.4947485787666475,6.036194463463559,null,1.048285192980561,-2.2324512398030487,null],\"type\":\"scatter\"},{\"marker\":{\"color\":\"lightblue\",\"size\":10},\"mode\":\"markers+text\",\"text\":[\"David\",\"John\",\"Alice\",\"Maria\",\"Chris\",\"Eva\",\"Tom\",\"Emma\",\"Liam\",\"Sophia\",\"Notebook\",\"Tablet\",\"Smartphone\",\"Monitor\",\"Printer\",\"Router\",\"Keyboard\",\"Mouse\",\"Webcam\",\"Headset\",\"USB Drive\",\"SSD\",\"Personal Computer\",\"Input Device\",\"Output Device\",\"Storage Device\",\"HP\",\"Samsung\",\"Logitech\",\"Sony\",\"SanDisk\",\"portable\",\"speed\",\"mobile\",\"compact\",\"high-resolution\",\"affordable\",\"user-friendly\",\"durable\",\"ergonomic\",\"wireless\",\"lightweight\"],\"textposition\":\"top center\",\"x\":[1.370896481056504,5.297750115734845,1.5833355537106122,0.27468701215185015,-1.7763079069246637,5.459780396581123,-4.2071878746266975,-1.9979502030494027,-1.6025167735834343,-6.106735910869588,0.42209924770917806,1.563516946158439,3.310503094454044,-0.3750370876024602,-0.14321315413992003,-1.5827988772166162,-0.4432536390855146,-0.03722717733195981,-0.5501490071723203,3.715652081280366,-4.583750024665738,-2.234565288181319,2.6369009454379686,1.3126809242646325,-0.7534666138279471,-3.9301521780661766,0.9593306717421173,0.664365289764628,-0.5915221157347388,4.627830364068278,-6.609986506086795,1.363396022417488,-0.015213890613462046,5.376380812214726,2.3089655609839186,-0.5273208923707862,-1.048466879729726,5.783714006756484,-4.218369628486862,-2.4031062174388658,-1.3339194234362215,-5.453665660577318],\"y\":[4.318833105244198,-3.4570173447221646,-7.309135929822692,7.868383512329603,-7.7456689109810775,-7.0874318362291415,0.5298213147545568,-5.70307805357081,-1.5375882850352527,7.010373415005395,2.8270640530671662,-5.169346639968622,-3.9665490649598527,5.706636005190824,2.69025683414487,3.8839103898144827,-4.2434776313217775,-0.9671138972428045,-5.836868406373903,-5.662363002046238,5.4947485787666475,1.048285192980561,3.3588172231683853,-4.091997148437807,4.561784248790826,3.306565225484137,5.123158413238484,-2.2324512398030487,-3.4620935070502994,-7.710510393603192,6.036194463463559,3.298392919871094,4.998585332394584,-4.219823398289987,-7.121729634812057,7.922411188549595,-8.028093170836968,-6.420037653568872,1.2888032625725698,-5.058947464003338,-0.7904975053497257,7.396972067476426],\"type\":\"scatter\"},{\"hoverinfo\":\"none\",\"mode\":\"text\",\"text\":[\"buy\",\"buy\",\"buy\",\"buy\",\"buy\",\"buy\",\"buy\",\"buy\",\"buy\",\"buy\",\"mention\",\"mention\",\"mention\",\"mention\",\"mention\",\"mention\",\"mention\",\"mention\",\"mention\",\"mention\",\"mention\",\"mention\",\"mention\",\"mention\",\"mention\",\"mention\",\"mention\",\"mention\",\"mention\",\"mention\",\"mention\",\"mention\",\"mention\",\"also_buy\",\"also_buy\",\"also_buy\",\"also_buy\",\"also_buy\",\"also_buy\",\"also_buy\",\"also_buy\",\"also_buy\",\"also_buy\",\"also_view\",\"also_view\",\"also_view\",\"also_view\",\"also_view\",\"belongs_to_category\",\"belongs_to_category\",\"belongs_to_category\",\"belongs_to_category\",\"belongs_to_category\",\"belongs_to_category\",\"belongs_to_category\",\"belongs_to_category\",\"belongs_to_category\",\"belongs_to_category\",\"belongs_to_category\",\"belongs_to_brand\",\"belongs_to_brand\",\"belongs_to_brand\",\"belongs_to_brand\",\"belongs_to_brand\",\"belongs_to_brand\",\"belongs_to_brand\",\"belongs_to_brand\",\"belongs_to_brand\",\"belongs_to_brand\"],\"textposition\":\"bottom left\",\"x\":[0.8964978643828411,4.304126605094444,1.5734262499345255,-0.050175037725305016,-1.163228457048492,4.587716238930744,-3.220876581404008,-1.2206019210674586,-0.8198719754576971,-5.345242967767663,1.367146251736996,0.677841295221521,5.337065463974785,1.9461505573472655,-0.126316940109468,-1.4123873933271949,5.6217472016688035,-4.21277875155678,-2.2005282102441344,-1.4682180985098279,-5.780200785723453,0.892747635063333,1.9362412535711788,4.343441953334385,-0.4511789899866232,0.610091434138784,-0.7990063839150391,-1.4231799282621902,-0.6855733003840907,-0.7993079434510232,4.7496830440184254,-3.22646745833409,-5.018707842621528,0.13944304678462902,-0.580349814753719,0.19243603518860913,2.6395845137194023,0.5601316535364622,3.5130775878672047,-0.2591251208711901,-0.9789179824095382,-3.083274450941177,-1.9086820826989677,-0.580349814753719,-0.49670132312891746,3.5130775878672047,-0.09022016573593991,-0.24024040820873718,1.5295000965735732,1.4380989352115359,2.3115920093593383,-0.44833988398393354,-0.5642518507152037,0.4347136425895589,0.6377268734663363,0.3812659585461561,2.514166502772499,-4.256951101365957,-3.0823587331237476,0.6907149597256477,1.987434192109336,1.1139411179615335,0.2921467920698285,-0.5173878774101267,-0.3143746465333493,-0.5708355614535295,4.1717412226743225,-5.5968682653762665,-0.7850999992083456],\"y\":[3.572948579155682,-3.7117832048410087,-6.239241284895657,6.787509758760214,-6.79126865867749,-6.37489741913769,0.789053253867559,-4.973277842446294,-1.2523510911390285,6.252560996886022,3.808613012557646,4.658709218819391,-3.838420371506076,-7.215432782317375,7.895397350439599,-7.886881040909023,-6.753734744899006,0.9093122886635634,-5.381012758787074,-1.1640428951924893,7.2036727412409105,3.06272848646913,-6.145538137390339,-4.0931862316249195,6.81452359687021,2.994324877007982,4.441247861104533,-4.651212547662558,-0.8788057012962651,-6.932480788605435,-6.041200327807555,1.1685442277765654,6.445860323121536,2.758660443606018,3.3554872214408245,0.9299750779121809,-5.41585482100743,-4.7064121356452,-4.8144560335030455,4.198446419667847,4.795273197502653,4.689329484290565,2.4660977913975217,3.3554872214408245,-5.04017301884784,-4.8144560335030455,0.8615714684510327,-2.605295764282291,3.092940638117776,-4.630671894203214,-4.02927310669883,3.626020541467848,5.1342101269908245,-4.167737389879792,-2.529555522840306,-4.964432777405856,-4.8771800752420225,4.400656902125393,2.177425209232349,3.975111233152825,-3.0995001523814505,-3.7008989398858354,5.414897209214654,-3.8527855691860387,-2.214603702146552,-4.649480956712101,-6.686436697824715,5.765471521115103,-0.5920830234112439],\"type\":\"scatter\"}],                        {\"height\":1400,\"hovermode\":\"closest\",\"margin\":{\"b\":20,\"l\":5,\"r\":5,\"t\":40},\"showlegend\":false,\"title\":{\"text\":\"Graph visualization using Plotly\"},\"width\":1400,\"xaxis\":{\"showgrid\":false,\"showticklabels\":false,\"zeroline\":false},\"yaxis\":{\"showgrid\":false,\"showticklabels\":false,\"zeroline\":false},\"template\":{\"data\":{\"histogram2dcontour\":[{\"type\":\"histogram2dcontour\",\"colorbar\":{\"outlinewidth\":0,\"ticks\":\"\"},\"colorscale\":[[0.0,\"#0d0887\"],[0.1111111111111111,\"#46039f\"],[0.2222222222222222,\"#7201a8\"],[0.3333333333333333,\"#9c179e\"],[0.4444444444444444,\"#bd3786\"],[0.5555555555555556,\"#d8576b\"],[0.6666666666666666,\"#ed7953\"],[0.7777777777777778,\"#fb9f3a\"],[0.8888888888888888,\"#fdca26\"],[1.0,\"#f0f921\"]]}],\"choropleth\":[{\"type\":\"choropleth\",\"colorbar\":{\"outlinewidth\":0,\"ticks\":\"\"}}],\"histogram2d\":[{\"type\":\"histogram2d\",\"colorbar\":{\"outlinewidth\":0,\"ticks\":\"\"},\"colorscale\":[[0.0,\"#0d0887\"],[0.1111111111111111,\"#46039f\"],[0.2222222222222222,\"#7201a8\"],[0.3333333333333333,\"#9c179e\"],[0.4444444444444444,\"#bd3786\"],[0.5555555555555556,\"#d8576b\"],[0.6666666666666666,\"#ed7953\"],[0.7777777777777778,\"#fb9f3a\"],[0.8888888888888888,\"#fdca26\"],[1.0,\"#f0f921\"]]}],\"heatmap\":[{\"type\":\"heatmap\",\"colorbar\":{\"outlinewidth\":0,\"ticks\":\"\"},\"colorscale\":[[0.0,\"#0d0887\"],[0.1111111111111111,\"#46039f\"],[0.2222222222222222,\"#7201a8\"],[0.3333333333333333,\"#9c179e\"],[0.4444444444444444,\"#bd3786\"],[0.5555555555555556,\"#d8576b\"],[0.6666666666666666,\"#ed7953\"],[0.7777777777777778,\"#fb9f3a\"],[0.8888888888888888,\"#fdca26\"],[1.0,\"#f0f921\"]]}],\"heatmapgl\":[{\"type\":\"heatmapgl\",\"colorbar\":{\"outlinewidth\":0,\"ticks\":\"\"},\"colorscale\":[[0.0,\"#0d0887\"],[0.1111111111111111,\"#46039f\"],[0.2222222222222222,\"#7201a8\"],[0.3333333333333333,\"#9c179e\"],[0.4444444444444444,\"#bd3786\"],[0.5555555555555556,\"#d8576b\"],[0.6666666666666666,\"#ed7953\"],[0.7777777777777778,\"#fb9f3a\"],[0.8888888888888888,\"#fdca26\"],[1.0,\"#f0f921\"]]}],\"contourcarpet\":[{\"type\":\"contourcarpet\",\"colorbar\":{\"outlinewidth\":0,\"ticks\":\"\"}}],\"contour\":[{\"type\":\"contour\",\"colorbar\":{\"outlinewidth\":0,\"ticks\":\"\"},\"colorscale\":[[0.0,\"#0d0887\"],[0.1111111111111111,\"#46039f\"],[0.2222222222222222,\"#7201a8\"],[0.3333333333333333,\"#9c179e\"],[0.4444444444444444,\"#bd3786\"],[0.5555555555555556,\"#d8576b\"],[0.6666666666666666,\"#ed7953\"],[0.7777777777777778,\"#fb9f3a\"],[0.8888888888888888,\"#fdca26\"],[1.0,\"#f0f921\"]]}],\"surface\":[{\"type\":\"surface\",\"colorbar\":{\"outlinewidth\":0,\"ticks\":\"\"},\"colorscale\":[[0.0,\"#0d0887\"],[0.1111111111111111,\"#46039f\"],[0.2222222222222222,\"#7201a8\"],[0.3333333333333333,\"#9c179e\"],[0.4444444444444444,\"#bd3786\"],[0.5555555555555556,\"#d8576b\"],[0.6666666666666666,\"#ed7953\"],[0.7777777777777778,\"#fb9f3a\"],[0.8888888888888888,\"#fdca26\"],[1.0,\"#f0f921\"]]}],\"mesh3d\":[{\"type\":\"mesh3d\",\"colorbar\":{\"outlinewidth\":0,\"ticks\":\"\"}}],\"scatter\":[{\"fillpattern\":{\"fillmode\":\"overlay\",\"size\":10,\"solidity\":0.2},\"type\":\"scatter\"}],\"parcoords\":[{\"type\":\"parcoords\",\"line\":{\"colorbar\":{\"outlinewidth\":0,\"ticks\":\"\"}}}],\"scatterpolargl\":[{\"type\":\"scatterpolargl\",\"marker\":{\"colorbar\":{\"outlinewidth\":0,\"ticks\":\"\"}}}],\"bar\":[{\"error_x\":{\"color\":\"#2a3f5f\"},\"error_y\":{\"color\":\"#2a3f5f\"},\"marker\":{\"line\":{\"color\":\"#E5ECF6\",\"width\":0.5},\"pattern\":{\"fillmode\":\"overlay\",\"size\":10,\"solidity\":0.2}},\"type\":\"bar\"}],\"scattergeo\":[{\"type\":\"scattergeo\",\"marker\":{\"colorbar\":{\"outlinewidth\":0,\"ticks\":\"\"}}}],\"scatterpolar\":[{\"type\":\"scatterpolar\",\"marker\":{\"colorbar\":{\"outlinewidth\":0,\"ticks\":\"\"}}}],\"histogram\":[{\"marker\":{\"pattern\":{\"fillmode\":\"overlay\",\"size\":10,\"solidity\":0.2}},\"type\":\"histogram\"}],\"scattergl\":[{\"type\":\"scattergl\",\"marker\":{\"colorbar\":{\"outlinewidth\":0,\"ticks\":\"\"}}}],\"scatter3d\":[{\"type\":\"scatter3d\",\"line\":{\"colorbar\":{\"outlinewidth\":0,\"ticks\":\"\"}},\"marker\":{\"colorbar\":{\"outlinewidth\":0,\"ticks\":\"\"}}}],\"scattermapbox\":[{\"type\":\"scattermapbox\",\"marker\":{\"colorbar\":{\"outlinewidth\":0,\"ticks\":\"\"}}}],\"scatterternary\":[{\"type\":\"scatterternary\",\"marker\":{\"colorbar\":{\"outlinewidth\":0,\"ticks\":\"\"}}}],\"scattercarpet\":[{\"type\":\"scattercarpet\",\"marker\":{\"colorbar\":{\"outlinewidth\":0,\"ticks\":\"\"}}}],\"carpet\":[{\"aaxis\":{\"endlinecolor\":\"#2a3f5f\",\"gridcolor\":\"white\",\"linecolor\":\"white\",\"minorgridcolor\":\"white\",\"startlinecolor\":\"#2a3f5f\"},\"baxis\":{\"endlinecolor\":\"#2a3f5f\",\"gridcolor\":\"white\",\"linecolor\":\"white\",\"minorgridcolor\":\"white\",\"startlinecolor\":\"#2a3f5f\"},\"type\":\"carpet\"}],\"table\":[{\"cells\":{\"fill\":{\"color\":\"#EBF0F8\"},\"line\":{\"color\":\"white\"}},\"header\":{\"fill\":{\"color\":\"#C8D4E3\"},\"line\":{\"color\":\"white\"}},\"type\":\"table\"}],\"barpolar\":[{\"marker\":{\"line\":{\"color\":\"#E5ECF6\",\"width\":0.5},\"pattern\":{\"fillmode\":\"overlay\",\"size\":10,\"solidity\":0.2}},\"type\":\"barpolar\"}],\"pie\":[{\"automargin\":true,\"type\":\"pie\"}]},\"layout\":{\"autotypenumbers\":\"strict\",\"colorway\":[\"#636efa\",\"#EF553B\",\"#00cc96\",\"#ab63fa\",\"#FFA15A\",\"#19d3f3\",\"#FF6692\",\"#B6E880\",\"#FF97FF\",\"#FECB52\"],\"font\":{\"color\":\"#2a3f5f\"},\"hovermode\":\"closest\",\"hoverlabel\":{\"align\":\"left\"},\"paper_bgcolor\":\"white\",\"plot_bgcolor\":\"#E5ECF6\",\"polar\":{\"bgcolor\":\"#E5ECF6\",\"angularaxis\":{\"gridcolor\":\"white\",\"linecolor\":\"white\",\"ticks\":\"\"},\"radialaxis\":{\"gridcolor\":\"white\",\"linecolor\":\"white\",\"ticks\":\"\"}},\"ternary\":{\"bgcolor\":\"#E5ECF6\",\"aaxis\":{\"gridcolor\":\"white\",\"linecolor\":\"white\",\"ticks\":\"\"},\"baxis\":{\"gridcolor\":\"white\",\"linecolor\":\"white\",\"ticks\":\"\"},\"caxis\":{\"gridcolor\":\"white\",\"linecolor\":\"white\",\"ticks\":\"\"}},\"coloraxis\":{\"colorbar\":{\"outlinewidth\":0,\"ticks\":\"\"}},\"colorscale\":{\"sequential\":[[0.0,\"#0d0887\"],[0.1111111111111111,\"#46039f\"],[0.2222222222222222,\"#7201a8\"],[0.3333333333333333,\"#9c179e\"],[0.4444444444444444,\"#bd3786\"],[0.5555555555555556,\"#d8576b\"],[0.6666666666666666,\"#ed7953\"],[0.7777777777777778,\"#fb9f3a\"],[0.8888888888888888,\"#fdca26\"],[1.0,\"#f0f921\"]],\"sequentialminus\":[[0.0,\"#0d0887\"],[0.1111111111111111,\"#46039f\"],[0.2222222222222222,\"#7201a8\"],[0.3333333333333333,\"#9c179e\"],[0.4444444444444444,\"#bd3786\"],[0.5555555555555556,\"#d8576b\"],[0.6666666666666666,\"#ed7953\"],[0.7777777777777778,\"#fb9f3a\"],[0.8888888888888888,\"#fdca26\"],[1.0,\"#f0f921\"]],\"diverging\":[[0,\"#8e0152\"],[0.1,\"#c51b7d\"],[0.2,\"#de77ae\"],[0.3,\"#f1b6da\"],[0.4,\"#fde0ef\"],[0.5,\"#f7f7f7\"],[0.6,\"#e6f5d0\"],[0.7,\"#b8e186\"],[0.8,\"#7fbc41\"],[0.9,\"#4d9221\"],[1,\"#276419\"]]},\"xaxis\":{\"gridcolor\":\"white\",\"linecolor\":\"white\",\"ticks\":\"\",\"title\":{\"standoff\":15},\"zerolinecolor\":\"white\",\"automargin\":true,\"zerolinewidth\":2},\"yaxis\":{\"gridcolor\":\"white\",\"linecolor\":\"white\",\"ticks\":\"\",\"title\":{\"standoff\":15},\"zerolinecolor\":\"white\",\"automargin\":true,\"zerolinewidth\":2},\"scene\":{\"xaxis\":{\"backgroundcolor\":\"#E5ECF6\",\"gridcolor\":\"white\",\"linecolor\":\"white\",\"showbackground\":true,\"ticks\":\"\",\"zerolinecolor\":\"white\",\"gridwidth\":2},\"yaxis\":{\"backgroundcolor\":\"#E5ECF6\",\"gridcolor\":\"white\",\"linecolor\":\"white\",\"showbackground\":true,\"ticks\":\"\",\"zerolinecolor\":\"white\",\"gridwidth\":2},\"zaxis\":{\"backgroundcolor\":\"#E5ECF6\",\"gridcolor\":\"white\",\"linecolor\":\"white\",\"showbackground\":true,\"ticks\":\"\",\"zerolinecolor\":\"white\",\"gridwidth\":2}},\"shapedefaults\":{\"line\":{\"color\":\"#2a3f5f\"}},\"annotationdefaults\":{\"arrowcolor\":\"#2a3f5f\",\"arrowhead\":0,\"arrowwidth\":1},\"geo\":{\"bgcolor\":\"white\",\"landcolor\":\"#E5ECF6\",\"subunitcolor\":\"white\",\"showland\":true,\"showlakes\":true,\"lakecolor\":\"white\"},\"title\":{\"x\":0.05},\"mapbox\":{\"style\":\"light\"}}}},                        {\"responsive\": true}                    ).then(function(){\n",
              "                            \n",
              "var gd = document.getElementById('6eb39363-1167-4efc-9a3a-daf10f035609');\n",
              "var x = new MutationObserver(function (mutations, observer) {{\n",
              "        var display = window.getComputedStyle(gd).display;\n",
              "        if (!display || display === 'none') {{\n",
              "            console.log([gd, 'removed!']);\n",
              "            Plotly.purge(gd);\n",
              "            observer.disconnect();\n",
              "        }}\n",
              "}});\n",
              "\n",
              "// Listen for the removal of the full notebook cells\n",
              "var notebookContainer = gd.closest('#notebook-container');\n",
              "if (notebookContainer) {{\n",
              "    x.observe(notebookContainer, {childList: true});\n",
              "}}\n",
              "\n",
              "// Listen for the clearing of the current output cell\n",
              "var outputEl = gd.closest('.output');\n",
              "if (outputEl) {{\n",
              "    x.observe(outputEl, {childList: true});\n",
              "}}\n",
              "\n",
              "                        })                };                            </script>        </div>\n",
              "</body>\n",
              "</html>"
            ]
          },
          "metadata": {}
        }
      ]
    },
    {
      "cell_type": "code",
      "source": [
        "import plotly.graph_objects as go\n",
        "from igraph import Graph\n",
        "\n",
        "# Create a graph\n",
        "G = Graph()\n",
        "G.add_vertices(lst_vertices)\n",
        "G.add_edges([(edge[0], edge[1]) for edge in lst_edges])\n",
        "\n",
        "# Layout for the nodes\n",
        "layout = G.layout('auto')\n",
        "\n",
        "# Extract the x and y coordinates of the nodes\n",
        "x_nodes = [layout[k][0] for k in range(len(layout))]\n",
        "y_nodes = [layout[k][1] for k in range(len(layout))]\n",
        "\n",
        "# Nodes trace with vertex labels\n",
        "trace_nodes = go.Scatter(x=x_nodes, y=y_nodes, mode='markers+text', marker=dict(size=10, color='lightblue'),\n",
        "                         text=lst_vertices, textposition=\"bottom center\")\n",
        "\n",
        "# Extract the edge endpoints for plotting and prepare hover text for edges\n",
        "x_edges = []\n",
        "y_edges = []\n",
        "hover_text_edges = []\n",
        "for edge in G.es:\n",
        "    x_edges += [layout[edge.source][0], layout[edge.target][0], None]\n",
        "    y_edges += [layout[edge.source][1], layout[edge.target][1], None]\n",
        "    # Add hover text for each edge\n",
        "    hover_text_edges += [f\"{G.vs[edge.source]['name']} to {G.vs[edge.target]['name']}: {lst_edges[edge.index][2]}\", \"\", None]\n",
        "\n",
        "# Edges trace with hover info\n",
        "trace_edges = go.Scatter(x=x_edges, y=y_edges, mode='lines', line=dict(width=1, color='grey'),\n",
        "                         hoverinfo='text', text=hover_text_edges)\n",
        "\n",
        "# Create the figure\n",
        "fig = go.Figure(data=[trace_edges, trace_nodes], layout=go.Layout(\n",
        "    title='Graph visualization using Plotly',\n",
        "    showlegend=False, hovermode='closest',\n",
        "    margin=dict(b=20,l=5,r=5,t=40),\n",
        "    xaxis=dict(showgrid=False, zeroline=False, showticklabels=False),\n",
        "    yaxis=dict(showgrid=False, zeroline=False, showticklabels=False)))\n",
        "\n",
        "# Show the figure\n",
        "fig.show()"
      ],
      "metadata": {
        "id": "4qyFWSnHdXIT",
        "colab": {
          "base_uri": "https://localhost:8080/",
          "height": 542
        },
        "outputId": "bd149205-cba5-43a7-99e1-19061b2620a6"
      },
      "id": "4qyFWSnHdXIT",
      "execution_count": 18,
      "outputs": [
        {
          "output_type": "display_data",
          "data": {
            "text/html": [
              "<html>\n",
              "<head><meta charset=\"utf-8\" /></head>\n",
              "<body>\n",
              "    <div>            <script src=\"https://cdnjs.cloudflare.com/ajax/libs/mathjax/2.7.5/MathJax.js?config=TeX-AMS-MML_SVG\"></script><script type=\"text/javascript\">if (window.MathJax && window.MathJax.Hub && window.MathJax.Hub.Config) {window.MathJax.Hub.Config({SVG: {font: \"STIX-Web\"}});}</script>                <script type=\"text/javascript\">window.PlotlyConfig = {MathJaxConfig: 'local'};</script>\n",
              "        <script charset=\"utf-8\" src=\"https://cdn.plot.ly/plotly-2.24.1.min.js\"></script>                <div id=\"d7c3213e-e381-4a54-b083-9cc9e41b1c45\" class=\"plotly-graph-div\" style=\"height:525px; width:100%;\"></div>            <script type=\"text/javascript\">                                    window.PLOTLYENV=window.PLOTLYENV || {};                                    if (document.getElementById(\"d7c3213e-e381-4a54-b083-9cc9e41b1c45\")) {                    Plotly.newPlot(                        \"d7c3213e-e381-4a54-b083-9cc9e41b1c45\",                        [{\"hoverinfo\":\"text\",\"line\":{\"color\":\"grey\",\"width\":1},\"mode\":\"lines\",\"text\":[\"David to Notebook: buy\",\"\",null,\"John to Smartphone: buy\",\"\",null,\"Alice to Tablet: buy\",\"\",null,\"Maria to Monitor: buy\",\"\",null,\"Chris to Webcam: buy\",\"\",null,\"Eva to Headset: buy\",\"\",null,\"Tom to SSD: buy\",\"\",null,\"Emma to Keyboard: buy\",\"\",null,\"Liam to Mouse: buy\",\"\",null,\"Sophia to USB Drive: buy\",\"\",null,\"David to portable: mention\",\"\",null,\"David to speed: mention\",\"\",null,\"John to mobile: mention\",\"\",null,\"Alice to compact: mention\",\"\",null,\"Maria to high-resolution: mention\",\"\",null,\"Chris to affordable: mention\",\"\",null,\"Eva to user-friendly: mention\",\"\",null,\"Tom to durable: mention\",\"\",null,\"Emma to ergonomic: mention\",\"\",null,\"Liam to wireless: mention\",\"\",null,\"Sophia to lightweight: mention\",\"\",null,\"Notebook to portable: mention\",\"\",null,\"Tablet to compact: mention\",\"\",null,\"Smartphone to mobile: mention\",\"\",null,\"Monitor to high-resolution: mention\",\"\",null,\"Printer to portable: mention\",\"\",null,\"Router to speed: mention\",\"\",null,\"Keyboard to ergonomic: mention\",\"\",null,\"Mouse to wireless: mention\",\"\",null,\"Webcam to affordable: mention\",\"\",null,\"Headset to user-friendly: mention\",\"\",null,\"SSD to durable: mention\",\"\",null,\"USB Drive to lightweight: mention\",\"\",null,\"Notebook to Printer: also_buy\",\"\",null,\"Notebook to Router: also_buy\",\"\",null,\"Notebook to Mouse: also_buy\",\"\",null,\"Tablet to Headset: also_buy\",\"\",null,\"Tablet to Keyboard: also_buy\",\"\",null,\"Smartphone to Headset: also_buy\",\"\",null,\"Monitor to Printer: also_buy\",\"\",null,\"Monitor to Router: also_buy\",\"\",null,\"Router to USB Drive: also_buy\",\"\",null,\"Router to SSD: also_buy\",\"\",null,\"Notebook to Router: also_view\",\"\",null,\"Keyboard to Webcam: also_view\",\"\",null,\"Smartphone to Headset: also_view\",\"\",null,\"Printer to Mouse: also_view\",\"\",null,\"Keyboard to Mouse: also_view\",\"\",null,\"Notebook to Personal Computer: belongs_to_category\",\"\",null,\"Tablet to Input Device: belongs_to_category\",\"\",null,\"Smartphone to Input Device: belongs_to_category\",\"\",null,\"Printer to Output Device: belongs_to_category\",\"\",null,\"Monitor to Output Device: belongs_to_category\",\"\",null,\"Keyboard to Input Device: belongs_to_category\",\"\",null,\"Mouse to Input Device: belongs_to_category\",\"\",null,\"Webcam to Input Device: belongs_to_category\",\"\",null,\"Headset to Input Device: belongs_to_category\",\"\",null,\"USB Drive to Storage Device: belongs_to_category\",\"\",null,\"SSD to Storage Device: belongs_to_category\",\"\",null,\"Notebook to HP: belongs_to_brand\",\"\",null,\"Smartphone to Samsung: belongs_to_brand\",\"\",null,\"Tablet to Samsung: belongs_to_brand\",\"\",null,\"Monitor to HP: belongs_to_brand\",\"\",null,\"Keyboard to Logitech: belongs_to_brand\",\"\",null,\"Mouse to Logitech: belongs_to_brand\",\"\",null,\"Webcam to Logitech: belongs_to_brand\",\"\",null,\"Headset to Sony: belongs_to_brand\",\"\",null,\"USB Drive to SanDisk: belongs_to_brand\",\"\",null,\"SSD to Samsung: belongs_to_brand\",\"\",null],\"x\":[-1.7509649790886765,-0.7962402108961242,null,1.1400564581101806,1.0104216844558187,null,2.9716846007603612,1.8961314863579668,null,-3.006128243450838,-1.9065563783847421,null,3.175254631566891,2.2924381956234563,null,2.5967612750997118,1.9316249131848455,null,-0.36065194948572005,-0.3684029061892862,null,1.6873751513578963,1.4595330891017035,null,0.08515496053714636,0.3083117781593066,null,-2.258361914127029,-2.1143834056942126,null,-1.7509649790886765,-1.3877986142703909,null,-1.7509649790886765,-2.392668153834886,null,1.1400564581101806,0.5572035035835281,null,2.9716846007603612,2.911462820684569,null,-3.006128243450838,-2.805401085881712,null,3.175254631566891,3.4529317975146276,null,2.5967612750997118,2.9940635802927957,null,-0.36065194948572005,0.19215421864640023,null,1.6873751513578963,2.15137251188384,null,0.08515496053714636,0.4060073090985314,null,-2.258361914127029,-2.8372885143913473,null,-0.7962402108961242,-1.3877986142703909,null,1.8961314863579668,2.911462820684569,null,1.0104216844558187,0.5572035035835281,null,-1.9065563783847421,-2.805401085881712,null,-0.6205238931285288,-1.3877986142703909,null,-1.4210058385025346,-2.392668153834886,null,1.4595330891017035,2.15137251188384,null,0.3083117781593066,0.4060073090985314,null,2.2924381956234563,3.4529317975146276,null,1.9316249131848455,2.9940635802927957,null,-0.3684029061892862,0.19215421864640023,null,-2.1143834056942126,-2.8372885143913473,null,-0.7962402108961242,-0.6205238931285288,null,-0.7962402108961242,-1.4210058385025346,null,-0.7962402108961242,0.3083117781593066,null,1.8961314863579668,1.9316249131848455,null,1.8961314863579668,1.4595330891017035,null,1.0104216844558187,1.9316249131848455,null,-1.9065563783847421,-0.6205238931285288,null,-1.9065563783847421,-1.4210058385025346,null,-1.4210058385025346,-2.1143834056942126,null,-1.4210058385025346,-0.3684029061892862,null,-0.7962402108961242,-1.4210058385025346,null,1.4595330891017035,2.2924381956234563,null,1.0104216844558187,1.9316249131848455,null,-0.6205238931285288,0.3083117781593066,null,1.4595330891017035,0.3083117781593066,null,-0.7962402108961242,-0.8328844538945107,null,1.8961314863579668,1.3466262650905285,null,1.0104216844558187,1.3466262650905285,null,-0.6205238931285288,-1.429400135892102,null,-1.9065563783847421,-1.429400135892102,null,1.4595330891017035,1.3466262650905285,null,0.3083117781593066,1.3466262650905285,null,2.2924381956234563,1.3466262650905285,null,1.9316249131848455,1.3466262650905285,null,-2.1143834056942126,-1.151143551993721,null,-0.3684029061892862,-1.151143551993721,null,-0.7962402108961242,-1.711483081787768,null,1.0104216844558187,0.6597373924399682,null,1.8961314863579668,0.6597373924399682,null,-1.9065563783847421,-1.711483081787768,null,1.4595330891017035,1.1468810844012707,null,0.3083117781593066,1.1468810844012707,null,2.2924381956234563,1.1468810844012707,null,1.9316249131848455,2.0321823920834112,null,-2.1143834056942126,-3.2533513053070293,null,-0.3684029061892862,0.6597373924399682,null],\"y\":[-0.39366099532549176,-0.6313082423837201,null,-2.8666897685141484,-1.7759228214139269,null,-0.5504823379084482,-0.8778993960050769,null,-0.9556018107033857,-0.8542736228229738,null,0.6621051471424314,-0.14932730713089507,null,-2.7148556257194913,-1.8934214060556567,null,1.7789989039612668,0.6157119514883285,null,1.0801733025618647,-0.17594797935984816,null,0.15276569337848311,-0.5722529006070093,null,2.299671562800608,1.1983904946239667,null,-0.39366099532549176,-1.1347545137617645,null,-0.39366099532549176,0.21402752093661004,null,-2.8666897685141484,-2.816736875167746,null,-0.5504823379084482,-1.1765991472695494,null,-0.9556018107033857,-1.6145014185697657,null,0.6621051471424314,-0.0011109519873120383,null,-2.7148556257194913,-2.2243756945313717,null,1.7789989039612668,1.690933271339958,null,1.0801733025618647,0.7616782086178211,null,0.15276569337848311,0.6394980243173005,null,2.299671562800608,1.9180265192753265,null,-0.6313082423837201,-1.1347545137617645,null,-0.8778993960050769,-1.1765991472695494,null,-1.7759228214139269,-2.816736875167746,null,-0.8542736228229738,-1.6145014185697657,null,-1.1889238159288678,-1.1347545137617645,null,0.22372795676492888,0.21402752093661004,null,-0.17594797935984816,0.7616782086178211,null,-0.5722529006070093,0.6394980243173005,null,-0.14932730713089507,-0.0011109519873120383,null,-1.8934214060556567,-2.2243756945313717,null,0.6157119514883285,1.690933271339958,null,1.1983904946239667,1.9180265192753265,null,-0.6313082423837201,-1.1889238159288678,null,-0.6313082423837201,0.22372795676492888,null,-0.6313082423837201,-0.5722529006070093,null,-0.8778993960050769,-1.8934214060556567,null,-0.8778993960050769,-0.17594797935984816,null,-1.7759228214139269,-1.8934214060556567,null,-0.8542736228229738,-1.1889238159288678,null,-0.8542736228229738,0.22372795676492888,null,0.22372795676492888,1.1983904946239667,null,0.22372795676492888,0.6157119514883285,null,-0.6313082423837201,0.22372795676492888,null,-0.17594797935984816,-0.14932730713089507,null,-1.7759228214139269,-1.8934214060556567,null,-1.1889238159288678,-0.5722529006070093,null,-0.17594797935984816,-0.5722529006070093,null,-0.6313082423837201,-1.987328132106153,null,-0.8778993960050769,-1.0370218977294645,null,-1.7759228214139269,-1.0370218977294645,null,-1.1889238159288678,-1.9334004206132185,null,-0.8542736228229738,-1.9334004206132185,null,-0.17594797935984816,-1.0370218977294645,null,-0.5722529006070093,-1.0370218977294645,null,-0.14932730713089507,-1.0370218977294645,null,-1.8934214060556567,-1.0370218977294645,null,1.1983904946239667,1.443906919156235,null,0.6157119514883285,1.443906919156235,null,-0.6313082423837201,-1.562613942993419,null,-1.7759228214139269,-0.574046580056992,null,-0.8778993960050769,-0.574046580056992,null,-0.8542736228229738,-1.562613942993419,null,-0.17594797935984816,0.22370061364751756,null,-0.5722529006070093,0.22370061364751756,null,-0.14932730713089507,0.22370061364751756,null,-1.8934214060556567,-3.011824120466179,null,1.1983904946239667,1.196427632809819,null,0.6157119514883285,-0.574046580056992,null],\"type\":\"scatter\"},{\"marker\":{\"color\":\"lightblue\",\"size\":10},\"mode\":\"markers+text\",\"text\":[\"David\",\"John\",\"Alice\",\"Maria\",\"Chris\",\"Eva\",\"Tom\",\"Emma\",\"Liam\",\"Sophia\",\"Notebook\",\"Tablet\",\"Smartphone\",\"Monitor\",\"Printer\",\"Router\",\"Keyboard\",\"Mouse\",\"Webcam\",\"Headset\",\"USB Drive\",\"SSD\",\"Personal Computer\",\"Input Device\",\"Output Device\",\"Storage Device\",\"HP\",\"Samsung\",\"Logitech\",\"Sony\",\"SanDisk\",\"portable\",\"speed\",\"mobile\",\"compact\",\"high-resolution\",\"affordable\",\"user-friendly\",\"durable\",\"ergonomic\",\"wireless\",\"lightweight\"],\"textposition\":\"bottom center\",\"x\":[-1.7509649790886765,1.1400564581101806,2.9716846007603612,-3.006128243450838,3.175254631566891,2.5967612750997118,-0.36065194948572005,1.6873751513578963,0.08515496053714636,-2.258361914127029,-0.7962402108961242,1.8961314863579668,1.0104216844558187,-1.9065563783847421,-0.6205238931285288,-1.4210058385025346,1.4595330891017035,0.3083117781593066,2.2924381956234563,1.9316249131848455,-2.1143834056942126,-0.3684029061892862,-0.8328844538945107,1.3466262650905285,-1.429400135892102,-1.151143551993721,-1.711483081787768,0.6597373924399682,1.1468810844012707,2.0321823920834112,-3.2533513053070293,-1.3877986142703909,-2.392668153834886,0.5572035035835281,2.911462820684569,-2.805401085881712,3.4529317975146276,2.9940635802927957,0.19215421864640023,2.15137251188384,0.4060073090985314,-2.8372885143913473],\"y\":[-0.39366099532549176,-2.8666897685141484,-0.5504823379084482,-0.9556018107033857,0.6621051471424314,-2.7148556257194913,1.7789989039612668,1.0801733025618647,0.15276569337848311,2.299671562800608,-0.6313082423837201,-0.8778993960050769,-1.7759228214139269,-0.8542736228229738,-1.1889238159288678,0.22372795676492888,-0.17594797935984816,-0.5722529006070093,-0.14932730713089507,-1.8934214060556567,1.1983904946239667,0.6157119514883285,-1.987328132106153,-1.0370218977294645,-1.9334004206132185,1.443906919156235,-1.562613942993419,-0.574046580056992,0.22370061364751756,-3.011824120466179,1.196427632809819,-1.1347545137617645,0.21402752093661004,-2.816736875167746,-1.1765991472695494,-1.6145014185697657,-0.0011109519873120383,-2.2243756945313717,1.690933271339958,0.7616782086178211,0.6394980243173005,1.9180265192753265],\"type\":\"scatter\"}],                        {\"hovermode\":\"closest\",\"margin\":{\"b\":20,\"l\":5,\"r\":5,\"t\":40},\"showlegend\":false,\"title\":{\"text\":\"Graph visualization using Plotly\"},\"xaxis\":{\"showgrid\":false,\"showticklabels\":false,\"zeroline\":false},\"yaxis\":{\"showgrid\":false,\"showticklabels\":false,\"zeroline\":false},\"template\":{\"data\":{\"histogram2dcontour\":[{\"type\":\"histogram2dcontour\",\"colorbar\":{\"outlinewidth\":0,\"ticks\":\"\"},\"colorscale\":[[0.0,\"#0d0887\"],[0.1111111111111111,\"#46039f\"],[0.2222222222222222,\"#7201a8\"],[0.3333333333333333,\"#9c179e\"],[0.4444444444444444,\"#bd3786\"],[0.5555555555555556,\"#d8576b\"],[0.6666666666666666,\"#ed7953\"],[0.7777777777777778,\"#fb9f3a\"],[0.8888888888888888,\"#fdca26\"],[1.0,\"#f0f921\"]]}],\"choropleth\":[{\"type\":\"choropleth\",\"colorbar\":{\"outlinewidth\":0,\"ticks\":\"\"}}],\"histogram2d\":[{\"type\":\"histogram2d\",\"colorbar\":{\"outlinewidth\":0,\"ticks\":\"\"},\"colorscale\":[[0.0,\"#0d0887\"],[0.1111111111111111,\"#46039f\"],[0.2222222222222222,\"#7201a8\"],[0.3333333333333333,\"#9c179e\"],[0.4444444444444444,\"#bd3786\"],[0.5555555555555556,\"#d8576b\"],[0.6666666666666666,\"#ed7953\"],[0.7777777777777778,\"#fb9f3a\"],[0.8888888888888888,\"#fdca26\"],[1.0,\"#f0f921\"]]}],\"heatmap\":[{\"type\":\"heatmap\",\"colorbar\":{\"outlinewidth\":0,\"ticks\":\"\"},\"colorscale\":[[0.0,\"#0d0887\"],[0.1111111111111111,\"#46039f\"],[0.2222222222222222,\"#7201a8\"],[0.3333333333333333,\"#9c179e\"],[0.4444444444444444,\"#bd3786\"],[0.5555555555555556,\"#d8576b\"],[0.6666666666666666,\"#ed7953\"],[0.7777777777777778,\"#fb9f3a\"],[0.8888888888888888,\"#fdca26\"],[1.0,\"#f0f921\"]]}],\"heatmapgl\":[{\"type\":\"heatmapgl\",\"colorbar\":{\"outlinewidth\":0,\"ticks\":\"\"},\"colorscale\":[[0.0,\"#0d0887\"],[0.1111111111111111,\"#46039f\"],[0.2222222222222222,\"#7201a8\"],[0.3333333333333333,\"#9c179e\"],[0.4444444444444444,\"#bd3786\"],[0.5555555555555556,\"#d8576b\"],[0.6666666666666666,\"#ed7953\"],[0.7777777777777778,\"#fb9f3a\"],[0.8888888888888888,\"#fdca26\"],[1.0,\"#f0f921\"]]}],\"contourcarpet\":[{\"type\":\"contourcarpet\",\"colorbar\":{\"outlinewidth\":0,\"ticks\":\"\"}}],\"contour\":[{\"type\":\"contour\",\"colorbar\":{\"outlinewidth\":0,\"ticks\":\"\"},\"colorscale\":[[0.0,\"#0d0887\"],[0.1111111111111111,\"#46039f\"],[0.2222222222222222,\"#7201a8\"],[0.3333333333333333,\"#9c179e\"],[0.4444444444444444,\"#bd3786\"],[0.5555555555555556,\"#d8576b\"],[0.6666666666666666,\"#ed7953\"],[0.7777777777777778,\"#fb9f3a\"],[0.8888888888888888,\"#fdca26\"],[1.0,\"#f0f921\"]]}],\"surface\":[{\"type\":\"surface\",\"colorbar\":{\"outlinewidth\":0,\"ticks\":\"\"},\"colorscale\":[[0.0,\"#0d0887\"],[0.1111111111111111,\"#46039f\"],[0.2222222222222222,\"#7201a8\"],[0.3333333333333333,\"#9c179e\"],[0.4444444444444444,\"#bd3786\"],[0.5555555555555556,\"#d8576b\"],[0.6666666666666666,\"#ed7953\"],[0.7777777777777778,\"#fb9f3a\"],[0.8888888888888888,\"#fdca26\"],[1.0,\"#f0f921\"]]}],\"mesh3d\":[{\"type\":\"mesh3d\",\"colorbar\":{\"outlinewidth\":0,\"ticks\":\"\"}}],\"scatter\":[{\"fillpattern\":{\"fillmode\":\"overlay\",\"size\":10,\"solidity\":0.2},\"type\":\"scatter\"}],\"parcoords\":[{\"type\":\"parcoords\",\"line\":{\"colorbar\":{\"outlinewidth\":0,\"ticks\":\"\"}}}],\"scatterpolargl\":[{\"type\":\"scatterpolargl\",\"marker\":{\"colorbar\":{\"outlinewidth\":0,\"ticks\":\"\"}}}],\"bar\":[{\"error_x\":{\"color\":\"#2a3f5f\"},\"error_y\":{\"color\":\"#2a3f5f\"},\"marker\":{\"line\":{\"color\":\"#E5ECF6\",\"width\":0.5},\"pattern\":{\"fillmode\":\"overlay\",\"size\":10,\"solidity\":0.2}},\"type\":\"bar\"}],\"scattergeo\":[{\"type\":\"scattergeo\",\"marker\":{\"colorbar\":{\"outlinewidth\":0,\"ticks\":\"\"}}}],\"scatterpolar\":[{\"type\":\"scatterpolar\",\"marker\":{\"colorbar\":{\"outlinewidth\":0,\"ticks\":\"\"}}}],\"histogram\":[{\"marker\":{\"pattern\":{\"fillmode\":\"overlay\",\"size\":10,\"solidity\":0.2}},\"type\":\"histogram\"}],\"scattergl\":[{\"type\":\"scattergl\",\"marker\":{\"colorbar\":{\"outlinewidth\":0,\"ticks\":\"\"}}}],\"scatter3d\":[{\"type\":\"scatter3d\",\"line\":{\"colorbar\":{\"outlinewidth\":0,\"ticks\":\"\"}},\"marker\":{\"colorbar\":{\"outlinewidth\":0,\"ticks\":\"\"}}}],\"scattermapbox\":[{\"type\":\"scattermapbox\",\"marker\":{\"colorbar\":{\"outlinewidth\":0,\"ticks\":\"\"}}}],\"scatterternary\":[{\"type\":\"scatterternary\",\"marker\":{\"colorbar\":{\"outlinewidth\":0,\"ticks\":\"\"}}}],\"scattercarpet\":[{\"type\":\"scattercarpet\",\"marker\":{\"colorbar\":{\"outlinewidth\":0,\"ticks\":\"\"}}}],\"carpet\":[{\"aaxis\":{\"endlinecolor\":\"#2a3f5f\",\"gridcolor\":\"white\",\"linecolor\":\"white\",\"minorgridcolor\":\"white\",\"startlinecolor\":\"#2a3f5f\"},\"baxis\":{\"endlinecolor\":\"#2a3f5f\",\"gridcolor\":\"white\",\"linecolor\":\"white\",\"minorgridcolor\":\"white\",\"startlinecolor\":\"#2a3f5f\"},\"type\":\"carpet\"}],\"table\":[{\"cells\":{\"fill\":{\"color\":\"#EBF0F8\"},\"line\":{\"color\":\"white\"}},\"header\":{\"fill\":{\"color\":\"#C8D4E3\"},\"line\":{\"color\":\"white\"}},\"type\":\"table\"}],\"barpolar\":[{\"marker\":{\"line\":{\"color\":\"#E5ECF6\",\"width\":0.5},\"pattern\":{\"fillmode\":\"overlay\",\"size\":10,\"solidity\":0.2}},\"type\":\"barpolar\"}],\"pie\":[{\"automargin\":true,\"type\":\"pie\"}]},\"layout\":{\"autotypenumbers\":\"strict\",\"colorway\":[\"#636efa\",\"#EF553B\",\"#00cc96\",\"#ab63fa\",\"#FFA15A\",\"#19d3f3\",\"#FF6692\",\"#B6E880\",\"#FF97FF\",\"#FECB52\"],\"font\":{\"color\":\"#2a3f5f\"},\"hovermode\":\"closest\",\"hoverlabel\":{\"align\":\"left\"},\"paper_bgcolor\":\"white\",\"plot_bgcolor\":\"#E5ECF6\",\"polar\":{\"bgcolor\":\"#E5ECF6\",\"angularaxis\":{\"gridcolor\":\"white\",\"linecolor\":\"white\",\"ticks\":\"\"},\"radialaxis\":{\"gridcolor\":\"white\",\"linecolor\":\"white\",\"ticks\":\"\"}},\"ternary\":{\"bgcolor\":\"#E5ECF6\",\"aaxis\":{\"gridcolor\":\"white\",\"linecolor\":\"white\",\"ticks\":\"\"},\"baxis\":{\"gridcolor\":\"white\",\"linecolor\":\"white\",\"ticks\":\"\"},\"caxis\":{\"gridcolor\":\"white\",\"linecolor\":\"white\",\"ticks\":\"\"}},\"coloraxis\":{\"colorbar\":{\"outlinewidth\":0,\"ticks\":\"\"}},\"colorscale\":{\"sequential\":[[0.0,\"#0d0887\"],[0.1111111111111111,\"#46039f\"],[0.2222222222222222,\"#7201a8\"],[0.3333333333333333,\"#9c179e\"],[0.4444444444444444,\"#bd3786\"],[0.5555555555555556,\"#d8576b\"],[0.6666666666666666,\"#ed7953\"],[0.7777777777777778,\"#fb9f3a\"],[0.8888888888888888,\"#fdca26\"],[1.0,\"#f0f921\"]],\"sequentialminus\":[[0.0,\"#0d0887\"],[0.1111111111111111,\"#46039f\"],[0.2222222222222222,\"#7201a8\"],[0.3333333333333333,\"#9c179e\"],[0.4444444444444444,\"#bd3786\"],[0.5555555555555556,\"#d8576b\"],[0.6666666666666666,\"#ed7953\"],[0.7777777777777778,\"#fb9f3a\"],[0.8888888888888888,\"#fdca26\"],[1.0,\"#f0f921\"]],\"diverging\":[[0,\"#8e0152\"],[0.1,\"#c51b7d\"],[0.2,\"#de77ae\"],[0.3,\"#f1b6da\"],[0.4,\"#fde0ef\"],[0.5,\"#f7f7f7\"],[0.6,\"#e6f5d0\"],[0.7,\"#b8e186\"],[0.8,\"#7fbc41\"],[0.9,\"#4d9221\"],[1,\"#276419\"]]},\"xaxis\":{\"gridcolor\":\"white\",\"linecolor\":\"white\",\"ticks\":\"\",\"title\":{\"standoff\":15},\"zerolinecolor\":\"white\",\"automargin\":true,\"zerolinewidth\":2},\"yaxis\":{\"gridcolor\":\"white\",\"linecolor\":\"white\",\"ticks\":\"\",\"title\":{\"standoff\":15},\"zerolinecolor\":\"white\",\"automargin\":true,\"zerolinewidth\":2},\"scene\":{\"xaxis\":{\"backgroundcolor\":\"#E5ECF6\",\"gridcolor\":\"white\",\"linecolor\":\"white\",\"showbackground\":true,\"ticks\":\"\",\"zerolinecolor\":\"white\",\"gridwidth\":2},\"yaxis\":{\"backgroundcolor\":\"#E5ECF6\",\"gridcolor\":\"white\",\"linecolor\":\"white\",\"showbackground\":true,\"ticks\":\"\",\"zerolinecolor\":\"white\",\"gridwidth\":2},\"zaxis\":{\"backgroundcolor\":\"#E5ECF6\",\"gridcolor\":\"white\",\"linecolor\":\"white\",\"showbackground\":true,\"ticks\":\"\",\"zerolinecolor\":\"white\",\"gridwidth\":2}},\"shapedefaults\":{\"line\":{\"color\":\"#2a3f5f\"}},\"annotationdefaults\":{\"arrowcolor\":\"#2a3f5f\",\"arrowhead\":0,\"arrowwidth\":1},\"geo\":{\"bgcolor\":\"white\",\"landcolor\":\"#E5ECF6\",\"subunitcolor\":\"white\",\"showland\":true,\"showlakes\":true,\"lakecolor\":\"white\"},\"title\":{\"x\":0.05},\"mapbox\":{\"style\":\"light\"}}}},                        {\"responsive\": true}                    ).then(function(){\n",
              "                            \n",
              "var gd = document.getElementById('d7c3213e-e381-4a54-b083-9cc9e41b1c45');\n",
              "var x = new MutationObserver(function (mutations, observer) {{\n",
              "        var display = window.getComputedStyle(gd).display;\n",
              "        if (!display || display === 'none') {{\n",
              "            console.log([gd, 'removed!']);\n",
              "            Plotly.purge(gd);\n",
              "            observer.disconnect();\n",
              "        }}\n",
              "}});\n",
              "\n",
              "// Listen for the removal of the full notebook cells\n",
              "var notebookContainer = gd.closest('#notebook-container');\n",
              "if (notebookContainer) {{\n",
              "    x.observe(notebookContainer, {childList: true});\n",
              "}}\n",
              "\n",
              "// Listen for the clearing of the current output cell\n",
              "var outputEl = gd.closest('.output');\n",
              "if (outputEl) {{\n",
              "    x.observe(outputEl, {childList: true});\n",
              "}}\n",
              "\n",
              "                        })                };                            </script>        </div>\n",
              "</body>\n",
              "</html>"
            ]
          },
          "metadata": {}
        }
      ]
    },
    {
      "cell_type": "code",
      "execution_count": 19,
      "metadata": {
        "id": "vpjw27CiPeNw",
        "colab": {
          "base_uri": "https://localhost:8080/"
        },
        "outputId": "315fac58-b0fa-42e3-f1b9-535f51244f2f"
      },
      "outputs": [
        {
          "output_type": "stream",
          "name": "stderr",
          "text": [
            "/usr/local/lib/python3.10/dist-packages/pyspark/sql/dataframe.py:147: UserWarning:\n",
            "\n",
            "DataFrame constructor is internal. Do not directly use it.\n",
            "\n"
          ]
        },
        {
          "output_type": "stream",
          "name": "stdout",
          "text": [
            "+------------+--------------------+-----------+\n",
            "|         src|                 rel|        dst|\n",
            "+------------+--------------------+-----------+\n",
            "|    {Sophia}|{Sophia, USB Driv...|{USB Drive}|\n",
            "|    {Router}|{Router, USB Driv...|{USB Drive}|\n",
            "|    {Tablet}|{Tablet, Headset,...|  {Headset}|\n",
            "|{Smartphone}|{Smartphone, Head...|  {Headset}|\n",
            "|       {Eva}| {Eva, Headset, buy}|  {Headset}|\n",
            "|  {Notebook}|{Notebook, Router...|   {Router}|\n",
            "|  {Notebook}|{Notebook, Router...|   {Router}|\n",
            "|   {Monitor}|{Monitor, Router,...|   {Router}|\n",
            "|     {Chris}|{Chris, Webcam, buy}|   {Webcam}|\n",
            "|   {Printer}|{Printer, Mouse, ...|    {Mouse}|\n",
            "|  {Notebook}|{Notebook, Mouse,...|    {Mouse}|\n",
            "|      {Liam}|  {Liam, Mouse, buy}|    {Mouse}|\n",
            "|     {David}|{David, Notebook,...| {Notebook}|\n",
            "|     {Alice}|{Alice, Tablet, buy}|   {Tablet}|\n",
            "|  {Notebook}|{Notebook, Printe...|  {Printer}|\n",
            "|   {Monitor}|{Monitor, Printer...|  {Printer}|\n",
            "|    {Webcam}|{Webcam, Keyboard...| {Keyboard}|\n",
            "|    {Tablet}|{Tablet, Keyboard...| {Keyboard}|\n",
            "|     {Mouse}|{Mouse, Keyboard,...| {Keyboard}|\n",
            "|      {Emma}|{Emma, Keyboard, ...| {Keyboard}|\n",
            "+------------+--------------------+-----------+\n",
            "only showing top 20 rows\n",
            "\n"
          ]
        }
      ],
      "source": [
        "triplets = g.find(\"(src)-[rel]->(dst)\")\n",
        "triplets.show()"
      ],
      "id": "vpjw27CiPeNw"
    },
    {
      "cell_type": "code",
      "execution_count": 20,
      "metadata": {
        "id": "mdTJrldTP7fA",
        "colab": {
          "base_uri": "https://localhost:8080/",
          "height": 139
        },
        "outputId": "1c3aca13-93a5-44f2-ef3d-6decde5f5e02"
      },
      "outputs": [
        {
          "output_type": "execute_result",
          "data": {
            "text/plain": [
              "\"Row(id='Sophia')-Row(src='Sophia', dst='USB Drive', rel='buy')->Row(id='USB Drive')\\nRow(id='Router')-Row(src='Router', dst='USB Drive', rel='also_buy')->Row(id='USB Drive')\\nRow(id='Tablet')-Row(src='Tablet', dst='Headset', rel='also_buy')->Row(id='Headset')\\nRow(id='Smartphone')-Row(src='Smartphone', dst='Headset', rel='also_buy')->Row(id='Headset')\\nRow(id='Eva')-Row(src='Eva', dst='Headset', rel='buy')->Row(id='Headset')\\nRow(id='Notebook')-Row(src='Notebook', dst='Router', rel='also_view')->Row(id='Router')\\nRow(id='Notebook')-Row(src='Notebook', dst='Router', rel='also_buy')->Row(id='Router')\\nRow(id='Monitor')-Row(src='Monitor', dst='Router', rel='also_buy')->Row(id='Router')\\nRow(id='Chris')-Row(src='Chris', dst='Webcam', rel='buy')->Row(id='Webcam')\\nRow(id='Printer')-Row(src='Printer', dst='Mouse', rel='also_view')->Row(id='Mouse')\\nRow(id='Notebook')-Row(src='Notebook', dst='Mouse', rel='also_buy')->Row(id='Mouse')\\nRow(id='Liam')-Row(src='Liam', dst='Mouse', rel='buy')->Row(id='Mouse')\\nRow(id='David')-Row(src='David', dst='Notebook', rel='buy')->Row(id='Notebook')\\nRow(id='Alice')-Row(src='Alice', dst='Tablet', rel='buy')->Row(id='Tablet')\\nRow(id='Notebook')-Row(src='Notebook', dst='Printer', rel='also_buy')->Row(id='Printer')\\nRow(id='Monitor')-Row(src='Monitor', dst='Printer', rel='also_buy')->Row(id='Printer')\\nRow(id='Webcam')-Row(src='Webcam', dst='Keyboard', rel='also_view')->Row(id='Keyboard')\\nRow(id='Tablet')-Row(src='Tablet', dst='Keyboard', rel='also_buy')->Row(id='Keyboard')\\nRow(id='Mouse')-Row(src='Mouse', dst='Keyboard', rel='also_view')->Row(id='Keyboard')\\nRow(id='Emma')-Row(src='Emma', dst='Keyboard', rel='buy')->Row(id='Keyboard')\\nRow(id='John')-Row(src='John', dst='Smartphone', rel='buy')->Row(id='Smartphone')\\nRow(id='Headset')-Row(src='Headset', dst='Smartphone', rel='also_view')->Row(id='Smartphone')\\nRow(id='Maria')-Row(src='Maria', dst='Monitor', rel='buy')->Row(id='Monitor')\\nRow(id='Headset')-Row(src='Headset', dst='Sony', rel='belongs_to_brand')->Row(id='Sony')\\nRow(id='Tablet')-Row(src='Tablet', dst='compact', rel='mention')->Row(id='compact')\\nRow(id='Alice')-Row(src='Alice', dst='compact', rel='mention')->Row(id='compact')\\nRow(id='Tom')-Row(src='Tom', dst='durable', rel='mention')->Row(id='durable')\\nRow(id='SSD')-Row(src='SSD', dst='durable', rel='mention')->Row(id='durable')\\nRow(id='Smartphone')-Row(src='Smartphone', dst='mobile', rel='mention')->Row(id='mobile')\\nRow(id='John')-Row(src='John', dst='mobile', rel='mention')->Row(id='mobile')\\nRow(id='Notebook')-Row(src='Notebook', dst='HP', rel='belongs_to_brand')->Row(id='HP')\\nRow(id='Monitor')-Row(src='Monitor', dst='HP', rel='belongs_to_brand')->Row(id='HP')\\nRow(id='Keyboard')-Row(src='Keyboard', dst='ergonomic', rel='mention')->Row(id='ergonomic')\\nRow(id='Emma')-Row(src='Emma', dst='ergonomic', rel='mention')->Row(id='ergonomic')\\nRow(id='USB Drive')-Row(src='USB Drive', dst='Storage Device', rel='belongs_to_category')->Row(id='Storage Device')\\nRow(id='SSD')-Row(src='SSD', dst='Storage Device', rel='belongs_to_category')->Row(id='Storage Device')\\nRow(id='Webcam')-Row(src='Webcam', dst='Input Device', rel='belongs_to_category')->Row(id='Input Device')\\nRow(id='Tablet')-Row(src='Tablet', dst='Input Device', rel='belongs_to_category')->Row(id='Input Device')\\nRow(id='Smartphone')-Row(src='Smartphone', dst='Input Device', rel='belongs_to_category')->Row(id='Input Device')\\nRow(id='Mouse')-Row(src='Mouse', dst='Input Device', rel='belongs_to_category')->Row(id='Input Device')\\nRow(id='Keyboard')-Row(src='Keyboard', dst='Input Device', rel='belongs_to_category')->Row(id='Input Device')\\nRow(id='Headset')-Row(src='Headset', dst='Input Device', rel='belongs_to_category')->Row(id='Input Device')\\nRow(id='Printer')-Row(src='Printer', dst='Output Device', rel='belongs_to_category')->Row(id='Output Device')\\nRow(id='Monitor')-Row(src='Monitor', dst='Output Device', rel='belongs_to_category')->Row(id='Output Device')\\nRow(id='Mouse')-Row(src='Mouse', dst='wireless', rel='mention')->Row(id='wireless')\\nRow(id='Liam')-Row(src='Liam', dst='wireless', rel='mention')->Row(id='wireless')\\nRow(id='Tom')-Row(src='Tom', dst='SSD', rel='buy')->Row(id='SSD')\\nRow(id='Router')-Row(src='Router', dst='SSD', rel='also_buy')->Row(id='SSD')\\nRow(id='USB Drive')-Row(src='USB Drive', dst='lightweight', rel='mention')->Row(id='lightweight')\\nRow(id='Sophia')-Row(src='Sophia', dst='lightweight', rel='mention')->Row(id='lightweight')\\nRow(id='Tablet')-Row(src='Tablet', dst='Samsung', rel='belongs_to_brand')->Row(id='Samsung')\\nRow(id='Smartphone')-Row(src='Smartphone', dst='Samsung', rel='belongs_to_brand')->Row(id='Samsung')\\nRow(id='SSD')-Row(src='SSD', dst='Samsung', rel='belongs_to_brand')->Row(id='Samsung')\\nRow(id='Headset')-Row(src='Headset', dst='user-friendly', rel='mention')->Row(id='user-friendly')\\nRow(id='Eva')-Row(src='Eva', dst='user-friendly', rel='mention')->Row(id='user-friendly')\\nRow(id='Monitor')-Row(src='Monitor', dst='high-resolution', rel='mention')->Row(id='high-resolution')\\nRow(id='Maria')-Row(src='Maria', dst='high-resolution', rel='mention')->Row(id='high-resolution')\\nRow(id='Printer')-Row(src='Printer', dst='portable', rel='mention')->Row(id='portable')\\nRow(id='Notebook')-Row(src='Notebook', dst='portable', rel='mention')->Row(id='portable')\\nRow(id='David')-Row(src='David', dst='portable', rel='mention')->Row(id='portable')\\nRow(id='Webcam')-Row(src='Webcam', dst='affordable', rel='mention')->Row(id='affordable')\\nRow(id='Chris')-Row(src='Chris', dst='affordable', rel='mention')->Row(id='affordable')\\nRow(id='Notebook')-Row(src='Notebook', dst='Personal Computer', rel='belongs_to_category')->Row(id='Personal Computer')\\nRow(id='Webcam')-Row(src='Webcam', dst='Logitech', rel='belongs_to_brand')->Row(id='Logitech')\\nRow(id='Mouse')-Row(src='Mouse', dst='Logitech', rel='belongs_to_brand')->Row(id='Logitech')\\nRow(id='Keyboard')-Row(src='Keyboard', dst='Logitech', rel='belongs_to_brand')->Row(id='Logitech')\\nRow(id='USB Drive')-Row(src='USB Drive', dst='SanDisk', rel='belongs_to_brand')->Row(id='SanDisk')\\nRow(id='Router')-Row(src='Router', dst='speed', rel='mention')->Row(id='speed')\\nRow(id='David')-Row(src='David', dst='speed', rel='mention')->Row(id='speed')\""
            ],
            "application/vnd.google.colaboratory.intrinsic+json": {
              "type": "string"
            }
          },
          "metadata": {},
          "execution_count": 20
        }
      ],
      "source": [
        "triplets_list = triplets.collect()\n",
        "formatted_triplets = \"\\n\".join([\"{}-{}->{}\".format(row.src, row.rel, row.dst) for row in triplets_list])\n",
        "formatted_triplets"
      ],
      "id": "mdTJrldTP7fA"
    },
    {
      "cell_type": "code",
      "source": [
        "import os\n",
        "os.environ['OPENAI_API_KEY'] = '<YOUR_OPENAI_API_KEY>'"
      ],
      "metadata": {
        "id": "TUd7E91NzWEa"
      },
      "id": "TUd7E91NzWEa",
      "execution_count": 21,
      "outputs": []
    },
    {
      "cell_type": "code",
      "source": [
        "import openai\n",
        "openai.api_key=\"<YOUR_OPENAI_API_KEY>\""
      ],
      "metadata": {
        "id": "DWYoFDMvjin3"
      },
      "id": "DWYoFDMvjin3",
      "execution_count": 22,
      "outputs": []
    },
    {
      "cell_type": "code",
      "source": [
        "messages = [\n",
        "    {\"role\": \"system\", \"content\": \"You are a helpful assistant.\"},\n",
        "    {\"role\": \"user\", \"content\": f\"Consider the following relationships represented as triplets:\\n{formatted_triplets}\"},\n",
        "    {\"role\": \"user\", \"content\": \"Who bought a notebook?\"}\n",
        "]"
      ],
      "metadata": {
        "id": "pkRwWbWpjqZv"
      },
      "id": "pkRwWbWpjqZv",
      "execution_count": 23,
      "outputs": []
    },
    {
      "cell_type": "code",
      "source": [
        "response = openai.chat.completions.create(\n",
        "  model=\"gpt-4\",\n",
        "  messages=messages\n",
        ")\n",
        "print(response.choices[0].message.content.strip())"
      ],
      "metadata": {
        "id": "KFvf9cQkv5nn",
        "colab": {
          "base_uri": "https://localhost:8080/"
        },
        "outputId": "ca8a5802-c60c-4df9-a898-62925b2045d1"
      },
      "id": "KFvf9cQkv5nn",
      "execution_count": 24,
      "outputs": [
        {
          "output_type": "stream",
          "name": "stdout",
          "text": [
            "According to the triplets, the person who bought a notebook is 'David'.\n"
          ]
        }
      ]
    },
    {
      "cell_type": "code",
      "source": [
        "print(response)"
      ],
      "metadata": {
        "id": "6r986AIHhLGz",
        "colab": {
          "base_uri": "https://localhost:8080/"
        },
        "outputId": "81153df3-ecab-4f3e-b56b-ee947f19a3c8"
      },
      "id": "6r986AIHhLGz",
      "execution_count": 25,
      "outputs": [
        {
          "output_type": "stream",
          "name": "stdout",
          "text": [
            "ChatCompletion(id='chatcmpl-8UGLAXpxAAtMXnX1N9X5zAvkeRT1E', choices=[Choice(finish_reason='stop', index=0, message=ChatCompletionMessage(content=\"According to the triplets, the person who bought a notebook is 'David'.\", role='assistant', function_call=None, tool_calls=None))], created=1702223344, model='gpt-4-0613', object='chat.completion', system_fingerprint=None, usage=CompletionUsage(completion_tokens=16, prompt_tokens=1908, total_tokens=1924))\n"
          ]
        }
      ]
    },
    {
      "cell_type": "code",
      "source": [
        "messages = [\n",
        "    {\"role\": \"system\", \"content\": \"You are a helpful assistant.\"},\n",
        "    {\"role\": \"user\", \"content\": f\"Consider the following relationships represented as triplets:\\n{formatted_triplets}\"},\n",
        "    {\"role\": \"user\", \"content\": \"David bought anything else?\"}\n",
        "]"
      ],
      "metadata": {
        "id": "TiwqfBXtEevd"
      },
      "id": "TiwqfBXtEevd",
      "execution_count": 26,
      "outputs": []
    },
    {
      "cell_type": "code",
      "source": [
        "response = openai.chat.completions.create(\n",
        "  model=\"gpt-4\",\n",
        "  messages=messages\n",
        ")\n",
        "print(response.choices[0].message.content.strip())"
      ],
      "metadata": {
        "id": "U33WmynIEjH2",
        "colab": {
          "base_uri": "https://localhost:8080/"
        },
        "outputId": "73446b4d-ba69-429c-abb3-5060fb814b54"
      },
      "id": "U33WmynIEjH2",
      "execution_count": 27,
      "outputs": [
        {
          "output_type": "stream",
          "name": "stdout",
          "text": [
            "Based on the provided data, the only purchase made by 'David' is a 'Notebook'. There is no other information to suggest that 'David' bought anything else.\n"
          ]
        }
      ]
    },
    {
      "cell_type": "code",
      "source": [
        "print(response)"
      ],
      "metadata": {
        "id": "MCBzc8aMnpY0",
        "colab": {
          "base_uri": "https://localhost:8080/"
        },
        "outputId": "323753d5-7ec1-467f-8884-0afbc8739d9f"
      },
      "id": "MCBzc8aMnpY0",
      "execution_count": 31,
      "outputs": [
        {
          "output_type": "stream",
          "name": "stdout",
          "text": [
            "ChatCompletion(id='chatcmpl-8UGLD42R7GVnXzEJN1ZHMbIUnODrB', choices=[Choice(finish_reason='stop', index=0, message=ChatCompletionMessage(content=\"Based on the relationships given, we see that David has previously bought a 'Notebook'. Considering the items that are typically viewed or bought together with a 'Notebook' from the relationships, David could likely buy:\\n\\n1. A 'Router': As evident from the relationships where 'Notebook' is the source and 'Router' is mentioned under 'also_view' and 'also_buy'. \\n\\n2. A 'Mouse': As evident from the relationship where 'Notebook' is the source and 'Mouse' is mentioned under 'also_buy'.\\n\\n3. A 'Printer': As evident from the relationship where 'Notebook' is the source and 'Printer' is mentioned under 'also_buy'.\\n   \\nSo, other products that David could consider buying are a 'Router', 'Mouse', and 'Printer'.\", role='assistant', function_call=None, tool_calls=None))], created=1702223347, model='gpt-4-0613', object='chat.completion', system_fingerprint=None, usage=CompletionUsage(completion_tokens=161, prompt_tokens=1918, total_tokens=2079))\n"
          ]
        }
      ]
    },
    {
      "cell_type": "code",
      "source": [
        "messages = [\n",
        "    {\"role\": \"system\", \"content\": \"You are a helpful assistant.\"},\n",
        "    {\"role\": \"user\", \"content\": f\"Consider the following relationships represented as triplets:\\n{formatted_triplets}\"},\n",
        "    {\"role\": \"user\", \"content\": \"Consider that the relation 'also_buy' means that there are at minimum five ocurrences that a person that bought a product also bought the other product too.\"},\n",
        "    {\"role\": \"user\", \"content\": \"Consider that the relation 'also_view' means that there are at minimum one ocurrence that a person that viewd a product also viewed the other product too.\"},\n",
        "    {\"role\": \"user\", \"content\": \"Consider that if a person has bought a product that participates in a relation 'also_buy' with other products, there is a high probability for this person to buy these other products.\"},\n",
        "    {\"role\": \"user\", \"content\": \"Consider that if a person has bought a product that participates in a relation 'also_view' with other products, there is a medium probability for this person to buy these other products.\"},\n",
        "    {\"role\": \"user\", \"content\": \"Consider that if a person has bought a product that participates in a relation 'belongs_to_brand' with some brand, there is a medium probability for this person to buy other products from the same brand.\"},\n",
        "    {\"role\": \"user\", \"content\": \"Consider that if a person has bought a product that participates in a relation 'belongs_to_category' with some category, there is a low probability for this person to buy other products from the same category.\"},\n",
        "    {\"role\": \"user\", \"content\": \"Based on products bought or viewed together, What other products David could buy? Present the probabilities for each product. Order the recommendations from high to low.\"}\n",
        "]"
      ],
      "metadata": {
        "id": "TJHB2prSWHZ3"
      },
      "id": "TJHB2prSWHZ3",
      "execution_count": 32,
      "outputs": []
    },
    {
      "cell_type": "code",
      "source": [
        "response = openai.chat.completions.create(\n",
        "  model=\"gpt-4\",\n",
        "  messages=messages\n",
        ")\n",
        "print(response.choices[0].message.content.strip())"
      ],
      "metadata": {
        "id": "ZV3J_UPjWEcB",
        "colab": {
          "base_uri": "https://localhost:8080/"
        },
        "outputId": "864adc46-b57d-497c-b5ca-e97e01a8e29c"
      },
      "id": "ZV3J_UPjWEcB",
      "execution_count": 33,
      "outputs": [
        {
          "output_type": "stream",
          "name": "stdout",
          "text": [
            "Based on the data available and considering only the direct relationships, here are the possible recommendations for David.\n",
            "\n",
            "David bought a 'Notebook'. Looking at the relationships involving a 'Notebook', people who buy a Notebook also:\n",
            "\n",
            "1. Buy a 'Router'.\n",
            "2. Buy a 'Mouse'.\n",
            "3. Buy a 'Printer'.\n",
            "4. View a 'Router'.\n",
            "5. View a 'Mouse'.\n",
            "\n",
            "Therefore, the products with the highest probability (as defined by the also_buy relationship) would be 'Router', 'Mouse', and 'Printer'. The products with a medium probability (as defined by the also_view relationship) would be 'Router', 'Mouse'. Keep in mind that 'Router' and 'Mouse' appears twice which might increase their overall probability.\n",
            "\n",
            "Additionally, the Notebook 'belongs_to_brand' HP and 'belongs_to_category' Personal Computer, which could imply a medium and low probability to buy other products from the brand 'HP' and category 'Personal Computer', respectively. \n",
            "\n",
            "Note: This analysis is qualitative and relative to the defined \"high\", \"medium\", and \"low\" probabilities. A more precise analysis would require specific numerical probabilities for each type of relationship. \n",
            "\n",
            "Below is a simplified numerical representation without considering the double mention for 'Router' and 'Mouse':\n",
            "\n",
            "1. Router: High \n",
            "2. Mouse: High\n",
            "3. Printer: High\n",
            "4. HP Products: Medium\n",
            "5. Personal Computer Category Products: Low\n"
          ]
        }
      ]
    },
    {
      "cell_type": "code",
      "source": [
        "messages = [\n",
        "    {\"role\": \"system\", \"content\": \"You are a helpful assistant.\"},\n",
        "    {\"role\": \"user\", \"content\": f\"Consider the following relationships represented as triplets:\\n{formatted_triplets}\"},\n",
        "    {\"role\": \"user\", \"content\": \"Consider that the relation 'also_buy' means that there are at minimum five ocurrences that a person that bought a product also bought the other product too.\"},\n",
        "    {\"role\": \"user\", \"content\": \"Consider that the relation 'also_view' means that there are at minimum one ocurrence that a person that viewd a product also viewed the other product too.\"},\n",
        "    {\"role\": \"user\", \"content\": \"Consider that if a person has bought a product that participates in a relation 'also_buy' with other products, there is a high probability for this person to buy these other products.\"},\n",
        "    {\"role\": \"user\", \"content\": \"Consider that if a person has bought a product that participates in a relation 'also_view' with other products, there is a medium probability for this person to buy these other products.\"},\n",
        "    {\"role\": \"user\", \"content\": \"Consider that if a person has bought a product that participates in a relation 'belongs_to_brand' with some brand, there is a medium probability for this person to buy other products from the same brand.\"},\n",
        "    {\"role\": \"user\", \"content\": \"Consider that if a person has bought a product that participates in a relation 'belongs_to_category' with some category, there is a low probability for this person to buy other products from the same category.\"},\n",
        "    {\"role\": \"user\", \"content\": \"For all the persons in the provided data, list all the high probabilities for a person to buy a product. \"}\n",
        "]"
      ],
      "metadata": {
        "id": "Lmu_U47tbhnR"
      },
      "id": "Lmu_U47tbhnR",
      "execution_count": 34,
      "outputs": []
    },
    {
      "cell_type": "code",
      "source": [
        "response = openai.chat.completions.create(\n",
        "  model=\"gpt-4\",\n",
        "  messages=messages\n",
        ")\n",
        "print(response.choices[0].message.content.strip())"
      ],
      "metadata": {
        "id": "1px4TGdib73l",
        "colab": {
          "base_uri": "https://localhost:8080/"
        },
        "outputId": "54890ea6-0752-4c04-9f9a-ed1b08164e01"
      },
      "id": "1px4TGdib73l",
      "execution_count": 35,
      "outputs": [
        {
          "output_type": "stream",
          "name": "stdout",
          "text": [
            "Here are all the high probabilities of a person buying a product depending on what products they have already purchased:\n",
            "\n",
            "1. Sophia is highly likely to buy a Router. This is because persons who bought a USB Drive, which Sophia purchased, are also likely to buy a Router. \n",
            "\n",
            "2. Alice is highly likely to buy a Headset. This is because persons who bought a Tablet, which Alice purchased, are also likely to buy a Headset.\n",
            "\n",
            "3. John is highly likely to buy a Headset. This is because persons who bought a Smartphone, which John purchased, are also likely to buy a Headset. Besides, he might also buy a Keyboard since it is often bought with a Tablet.\n",
            "\n",
            "4. Eva is highly likely to buy a Smartphone or a Tablet. This is because persons who bought a Headset, which Eva purchased, are also likely to buy a Smartphone or a Tablet.\n",
            "\n",
            "5. Chris is highly likely to buy a Keyboard. This is because persons who bought a Webcam, which Chris purchased, also often view a Keyboard.\n",
            "\n",
            "6. Liam is more likely to purchase a Notebook. This is because people who bought a Mouse also often bought a Notebook.\n",
            "\n",
            "7. David is highly likely to buy a Mouse and a Printer. This is because people who bought a Notebook, like David, often also bought these devices.\n",
            "\n",
            "8. Alice is also likely to buy a Keyboard. This is because persons who bought a Tablet, which Alice purchased, are also likely to buy a Keyboard.\n",
            "\n",
            "9. Emma is highly likely to buy a Smartphone or a Tablet. This continues since persons who bought a Keyboard, like Emma, usually also view a Smartphone or a Tablet.\n",
            "\n",
            "10. Maria is highly likely to buy a Router. That's because Router is often bought by those who purchased a Monitor, like Maria.\n",
            "\n",
            "11. Tom is likely to buy a Router because a Router is often bought by those who bought an SSD, the product Tom purchased. \n",
            "\n",
            "Please note that this analysis is based on the assumption that a person is more likely to buy products that were also purchased by others who bought the same item as them. This doesn't factor in individual pan preferences or requirements.\n"
          ]
        }
      ]
    },
    {
      "cell_type": "code",
      "source": [
        "messages = [\n",
        "    {\"role\": \"system\", \"content\": \"You are a helpful assistant.\"},\n",
        "    {\"role\": \"user\", \"content\": f\"Consider the following relationships represented as triplets:\\n{formatted_triplets}\"},\n",
        "    {\"role\": \"user\", \"content\": \"Consider that the relation 'also_buy' means that there are at minimum five ocurrences that a person that bought a product also bought the other product too.\"},\n",
        "    {\"role\": \"user\", \"content\": \"Consider that the relation 'also_view' means that there are at minimum one ocurrence that a person that viewd a product also viewed the other product too.\"},\n",
        "    {\"role\": \"user\", \"content\": \"Consider that if a person has bought a product that participates in a relation 'also_buy' with other products, there is a high probability for this person to buy these other products.\"},\n",
        "    {\"role\": \"user\", \"content\": \"Consider that if a person has bought a product that participates in a relation 'also_view' with other products, there is a medium probability for this person to buy these other products.\"},\n",
        "    {\"role\": \"user\", \"content\": \"Consider that if a person has bought a product that participates in a relation 'belongs_to_brand' with some brand, there is a medium probability for this person to buy other products from the same brand.\"},\n",
        "    {\"role\": \"user\", \"content\": \"Consider that if a person has bought a product that participates in a relation 'belongs_to_category' with some category, there is a low probability for this person to buy other products from the same category.\"},\n",
        "    {\"role\": \"user\", \"content\": \"Considering the purchasing patterns and relationships present in the data, which product would be the most suitable candidate for a promotional discount to achieve the highest probability of increased sales?\"}\n",
        "]"
      ],
      "metadata": {
        "id": "FfXvFqAPZeMI"
      },
      "id": "FfXvFqAPZeMI",
      "execution_count": 36,
      "outputs": []
    },
    {
      "cell_type": "code",
      "source": [
        "response = openai.chat.completions.create(\n",
        "  model=\"gpt-4\",\n",
        "  messages=messages\n",
        ")\n",
        "print(response.choices[0].message.content.strip())"
      ],
      "metadata": {
        "id": "ywIvc_9-Z5-y",
        "colab": {
          "base_uri": "https://localhost:8080/"
        },
        "outputId": "62f8ad3f-2cf4-48ea-8f56-89d527897e82"
      },
      "id": "ywIvc_9-Z5-y",
      "execution_count": 37,
      "outputs": [
        {
          "output_type": "stream",
          "name": "stdout",
          "text": [
            "Based on the given data, the 'Notebook' could be a suitable candidate for a promotional discount. This product maintains an 'also_buy' relationship with multiple other products, like 'Router', 'Mouse', and 'Printer'. Additionally, it has 'also_view' and 'belongs_to_category' relationships. So, it is likely that customers who purchase the 'Notebook' may also consider buying these related products. Offering a promotional discount on the 'Notebook' could encourage more purchases of this product, which in turn could potentially increase sales of the related items. Furthermore, the 'Notebook' is linked to the 'HP' brand. Customers loyal to this brand may be enticed by this promotion and end up buying additional HP products.\n"
          ]
        }
      ]
    }
  ],
  "metadata": {
    "colab": {
      "provenance": []
    },
    "kernelspec": {
      "display_name": "Python 3",
      "language": "python",
      "name": "python3"
    },
    "language_info": {
      "codemirror_mode": {
        "name": "ipython",
        "version": 3
      },
      "file_extension": ".py",
      "mimetype": "text/x-python",
      "name": "python",
      "nbconvert_exporter": "python",
      "pygments_lexer": "ipython3",
      "version": "3.8.15"
    }
  },
  "nbformat": 4,
  "nbformat_minor": 5
}